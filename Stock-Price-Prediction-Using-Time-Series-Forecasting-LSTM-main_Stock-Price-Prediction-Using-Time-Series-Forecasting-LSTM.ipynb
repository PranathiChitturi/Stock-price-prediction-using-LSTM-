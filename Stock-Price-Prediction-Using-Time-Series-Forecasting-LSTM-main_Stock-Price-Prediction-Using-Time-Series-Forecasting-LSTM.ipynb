{
  "nbformat": 4,
  "nbformat_minor": 0,
  "metadata": {
    "colab": {
      "name": "miniproject.ipynb",
      "provenance": [],
      "collapsed_sections": []
    },
    "kernelspec": {
      "display_name": "Python 3",
      "name": "python3"
    }
  },
  "cells": [
    {
      "cell_type": "code",
      "metadata": {
        "id": "ww3PX9nb-zch"
      },
      "source": [
        "import pandas as pd\n",
        "import numpy as np\n"
      ],
      "execution_count": null,
      "outputs": []
    },
    {
      "cell_type": "code",
      "metadata": {
        "id": "VG6zYcEUGSm6",
        "outputId": "203dedad-8668-4030-887e-21d738651842",
        "colab": {
          "resources": {
            "http://localhost:8080/nbextensions/google.colab/files.js": {
              "data": "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",
              "ok": true,
              "headers": [
                [
                  "content-type",
                  "application/javascript"
                ]
              ],
              "status": 200,
              "status_text": ""
            }
          },
          "base_uri": "https://localhost:8080/",
          "height": 72
        }
      },
      "source": [
        "from google.colab import files\n",
        "uploaded = files.upload()"
      ],
      "execution_count": null,
      "outputs": [
        {
          "output_type": "display_data",
          "data": {
            "text/html": [
              "\n",
              "     <input type=\"file\" id=\"files-b6011426-5a9f-4f19-9ac5-c7d57b710e75\" name=\"files[]\" multiple disabled\n",
              "        style=\"border:none\" />\n",
              "     <output id=\"result-b6011426-5a9f-4f19-9ac5-c7d57b710e75\">\n",
              "      Upload widget is only available when the cell has been executed in the\n",
              "      current browser session. Please rerun this cell to enable.\n",
              "      </output>\n",
              "      <script src=\"/nbextensions/google.colab/files.js\"></script> "
            ],
            "text/plain": [
              "<IPython.core.display.HTML object>"
            ]
          },
          "metadata": {
            "tags": []
          }
        },
        {
          "output_type": "stream",
          "text": [
            "Saving IBM.csv to IBM.csv\n"
          ],
          "name": "stdout"
        }
      ]
    },
    {
      "cell_type": "code",
      "metadata": {
        "id": "rcrf6llgIa0M"
      },
      "source": [
        "data=pd.read_csv('IBM.csv')"
      ],
      "execution_count": null,
      "outputs": []
    },
    {
      "cell_type": "code",
      "metadata": {
        "id": "0hjFkvENIdnj",
        "outputId": "a30692fb-233c-48ee-a788-7f6567c804e1",
        "colab": {
          "base_uri": "https://localhost:8080/",
          "height": 204
        }
      },
      "source": [
        "data.head()"
      ],
      "execution_count": null,
      "outputs": [
        {
          "output_type": "execute_result",
          "data": {
            "text/html": [
              "<div>\n",
              "<style scoped>\n",
              "    .dataframe tbody tr th:only-of-type {\n",
              "        vertical-align: middle;\n",
              "    }\n",
              "\n",
              "    .dataframe tbody tr th {\n",
              "        vertical-align: top;\n",
              "    }\n",
              "\n",
              "    .dataframe thead th {\n",
              "        text-align: right;\n",
              "    }\n",
              "</style>\n",
              "<table border=\"1\" class=\"dataframe\">\n",
              "  <thead>\n",
              "    <tr style=\"text-align: right;\">\n",
              "      <th></th>\n",
              "      <th>Date</th>\n",
              "      <th>Open</th>\n",
              "      <th>High</th>\n",
              "      <th>Low</th>\n",
              "      <th>Close</th>\n",
              "      <th>Adj Close</th>\n",
              "      <th>Volume</th>\n",
              "    </tr>\n",
              "  </thead>\n",
              "  <tbody>\n",
              "    <tr>\n",
              "      <th>0</th>\n",
              "      <td>2015-10-26</td>\n",
              "      <td>144.750000</td>\n",
              "      <td>145.000000</td>\n",
              "      <td>143.210007</td>\n",
              "      <td>143.660004</td>\n",
              "      <td>115.042992</td>\n",
              "      <td>3489400</td>\n",
              "    </tr>\n",
              "    <tr>\n",
              "      <th>1</th>\n",
              "      <td>2015-10-27</td>\n",
              "      <td>143.509995</td>\n",
              "      <td>143.830002</td>\n",
              "      <td>137.330002</td>\n",
              "      <td>137.860001</td>\n",
              "      <td>110.398384</td>\n",
              "      <td>15008500</td>\n",
              "    </tr>\n",
              "    <tr>\n",
              "      <th>2</th>\n",
              "      <td>2015-10-28</td>\n",
              "      <td>137.919998</td>\n",
              "      <td>141.229996</td>\n",
              "      <td>137.500000</td>\n",
              "      <td>140.830002</td>\n",
              "      <td>112.776749</td>\n",
              "      <td>8511400</td>\n",
              "    </tr>\n",
              "    <tr>\n",
              "      <th>3</th>\n",
              "      <td>2015-10-29</td>\n",
              "      <td>140.360001</td>\n",
              "      <td>140.820007</td>\n",
              "      <td>139.020004</td>\n",
              "      <td>140.550003</td>\n",
              "      <td>112.552536</td>\n",
              "      <td>3710400</td>\n",
              "    </tr>\n",
              "    <tr>\n",
              "      <th>4</th>\n",
              "      <td>2015-10-30</td>\n",
              "      <td>140.440002</td>\n",
              "      <td>141.330002</td>\n",
              "      <td>139.899994</td>\n",
              "      <td>140.080002</td>\n",
              "      <td>112.176132</td>\n",
              "      <td>3984000</td>\n",
              "    </tr>\n",
              "  </tbody>\n",
              "</table>\n",
              "</div>"
            ],
            "text/plain": [
              "         Date        Open        High  ...       Close   Adj Close    Volume\n",
              "0  2015-10-26  144.750000  145.000000  ...  143.660004  115.042992   3489400\n",
              "1  2015-10-27  143.509995  143.830002  ...  137.860001  110.398384  15008500\n",
              "2  2015-10-28  137.919998  141.229996  ...  140.830002  112.776749   8511400\n",
              "3  2015-10-29  140.360001  140.820007  ...  140.550003  112.552536   3710400\n",
              "4  2015-10-30  140.440002  141.330002  ...  140.080002  112.176132   3984000\n",
              "\n",
              "[5 rows x 7 columns]"
            ]
          },
          "metadata": {
            "tags": []
          },
          "execution_count": 4
        }
      ]
    },
    {
      "cell_type": "code",
      "metadata": {
        "id": "rBxOep6CIkwC",
        "outputId": "d627b15c-d515-46e7-f068-e3a50aa2c09a",
        "colab": {
          "base_uri": "https://localhost:8080/",
          "height": 204
        }
      },
      "source": [
        "data.tail()"
      ],
      "execution_count": null,
      "outputs": [
        {
          "output_type": "execute_result",
          "data": {
            "text/html": [
              "<div>\n",
              "<style scoped>\n",
              "    .dataframe tbody tr th:only-of-type {\n",
              "        vertical-align: middle;\n",
              "    }\n",
              "\n",
              "    .dataframe tbody tr th {\n",
              "        vertical-align: top;\n",
              "    }\n",
              "\n",
              "    .dataframe thead th {\n",
              "        text-align: right;\n",
              "    }\n",
              "</style>\n",
              "<table border=\"1\" class=\"dataframe\">\n",
              "  <thead>\n",
              "    <tr style=\"text-align: right;\">\n",
              "      <th></th>\n",
              "      <th>Date</th>\n",
              "      <th>Open</th>\n",
              "      <th>High</th>\n",
              "      <th>Low</th>\n",
              "      <th>Close</th>\n",
              "      <th>Adj Close</th>\n",
              "      <th>Volume</th>\n",
              "    </tr>\n",
              "  </thead>\n",
              "  <tbody>\n",
              "    <tr>\n",
              "      <th>1254</th>\n",
              "      <td>2020-10-19</td>\n",
              "      <td>126.800003</td>\n",
              "      <td>127.349998</td>\n",
              "      <td>125.080002</td>\n",
              "      <td>125.519997</td>\n",
              "      <td>125.519997</td>\n",
              "      <td>7478700</td>\n",
              "    </tr>\n",
              "    <tr>\n",
              "      <th>1255</th>\n",
              "      <td>2020-10-20</td>\n",
              "      <td>119.800003</td>\n",
              "      <td>120.150002</td>\n",
              "      <td>116.839996</td>\n",
              "      <td>117.370003</td>\n",
              "      <td>117.370003</td>\n",
              "      <td>21501100</td>\n",
              "    </tr>\n",
              "    <tr>\n",
              "      <th>1256</th>\n",
              "      <td>2020-10-21</td>\n",
              "      <td>116.660004</td>\n",
              "      <td>117.690002</td>\n",
              "      <td>114.790001</td>\n",
              "      <td>115.059998</td>\n",
              "      <td>115.059998</td>\n",
              "      <td>9755300</td>\n",
              "    </tr>\n",
              "    <tr>\n",
              "      <th>1257</th>\n",
              "      <td>2020-10-22</td>\n",
              "      <td>115.000000</td>\n",
              "      <td>116.059998</td>\n",
              "      <td>112.980003</td>\n",
              "      <td>115.760002</td>\n",
              "      <td>115.760002</td>\n",
              "      <td>7855800</td>\n",
              "    </tr>\n",
              "    <tr>\n",
              "      <th>1258</th>\n",
              "      <td>2020-10-23</td>\n",
              "      <td>116.500000</td>\n",
              "      <td>116.620003</td>\n",
              "      <td>115.529999</td>\n",
              "      <td>116.000000</td>\n",
              "      <td>116.000000</td>\n",
              "      <td>3890800</td>\n",
              "    </tr>\n",
              "  </tbody>\n",
              "</table>\n",
              "</div>"
            ],
            "text/plain": [
              "            Date        Open        High  ...       Close   Adj Close    Volume\n",
              "1254  2020-10-19  126.800003  127.349998  ...  125.519997  125.519997   7478700\n",
              "1255  2020-10-20  119.800003  120.150002  ...  117.370003  117.370003  21501100\n",
              "1256  2020-10-21  116.660004  117.690002  ...  115.059998  115.059998   9755300\n",
              "1257  2020-10-22  115.000000  116.059998  ...  115.760002  115.760002   7855800\n",
              "1258  2020-10-23  116.500000  116.620003  ...  116.000000  116.000000   3890800\n",
              "\n",
              "[5 rows x 7 columns]"
            ]
          },
          "metadata": {
            "tags": []
          },
          "execution_count": 5
        }
      ]
    },
    {
      "cell_type": "code",
      "metadata": {
        "id": "0PNn8-2bIo4h",
        "outputId": "b885241a-9151-488b-e0ae-f20c5f89c289",
        "colab": {
          "base_uri": "https://localhost:8080/"
        }
      },
      "source": [
        "data.all(axis='rows')"
      ],
      "execution_count": null,
      "outputs": [
        {
          "output_type": "execute_result",
          "data": {
            "text/plain": [
              "Date         True\n",
              "Open         True\n",
              "High         True\n",
              "Low          True\n",
              "Close        True\n",
              "Adj Close    True\n",
              "Volume       True\n",
              "dtype: bool"
            ]
          },
          "metadata": {
            "tags": []
          },
          "execution_count": 6
        }
      ]
    },
    {
      "cell_type": "code",
      "metadata": {
        "id": "D9kXSI-LI6Ey",
        "outputId": "06764444-0cf9-4414-ab2d-d7e7d7c5ff46",
        "colab": {
          "base_uri": "https://localhost:8080/"
        }
      },
      "source": [
        "print(data)"
      ],
      "execution_count": null,
      "outputs": [
        {
          "output_type": "stream",
          "text": [
            "            Date        Open        High  ...       Close   Adj Close    Volume\n",
            "0     2015-10-26  144.750000  145.000000  ...  143.660004  115.042992   3489400\n",
            "1     2015-10-27  143.509995  143.830002  ...  137.860001  110.398384  15008500\n",
            "2     2015-10-28  137.919998  141.229996  ...  140.830002  112.776749   8511400\n",
            "3     2015-10-29  140.360001  140.820007  ...  140.550003  112.552536   3710400\n",
            "4     2015-10-30  140.440002  141.330002  ...  140.080002  112.176132   3984000\n",
            "...          ...         ...         ...  ...         ...         ...       ...\n",
            "1254  2020-10-19  126.800003  127.349998  ...  125.519997  125.519997   7478700\n",
            "1255  2020-10-20  119.800003  120.150002  ...  117.370003  117.370003  21501100\n",
            "1256  2020-10-21  116.660004  117.690002  ...  115.059998  115.059998   9755300\n",
            "1257  2020-10-22  115.000000  116.059998  ...  115.760002  115.760002   7855800\n",
            "1258  2020-10-23  116.500000  116.620003  ...  116.000000  116.000000   3890800\n",
            "\n",
            "[1259 rows x 7 columns]\n"
          ],
          "name": "stdout"
        }
      ]
    },
    {
      "cell_type": "code",
      "metadata": {
        "id": "RWrph5QcOhgn",
        "outputId": "23f4c661-9cec-4a0b-8a64-cbcbbc500702",
        "colab": {
          "base_uri": "https://localhost:8080/"
        }
      },
      "source": [
        "data.shape"
      ],
      "execution_count": null,
      "outputs": [
        {
          "output_type": "execute_result",
          "data": {
            "text/plain": [
              "(1259, 7)"
            ]
          },
          "metadata": {
            "tags": []
          },
          "execution_count": 8
        }
      ]
    },
    {
      "cell_type": "code",
      "metadata": {
        "id": "SBjAnTUWPgEe",
        "outputId": "b43f650f-2bbb-4087-a531-a65aa053477f",
        "colab": {
          "base_uri": "https://localhost:8080/"
        }
      },
      "source": [
        "df=data.reset_index()['Close']\n",
        "df.fillna(df.median()) \n",
        "print(df)"
      ],
      "execution_count": null,
      "outputs": [
        {
          "output_type": "stream",
          "text": [
            "0       143.660004\n",
            "1       137.860001\n",
            "2       140.830002\n",
            "3       140.550003\n",
            "4       140.080002\n",
            "           ...    \n",
            "1254    125.519997\n",
            "1255    117.370003\n",
            "1256    115.059998\n",
            "1257    115.760002\n",
            "1258    116.000000\n",
            "Name: Close, Length: 1259, dtype: float64\n"
          ],
          "name": "stdout"
        }
      ]
    },
    {
      "cell_type": "code",
      "metadata": {
        "id": "jRSlywbRmkmS"
      },
      "source": [
        "import matplotlib.pyplot as plt"
      ],
      "execution_count": null,
      "outputs": []
    },
    {
      "cell_type": "code",
      "metadata": {
        "id": "eGDt63tCOxIx",
        "outputId": "5a0db05a-bf64-4d66-e05b-4e4016ced7af",
        "colab": {
          "base_uri": "https://localhost:8080/",
          "height": 409
        }
      },
      "source": [
        "plt.figure(figsize = (12,6))\n",
        "plt.title('Close Price History')\n",
        "plt.plot(data['Close'])\n",
        "plt.xlabel('Data', fontsize = 15)\n",
        "plt.ylabel('Close price USD ($)', fontsize = 15)\n",
        "plt.show()"
      ],
      "execution_count": null,
      "outputs": [
        {
          "output_type": "display_data",
          "data": {
            "image/png": "[encoded data removed]",
            "text/plain": [
              "<Figure size 864x432 with 1 Axes>"
            ]
          },
          "metadata": {
            "tags": [],
            "needs_background": "light"
          }
        }
      ]
    },
    {
      "cell_type": "code",
      "metadata": {
        "id": "oKSrDJbgalJf"
      },
      "source": [
        "from sklearn.preprocessing import MinMaxScaler\n",
        "scale=MinMaxScaler(feature_range=(0,1))\n",
        "df=scale.fit_transform(np.array(df).reshape(-1,1))"
      ],
      "execution_count": null,
      "outputs": []
    },
    {
      "cell_type": "code",
      "metadata": {
        "id": "33hIwsy9at9q",
        "outputId": "a805bef0-2c6c-4700-83b0-e707536e40ef",
        "colab": {
          "base_uri": "https://localhost:8080/"
        }
      },
      "source": [
        "print(df)"
      ],
      "execution_count": null,
      "outputs": [
        {
          "output_type": "stream",
          "text": [
            "[[0.56079384]\n",
            " [0.49426479]\n",
            " [0.52833224]\n",
            " ...\n",
            " [0.23273688]\n",
            " [0.24076629]\n",
            " [0.24351919]]\n"
          ],
          "name": "stdout"
        }
      ]
    },
    {
      "cell_type": "code",
      "metadata": {
        "id": "7koumsDdfYF-"
      },
      "source": [
        "training_size=int(len(df)*0.80)\n",
        "test_size=len(df)-training_size\n",
        "train_data,test_data=df[0:training_size,:],df[training_size:len(df),:]"
      ],
      "execution_count": null,
      "outputs": []
    },
    {
      "cell_type": "code",
      "metadata": {
        "id": "JtjSOHVCo0Jz",
        "outputId": "1a80f356-beb0-401a-82ee-8109927bf490",
        "colab": {
          "base_uri": "https://localhost:8080/"
        }
      },
      "source": [
        "print(training_size,test_size)"
      ],
      "execution_count": null,
      "outputs": [
        {
          "output_type": "stream",
          "text": [
            "1007 252\n"
          ],
          "name": "stdout"
        }
      ]
    },
    {
      "cell_type": "code",
      "metadata": {
        "id": "g44uWCd-o7vq",
        "outputId": "26f1e1b1-6ee3-495e-e41b-fa6e9a07b8ee",
        "colab": {
          "base_uri": "https://localhost:8080/"
        }
      },
      "source": [
        "print(train_data)"
      ],
      "execution_count": null,
      "outputs": [
        {
          "output_type": "stream",
          "text": [
            "[[0.56079384]\n",
            " [0.49426479]\n",
            " [0.52833224]\n",
            " ...\n",
            " [0.44952982]\n",
            " [0.45434742]\n",
            " [0.45079158]]\n"
          ],
          "name": "stdout"
        }
      ]
    },
    {
      "cell_type": "code",
      "metadata": {
        "id": "jYZcrYmFpHe8",
        "outputId": "040f76f3-a8c8-45cb-d6b7-806e39d12bf1",
        "colab": {
          "base_uri": "https://localhost:8080/"
        }
      },
      "source": [
        "print(test_data)"
      ],
      "execution_count": null,
      "outputs": [
        {
          "output_type": "stream",
          "text": [
            "[[0.46650614]\n",
            " [0.4725855 ]\n",
            " [0.44792395]\n",
            " [0.46432671]\n",
            " [0.44689148]\n",
            " [0.46753845]\n",
            " [0.49208535]\n",
            " [0.49460888]\n",
            " [0.50481764]\n",
            " [0.49231481]\n",
            " [0.49139716]\n",
            " [0.46685024]\n",
            " [0.46822665]\n",
            " [0.45549437]\n",
            " [0.44998856]\n",
            " [0.4545767 ]\n",
            " [0.4535444 ]\n",
            " [0.45595328]\n",
            " [0.44081211]\n",
            " [0.44815323]\n",
            " [0.4538885 ]\n",
            " [0.4725855 ]\n",
            " [0.46249139]\n",
            " [0.44735039]\n",
            " [0.45515026]\n",
            " [0.43748574]\n",
            " [0.42842393]\n",
            " [0.42693287]\n",
            " [0.42601522]\n",
            " [0.44104157]\n",
            " [0.4490709 ]\n",
            " [0.44895626]\n",
            " [0.44723558]\n",
            " [0.46512973]\n",
            " [0.45239745]\n",
            " [0.45147979]\n",
            " [0.45251209]\n",
            " [0.45469152]\n",
            " [0.45641203]\n",
            " [0.46822665]\n",
            " [0.46776791]\n",
            " [0.46122963]\n",
            " [0.46042678]\n",
            " [0.46455617]\n",
            " [0.43633862]\n",
            " [0.4504473 ]\n",
            " [0.46627668]\n",
            " [0.4538885 ]\n",
            " [0.45113568]\n",
            " [0.45216799]\n",
            " [0.46501492]\n",
            " [0.48141785]\n",
            " [0.48084429]\n",
            " [0.47981199]\n",
            " [0.47086499]\n",
            " [0.48004127]\n",
            " [0.49564119]\n",
            " [0.49942649]\n",
            " [0.50929113]\n",
            " [0.563432  ]\n",
            " [0.55173203]\n",
            " [0.52523516]\n",
            " [0.50298231]\n",
            " [0.51364999]\n",
            " [0.49231481]\n",
            " [0.48176195]\n",
            " [0.56159669]\n",
            " [0.5907319 ]\n",
            " [0.62330814]\n",
            " [0.70612532]\n",
            " [0.71105756]\n",
            " [0.67263142]\n",
            " [0.68433122]\n",
            " [0.67343426]\n",
            " [0.69442534]\n",
            " [0.68295482]\n",
            " [0.64154623]\n",
            " [0.64613454]\n",
            " [0.64338156]\n",
            " [0.64751094]\n",
            " [0.63168157]\n",
            " [0.59256706]\n",
            " [0.53842636]\n",
            " [0.51594406]\n",
            " [0.43977981]\n",
            " [0.40582699]\n",
            " [0.45342975]\n",
            " [0.39148884]\n",
            " [0.45251209]\n",
            " [0.39894478]\n",
            " [0.37806843]\n",
            " [0.26428081]\n",
            " [0.34411562]\n",
            " [0.26611613]\n",
            " [0.092223  ]\n",
            " [0.15118146]\n",
            " [0.049438  ]\n",
            " [0.13626984]\n",
            " [0.10071124]\n",
            " [0.06389079]\n",
            " [0.00711175]\n",
            " [0.        ]\n",
            " [0.12284935]\n",
            " [0.12709338]\n",
            " [0.20784586]\n",
            " [0.15209913]\n",
            " [0.20830469]\n",
            " [0.18536365]\n",
            " [0.11894932]\n",
            " [0.17469607]\n",
            " [0.13271391]\n",
            " [0.22998398]\n",
            " [0.23136046]\n",
            " [0.28125721]\n",
            " [0.30660705]\n",
            " [0.3025924 ]\n",
            " [0.33425106]\n",
            " [0.27437491]\n",
            " [0.24042218]\n",
            " [0.29077777]\n",
            " [0.29410423]\n",
            " [0.25223681]\n",
            " [0.28148659]\n",
            " [0.30488645]\n",
            " [0.34354214]\n",
            " [0.35730673]\n",
            " [0.3613214 ]\n",
            " [0.38908012]\n",
            " [0.35317735]\n",
            " [0.31085118]\n",
            " [0.30867175]\n",
            " [0.31899524]\n",
            " [0.3257628 ]\n",
            " [0.30351005]\n",
            " [0.32369811]\n",
            " [0.31910988]\n",
            " [0.29238363]\n",
            " [0.24042218]\n",
            " [0.25441615]\n",
            " [0.25476033]\n",
            " [0.30729526]\n",
            " [0.29272774]\n",
            " [0.30523056]\n",
            " [0.27930725]\n",
            " [0.27093372]\n",
            " [0.30958941]\n",
            " [0.35294797]\n",
            " [0.34136272]\n",
            " [0.34560685]\n",
            " [0.34549211]\n",
            " [0.3582244 ]\n",
            " [0.39320952]\n",
            " [0.39137419]\n",
            " [0.42773573]\n",
            " [0.47006198]\n",
            " [0.4255563 ]\n",
            " [0.40261526]\n",
            " [0.26657496]\n",
            " [0.31131001]\n",
            " [0.30832766]\n",
            " [0.34847448]\n",
            " [0.33700396]\n",
            " [0.33711869]\n",
            " [0.31773347]\n",
            " [0.30167473]\n",
            " [0.28263371]\n",
            " [0.24833679]\n",
            " [0.27827486]\n",
            " [0.25716913]\n",
            " [0.28653364]\n",
            " [0.29823354]\n",
            " [0.27265432]\n",
            " [0.28596008]\n",
            " [0.2915807 ]\n",
            " [0.26164264]\n",
            " [0.26313377]\n",
            " [0.24019273]\n",
            " [0.27047489]\n",
            " [0.28022482]\n",
            " [0.29628356]\n",
            " [0.32381284]\n",
            " [0.33539808]\n",
            " [0.34801565]\n",
            " [0.36246852]\n",
            " [0.35891261]\n",
            " [0.38885067]\n",
            " [0.37348021]\n",
            " [0.3558156 ]\n",
            " [0.3606332 ]\n",
            " [0.34067451]\n",
            " [0.35042444]\n",
            " [0.32266581]\n",
            " [0.32312463]\n",
            " [0.33883919]\n",
            " [0.35638907]\n",
            " [0.35191558]\n",
            " [0.35960089]\n",
            " [0.34629504]\n",
            " [0.37095669]\n",
            " [0.36682729]\n",
            " [0.36625373]\n",
            " [0.34709798]\n",
            " [0.34985088]\n",
            " [0.34033041]\n",
            " [0.34583621]\n",
            " [0.33344803]\n",
            " [0.32553344]\n",
            " [0.32564816]\n",
            " [0.35455383]\n",
            " [0.34262448]\n",
            " [0.33723332]\n",
            " [0.34273922]\n",
            " [0.34755681]\n",
            " [0.32736867]\n",
            " [0.32840107]\n",
            " [0.38323005]\n",
            " [0.34044506]\n",
            " [0.31578351]\n",
            " [0.30328059]\n",
            " [0.31532467]\n",
            " [0.29582474]\n",
            " [0.30614822]\n",
            " [0.31337462]\n",
            " [0.31738937]\n",
            " [0.33780688]\n",
            " [0.34583621]\n",
            " [0.32105993]\n",
            " [0.2922689 ]\n",
            " [0.29525126]\n",
            " [0.27598079]\n",
            " [0.26749253]\n",
            " [0.27735719]\n",
            " [0.30924531]\n",
            " [0.30018359]\n",
            " [0.30855702]\n",
            " [0.30190409]\n",
            " [0.29593947]\n",
            " [0.31245704]\n",
            " [0.31199821]\n",
            " [0.33608629]\n",
            " [0.42119761]\n",
            " [0.37875664]\n",
            " [0.37210372]\n",
            " [0.34790091]\n",
            " [0.35753619]\n",
            " [0.34549211]\n",
            " [0.35742146]\n",
            " [0.35271851]\n",
            " [0.25923384]\n",
            " [0.23273688]\n",
            " [0.24076629]\n",
            " [0.24351919]]\n"
          ],
          "name": "stdout"
        }
      ]
    },
    {
      "cell_type": "code",
      "metadata": {
        "id": "oqaIc2H7pNf2"
      },
      "source": [
        "def create_dataset(dataset,time_step):\n",
        "\tdataX, dataY = [], []\n",
        "\tfor i in range(len(dataset)-time_step-1):    \n",
        "\t\ta = dataset[i:(i+time_step),0]    \n",
        "\t\tdataX.append(a)\n",
        "\t\tdataY.append(dataset[i + time_step,0])\n",
        "\treturn np.array(dataX), np.array(dataY)"
      ],
      "execution_count": null,
      "outputs": []
    },
    {
      "cell_type": "code",
      "metadata": {
        "id": "tEgxZSRvqPyb"
      },
      "source": [
        "time_step = 100  \n",
        "X_train, y_train = create_dataset(train_data, time_step)\n",
        "X_test, y_test = create_dataset(test_data, time_step)"
      ],
      "execution_count": 57,
      "outputs": []
    },
    {
      "cell_type": "code",
      "metadata": {
        "id": "bVIOxcsDqPXH",
        "outputId": "585a9b40-677a-404d-cc5a-5378663cdee8",
        "colab": {
          "base_uri": "https://localhost:8080/"
        }
      },
      "source": [
        "print(X_train.shape)\n",
        "print(y_train.shape)    \n",
        "               "
      ],
      "execution_count": 58,
      "outputs": [
        {
          "output_type": "stream",
          "text": [
            "(906, 100)\n",
            "(906,)\n"
          ],
          "name": "stdout"
        }
      ]
    },
    {
      "cell_type": "code",
      "metadata": {
        "id": "zpAP-0zctIyN",
        "outputId": "9f7c1afa-0afa-4944-835d-adebffde1409",
        "colab": {
          "base_uri": "https://localhost:8080/"
        }
      },
      "source": [
        "print(X_train.ndim)\n",
        "print(y_train.ndim)"
      ],
      "execution_count": null,
      "outputs": [
        {
          "output_type": "stream",
          "text": [
            "2\n",
            "1\n"
          ],
          "name": "stdout"
        }
      ]
    },
    {
      "cell_type": "code",
      "metadata": {
        "id": "4MnEr2-P0JlH"
      },
      "source": [
        "X_train =X_train.reshape(X_train.shape[0],X_train.shape[1] , 1)\n",
        "X_test = X_test.reshape(X_test.shape[0],X_test.shape[1],1) \n"
      ],
      "execution_count": null,
      "outputs": []
    },
    {
      "cell_type": "code",
      "metadata": {
        "id": "SH7jDLb14aCc"
      },
      "source": [
        "#creating LSTM model \n",
        "import tensorflow as tf\n",
        "\n",
        "from tensorflow.keras.models import Sequential \n",
        "from tensorflow.keras.layers import Dense\n",
        "from tensorflow.keras.layers import LSTM"
      ],
      "execution_count": null,
      "outputs": []
    },
    {
      "cell_type": "code",
      "metadata": {
        "id": "uAeUmqee21Xo"
      },
      "source": [
        "model=Sequential() \n",
        "model.add(LSTM(50,return_sequences=True,input_shape=(100,1))) #adding layer with 50 neurons, input_shape=(no.of time steps,feature)\n",
        "model.add(LSTM(50,return_sequences=True))\n",
        "model.add(LSTM(50))\n",
        "model.add(Dense(1)) \n",
        "model.compile(loss='mean_squared_error',optimizer='adam') "
      ],
      "execution_count": null,
      "outputs": []
    },
    {
      "cell_type": "code",
      "metadata": {
        "id": "pwd9z3qOa2J9",
        "outputId": "dcd32fdd-c158-4ba3-fa8b-4637dfbfd9a9",
        "colab": {
          "base_uri": "https://localhost:8080/"
        }
      },
      "source": [
        "model.summary()"
      ],
      "execution_count": null,
      "outputs": [
        {
          "output_type": "stream",
          "text": [
            "Model: \"sequential\"\n",
            "_________________________________________________________________\n",
            "Layer (type)                 Output Shape              Param #   \n",
            "=================================================================\n",
            "lstm (LSTM)                  (None, 100, 50)           10400     \n",
            "_________________________________________________________________\n",
            "lstm_1 (LSTM)                (None, 100, 50)           20200     \n",
            "_________________________________________________________________\n",
            "lstm_2 (LSTM)                (None, 50)                20200     \n",
            "_________________________________________________________________\n",
            "dense (Dense)                (None, 1)                 51        \n",
            "=================================================================\n",
            "Total params: 50,851\n",
            "Trainable params: 50,851\n",
            "Non-trainable params: 0\n",
            "_________________________________________________________________\n"
          ],
          "name": "stdout"
        }
      ]
    },
    {
      "cell_type": "code",
      "metadata": {
        "id": "hguG48qkbFgr",
        "outputId": "e07037de-26db-40fa-f6aa-a940ed4fe095",
        "colab": {
          "base_uri": "https://localhost:8080/"
        }
      },
      "source": [
        "model.fit(X_train,y_train,validation_data = (X_test,y_test),epochs=100,batch_size=64,verbose=1) "
      ],
      "execution_count": null,
      "outputs": [
        {
          "output_type": "stream",
          "text": [
            "Epoch 1/100\n",
            "15/15 [==============================] - 4s 235ms/step - loss: 0.0800 - val_loss: 0.0046\n",
            "Epoch 2/100\n",
            "15/15 [==============================] - 3s 179ms/step - loss: 0.0106 - val_loss: 0.0097\n",
            "Epoch 3/100\n",
            "15/15 [==============================] - 3s 176ms/step - loss: 0.0065 - val_loss: 0.0155\n",
            "Epoch 4/100\n",
            "15/15 [==============================] - 3s 175ms/step - loss: 0.0053 - val_loss: 0.0117\n",
            "Epoch 5/100\n",
            "15/15 [==============================] - 3s 177ms/step - loss: 0.0046 - val_loss: 0.0082\n",
            "Epoch 6/100\n",
            "15/15 [==============================] - 3s 176ms/step - loss: 0.0040 - val_loss: 0.0068\n",
            "Epoch 7/100\n",
            "15/15 [==============================] - 3s 177ms/step - loss: 0.0037 - val_loss: 0.0064\n",
            "Epoch 8/100\n",
            "15/15 [==============================] - 3s 173ms/step - loss: 0.0037 - val_loss: 0.0048\n",
            "Epoch 9/100\n",
            "15/15 [==============================] - 3s 178ms/step - loss: 0.0035 - val_loss: 0.0045\n",
            "Epoch 10/100\n",
            "15/15 [==============================] - 3s 179ms/step - loss: 0.0033 - val_loss: 0.0047\n",
            "Epoch 11/100\n",
            "15/15 [==============================] - 3s 179ms/step - loss: 0.0033 - val_loss: 0.0045\n",
            "Epoch 12/100\n",
            "15/15 [==============================] - 3s 179ms/step - loss: 0.0030 - val_loss: 0.0041\n",
            "Epoch 13/100\n",
            "15/15 [==============================] - 3s 176ms/step - loss: 0.0029 - val_loss: 0.0041\n",
            "Epoch 14/100\n",
            "15/15 [==============================] - 3s 193ms/step - loss: 0.0028 - val_loss: 0.0042\n",
            "Epoch 15/100\n",
            "15/15 [==============================] - 3s 179ms/step - loss: 0.0030 - val_loss: 0.0040\n",
            "Epoch 16/100\n",
            "15/15 [==============================] - 3s 176ms/step - loss: 0.0026 - val_loss: 0.0038\n",
            "Epoch 17/100\n",
            "15/15 [==============================] - 3s 183ms/step - loss: 0.0026 - val_loss: 0.0043\n",
            "Epoch 18/100\n",
            "15/15 [==============================] - 3s 181ms/step - loss: 0.0026 - val_loss: 0.0040\n",
            "Epoch 19/100\n",
            "15/15 [==============================] - 3s 180ms/step - loss: 0.0026 - val_loss: 0.0033\n",
            "Epoch 20/100\n",
            "15/15 [==============================] - 3s 190ms/step - loss: 0.0023 - val_loss: 0.0033\n",
            "Epoch 21/100\n",
            "15/15 [==============================] - 3s 177ms/step - loss: 0.0022 - val_loss: 0.0034\n",
            "Epoch 22/100\n",
            "15/15 [==============================] - 3s 186ms/step - loss: 0.0021 - val_loss: 0.0032\n",
            "Epoch 23/100\n",
            "15/15 [==============================] - 3s 177ms/step - loss: 0.0020 - val_loss: 0.0035\n",
            "Epoch 24/100\n",
            "15/15 [==============================] - 3s 180ms/step - loss: 0.0021 - val_loss: 0.0030\n",
            "Epoch 25/100\n",
            "15/15 [==============================] - 3s 180ms/step - loss: 0.0019 - val_loss: 0.0029\n",
            "Epoch 26/100\n",
            "15/15 [==============================] - 3s 182ms/step - loss: 0.0019 - val_loss: 0.0030\n",
            "Epoch 27/100\n",
            "15/15 [==============================] - 3s 178ms/step - loss: 0.0018 - val_loss: 0.0031\n",
            "Epoch 28/100\n",
            "15/15 [==============================] - 3s 181ms/step - loss: 0.0018 - val_loss: 0.0027\n",
            "Epoch 29/100\n",
            "15/15 [==============================] - 3s 180ms/step - loss: 0.0027 - val_loss: 0.0027\n",
            "Epoch 30/100\n",
            "15/15 [==============================] - 3s 179ms/step - loss: 0.0017 - val_loss: 0.0029\n",
            "Epoch 31/100\n",
            "15/15 [==============================] - 3s 183ms/step - loss: 0.0016 - val_loss: 0.0029\n",
            "Epoch 32/100\n",
            "15/15 [==============================] - 3s 179ms/step - loss: 0.0017 - val_loss: 0.0029\n",
            "Epoch 33/100\n",
            "15/15 [==============================] - 3s 178ms/step - loss: 0.0016 - val_loss: 0.0027\n",
            "Epoch 34/100\n",
            "15/15 [==============================] - 3s 178ms/step - loss: 0.0015 - val_loss: 0.0028\n",
            "Epoch 35/100\n",
            "15/15 [==============================] - 3s 180ms/step - loss: 0.0015 - val_loss: 0.0027\n",
            "Epoch 36/100\n",
            "15/15 [==============================] - 3s 181ms/step - loss: 0.0015 - val_loss: 0.0026\n",
            "Epoch 37/100\n",
            "15/15 [==============================] - 3s 181ms/step - loss: 0.0016 - val_loss: 0.0027\n",
            "Epoch 38/100\n",
            "15/15 [==============================] - 3s 187ms/step - loss: 0.0015 - val_loss: 0.0026\n",
            "Epoch 39/100\n",
            "15/15 [==============================] - 3s 185ms/step - loss: 0.0014 - val_loss: 0.0024\n",
            "Epoch 40/100\n",
            "15/15 [==============================] - 3s 189ms/step - loss: 0.0014 - val_loss: 0.0024\n",
            "Epoch 41/100\n",
            "15/15 [==============================] - 3s 202ms/step - loss: 0.0014 - val_loss: 0.0025\n",
            "Epoch 42/100\n",
            "15/15 [==============================] - 3s 183ms/step - loss: 0.0014 - val_loss: 0.0026\n",
            "Epoch 43/100\n",
            "15/15 [==============================] - 3s 178ms/step - loss: 0.0014 - val_loss: 0.0024\n",
            "Epoch 44/100\n",
            "15/15 [==============================] - 3s 184ms/step - loss: 0.0014 - val_loss: 0.0024\n",
            "Epoch 45/100\n",
            "15/15 [==============================] - 3s 182ms/step - loss: 0.0013 - val_loss: 0.0025\n",
            "Epoch 46/100\n",
            "15/15 [==============================] - 3s 189ms/step - loss: 0.0013 - val_loss: 0.0026\n",
            "Epoch 47/100\n",
            "15/15 [==============================] - 3s 184ms/step - loss: 0.0016 - val_loss: 0.0022\n",
            "Epoch 48/100\n",
            "15/15 [==============================] - 3s 184ms/step - loss: 0.0015 - val_loss: 0.0026\n",
            "Epoch 49/100\n",
            "15/15 [==============================] - 3s 184ms/step - loss: 0.0015 - val_loss: 0.0024\n",
            "Epoch 50/100\n",
            "15/15 [==============================] - 3s 176ms/step - loss: 0.0013 - val_loss: 0.0025\n",
            "Epoch 51/100\n",
            "15/15 [==============================] - 3s 179ms/step - loss: 0.0013 - val_loss: 0.0023\n",
            "Epoch 52/100\n",
            "15/15 [==============================] - 3s 185ms/step - loss: 0.0012 - val_loss: 0.0024\n",
            "Epoch 53/100\n",
            "15/15 [==============================] - 3s 182ms/step - loss: 0.0012 - val_loss: 0.0023\n",
            "Epoch 54/100\n",
            "15/15 [==============================] - 3s 184ms/step - loss: 0.0013 - val_loss: 0.0023\n",
            "Epoch 55/100\n",
            "15/15 [==============================] - 3s 181ms/step - loss: 0.0012 - val_loss: 0.0023\n",
            "Epoch 56/100\n",
            "15/15 [==============================] - 3s 185ms/step - loss: 0.0013 - val_loss: 0.0023\n",
            "Epoch 57/100\n",
            "15/15 [==============================] - 3s 182ms/step - loss: 0.0012 - val_loss: 0.0023\n",
            "Epoch 58/100\n",
            "15/15 [==============================] - 3s 181ms/step - loss: 0.0012 - val_loss: 0.0022\n",
            "Epoch 59/100\n",
            "15/15 [==============================] - 3s 188ms/step - loss: 0.0012 - val_loss: 0.0025\n",
            "Epoch 60/100\n",
            "15/15 [==============================] - 3s 183ms/step - loss: 0.0013 - val_loss: 0.0022\n",
            "Epoch 61/100\n",
            "15/15 [==============================] - 3s 177ms/step - loss: 0.0011 - val_loss: 0.0022\n",
            "Epoch 62/100\n",
            "15/15 [==============================] - 3s 181ms/step - loss: 0.0011 - val_loss: 0.0021\n",
            "Epoch 63/100\n",
            "15/15 [==============================] - 3s 180ms/step - loss: 0.0012 - val_loss: 0.0021\n",
            "Epoch 64/100\n",
            "15/15 [==============================] - 3s 184ms/step - loss: 0.0014 - val_loss: 0.0022\n",
            "Epoch 65/100\n",
            "15/15 [==============================] - 3s 186ms/step - loss: 0.0012 - val_loss: 0.0021\n",
            "Epoch 66/100\n",
            "15/15 [==============================] - 3s 179ms/step - loss: 0.0011 - val_loss: 0.0020\n",
            "Epoch 67/100\n",
            "15/15 [==============================] - 3s 187ms/step - loss: 0.0011 - val_loss: 0.0021\n",
            "Epoch 68/100\n",
            "15/15 [==============================] - 3s 179ms/step - loss: 0.0011 - val_loss: 0.0021\n",
            "Epoch 69/100\n",
            "15/15 [==============================] - 3s 186ms/step - loss: 0.0010 - val_loss: 0.0020\n",
            "Epoch 70/100\n",
            "15/15 [==============================] - 3s 180ms/step - loss: 0.0011 - val_loss: 0.0025\n",
            "Epoch 71/100\n",
            "15/15 [==============================] - 3s 189ms/step - loss: 0.0012 - val_loss: 0.0020\n",
            "Epoch 72/100\n",
            "15/15 [==============================] - 3s 178ms/step - loss: 0.0011 - val_loss: 0.0020\n",
            "Epoch 73/100\n",
            "15/15 [==============================] - 3s 185ms/step - loss: 0.0010 - val_loss: 0.0020\n",
            "Epoch 74/100\n",
            "15/15 [==============================] - 3s 184ms/step - loss: 0.0011 - val_loss: 0.0024\n",
            "Epoch 75/100\n",
            "15/15 [==============================] - 3s 181ms/step - loss: 0.0011 - val_loss: 0.0019\n",
            "Epoch 76/100\n",
            "15/15 [==============================] - 3s 177ms/step - loss: 0.0010 - val_loss: 0.0023\n",
            "Epoch 77/100\n",
            "15/15 [==============================] - 3s 179ms/step - loss: 0.0010 - val_loss: 0.0019\n",
            "Epoch 78/100\n",
            "15/15 [==============================] - 3s 181ms/step - loss: 0.0010 - val_loss: 0.0020\n",
            "Epoch 79/100\n",
            "15/15 [==============================] - 3s 181ms/step - loss: 9.7983e-04 - val_loss: 0.0019\n",
            "Epoch 80/100\n",
            "15/15 [==============================] - 3s 184ms/step - loss: 9.5668e-04 - val_loss: 0.0020\n",
            "Epoch 81/100\n",
            "15/15 [==============================] - 3s 181ms/step - loss: 9.2988e-04 - val_loss: 0.0020\n",
            "Epoch 82/100\n",
            "15/15 [==============================] - 3s 190ms/step - loss: 9.4255e-04 - val_loss: 0.0019\n",
            "Epoch 83/100\n",
            "15/15 [==============================] - 3s 182ms/step - loss: 9.4215e-04 - val_loss: 0.0022\n",
            "Epoch 84/100\n",
            "15/15 [==============================] - 3s 185ms/step - loss: 9.8473e-04 - val_loss: 0.0021\n",
            "Epoch 85/100\n",
            "15/15 [==============================] - 3s 179ms/step - loss: 9.5818e-04 - val_loss: 0.0018\n",
            "Epoch 86/100\n",
            "15/15 [==============================] - 3s 186ms/step - loss: 8.5803e-04 - val_loss: 0.0022\n",
            "Epoch 87/100\n",
            "15/15 [==============================] - 3s 180ms/step - loss: 0.0011 - val_loss: 0.0018\n",
            "Epoch 88/100\n",
            "15/15 [==============================] - 3s 183ms/step - loss: 0.0010 - val_loss: 0.0019\n",
            "Epoch 89/100\n",
            "15/15 [==============================] - 3s 183ms/step - loss: 9.0561e-04 - val_loss: 0.0018\n",
            "Epoch 90/100\n",
            "15/15 [==============================] - 3s 182ms/step - loss: 8.8341e-04 - val_loss: 0.0020\n",
            "Epoch 91/100\n",
            "15/15 [==============================] - 3s 194ms/step - loss: 9.0265e-04 - val_loss: 0.0018\n",
            "Epoch 92/100\n",
            "15/15 [==============================] - 3s 179ms/step - loss: 8.1668e-04 - val_loss: 0.0018\n",
            "Epoch 93/100\n",
            "15/15 [==============================] - 3s 184ms/step - loss: 8.6038e-04 - val_loss: 0.0019\n",
            "Epoch 94/100\n",
            "15/15 [==============================] - 3s 177ms/step - loss: 7.8364e-04 - val_loss: 0.0018\n",
            "Epoch 95/100\n",
            "15/15 [==============================] - 3s 181ms/step - loss: 7.6562e-04 - val_loss: 0.0018\n",
            "Epoch 96/100\n",
            "15/15 [==============================] - 3s 185ms/step - loss: 7.8659e-04 - val_loss: 0.0020\n",
            "Epoch 97/100\n",
            "15/15 [==============================] - 3s 196ms/step - loss: 8.1296e-04 - val_loss: 0.0018\n",
            "Epoch 98/100\n",
            "15/15 [==============================] - 3s 200ms/step - loss: 8.1561e-04 - val_loss: 0.0018\n",
            "Epoch 99/100\n",
            "15/15 [==============================] - 3s 197ms/step - loss: 8.2067e-04 - val_loss: 0.0018\n",
            "Epoch 100/100\n",
            "15/15 [==============================] - 3s 188ms/step - loss: 7.9511e-04 - val_loss: 0.0017\n"
          ],
          "name": "stdout"
        },
        {
          "output_type": "execute_result",
          "data": {
            "text/plain": [
              "<tensorflow.python.keras.callbacks.History at 0x7fcddd9e17f0>"
            ]
          },
          "metadata": {
            "tags": []
          },
          "execution_count": 29
        }
      ]
    },
    {
      "cell_type": "code",
      "metadata": {
        "id": "hiVyiUNOa6yD"
      },
      "source": [
        "training_prediction= model.predict(X_train) \n",
        "testing_prediction = model.predict(X_test)"
      ],
      "execution_count": null,
      "outputs": []
    },
    {
      "cell_type": "code",
      "metadata": {
        "id": "XPaGqCTiC9dj"
      },
      "source": [
        "from sklearn.preprocessing import StandardScaler\n",
        "scaler_train = StandardScaler() \n",
        "training_prediction = scaler_train.fit_transform(training_prediction)\n",
        "scaler_test = StandardScaler()\n",
        "testing_prediction = scaler_test.fit_transform(testing_prediction)    "
      ],
      "execution_count": null,
      "outputs": []
    },
    {
      "cell_type": "code",
      "metadata": {
        "id": "ZwIq-VDbj5h_",
        "outputId": "a3276593-2d62-48f7-a524-b57099b0124f",
        "colab": {
          "base_uri": "https://localhost:8080/"
        }
      },
      "source": [
        "import math \n",
        "from sklearn.metrics import mean_squared_error\n",
        "math.sqrt(mean_squared_error(y_train,training_prediction))\n",
        "\n"
      ],
      "execution_count": null,
      "outputs": [
        {
          "output_type": "execute_result",
          "data": {
            "text/plain": [
              "1.0519266683535775"
            ]
          },
          "metadata": {
            "tags": []
          },
          "execution_count": 33
        }
      ]
    },
    {
      "cell_type": "code",
      "metadata": {
        "id": "j21jSE9_kChQ",
        "outputId": "800771e8-fa11-41e1-f185-ad220007aa26",
        "colab": {
          "base_uri": "https://localhost:8080/"
        }
      },
      "source": [
        "math.sqrt(mean_squared_error(y_test,testing_prediction))"
      ],
      "execution_count": null,
      "outputs": [
        {
          "output_type": "execute_result",
          "data": {
            "text/plain": [
              "0.9952292275517515"
            ]
          },
          "metadata": {
            "tags": []
          },
          "execution_count": 34
        }
      ]
    },
    {
      "cell_type": "code",
      "metadata": {
        "id": "2oJp4JDHkPi1",
        "outputId": "e9ddbaad-74ed-443d-8ce7-8d9fc1192e71",
        "colab": {
          "base_uri": "https://localhost:8080/",
          "height": 409
        }
      },
      "source": [
        "look_back=100 \n",
        "trainPredictPlot = np.empty_like(df)\n",
        "trainPredictPlot[:,:] = np.nan   \n",
        "trainPredictPlot[look_back:len(training_prediction)+look_back, :] = training_prediction\n",
        "# shift test predictions for plotting\n",
        "testPredictPlot = np.empty_like(df)\n",
        "testPredictPlot[:, :] = np.nan\n",
        "testPredictPlot[len(training_prediction)+(look_back*2)+1:len(df)-1, :] = testing_prediction\n",
        "# plot baseline and predictions\n",
        "scaler=StandardScaler()\n",
        "plt.figure(figsize=(12,6))\n",
        "plt.title('Model')\n",
        "plt.xlabel('Date', fontsize = 15)\n",
        "plt.ylabel('Close price USD ($)', fontsize = 15)\n",
        "plt.plot(scaler.fit_transform(df))\n",
        "plt.plot(trainPredictPlot)\n",
        "plt.plot(testPredictPlot)\n",
        "plt.show()\n",
        "\n"
      ],
      "execution_count": null,
      "outputs": [
        {
          "output_type": "display_data",
          "data": {
            "image/png": "[encoded data removed]",
            "text/plain": [
              "<Figure size 864x432 with 1 Axes>"
            ]
          },
          "metadata": {
            "tags": [],
            "needs_background": "light"
          }
        }
      ]
    },
    {
      "cell_type": "code",
      "metadata": {
        "id": "ujKOQyebszIu",
        "outputId": "e3b64afb-4c17-48f4-8f84-3a5b556032e6",
        "colab": {
          "base_uri": "https://localhost:8080/"
        }
      },
      "source": [
        "len(test_data)"
      ],
      "execution_count": 60,
      "outputs": [
        {
          "output_type": "execute_result",
          "data": {
            "text/plain": [
              "252"
            ]
          },
          "metadata": {
            "tags": []
          },
          "execution_count": 60
        }
      ]
    },
    {
      "cell_type": "code",
      "metadata": {
        "id": "dh7PjMxns580",
        "outputId": "9ee3cdc1-3684-4228-e832-d3a336bef9f1",
        "colab": {
          "base_uri": "https://localhost:8080/"
        }
      },
      "source": [
        "x_input=test_data[153:].reshape(1,-1)\n",
        "x_input.shape\n"
      ],
      "execution_count": 61,
      "outputs": [
        {
          "output_type": "execute_result",
          "data": {
            "text/plain": [
              "(1, 99)"
            ]
          },
          "metadata": {
            "tags": []
          },
          "execution_count": 61
        }
      ]
    },
    {
      "cell_type": "code",
      "metadata": {
        "id": "Vy3bYULhtNQ8"
      },
      "source": [
        "temp_input=list(x_input)\n",
        "temp_input=temp_input[0].tolist()"
      ],
      "execution_count": 62,
      "outputs": []
    },
    {
      "cell_type": "code",
      "metadata": {
        "id": "I0LLHTkXtPpv",
        "outputId": "d145f311-a696-4a0e-dd66-e8a0a4b9081b",
        "colab": {
          "base_uri": "https://localhost:8080/"
        }
      },
      "source": [
        "print(test_data)"
      ],
      "execution_count": 63,
      "outputs": [
        {
          "output_type": "stream",
          "text": [
            "[[0.46650614]\n",
            " [0.4725855 ]\n",
            " [0.44792395]\n",
            " [0.46432671]\n",
            " [0.44689148]\n",
            " [0.46753845]\n",
            " [0.49208535]\n",
            " [0.49460888]\n",
            " [0.50481764]\n",
            " [0.49231481]\n",
            " [0.49139716]\n",
            " [0.46685024]\n",
            " [0.46822665]\n",
            " [0.45549437]\n",
            " [0.44998856]\n",
            " [0.4545767 ]\n",
            " [0.4535444 ]\n",
            " [0.45595328]\n",
            " [0.44081211]\n",
            " [0.44815323]\n",
            " [0.4538885 ]\n",
            " [0.4725855 ]\n",
            " [0.46249139]\n",
            " [0.44735039]\n",
            " [0.45515026]\n",
            " [0.43748574]\n",
            " [0.42842393]\n",
            " [0.42693287]\n",
            " [0.42601522]\n",
            " [0.44104157]\n",
            " [0.4490709 ]\n",
            " [0.44895626]\n",
            " [0.44723558]\n",
            " [0.46512973]\n",
            " [0.45239745]\n",
            " [0.45147979]\n",
            " [0.45251209]\n",
            " [0.45469152]\n",
            " [0.45641203]\n",
            " [0.46822665]\n",
            " [0.46776791]\n",
            " [0.46122963]\n",
            " [0.46042678]\n",
            " [0.46455617]\n",
            " [0.43633862]\n",
            " [0.4504473 ]\n",
            " [0.46627668]\n",
            " [0.4538885 ]\n",
            " [0.45113568]\n",
            " [0.45216799]\n",
            " [0.46501492]\n",
            " [0.48141785]\n",
            " [0.48084429]\n",
            " [0.47981199]\n",
            " [0.47086499]\n",
            " [0.48004127]\n",
            " [0.49564119]\n",
            " [0.49942649]\n",
            " [0.50929113]\n",
            " [0.563432  ]\n",
            " [0.55173203]\n",
            " [0.52523516]\n",
            " [0.50298231]\n",
            " [0.51364999]\n",
            " [0.49231481]\n",
            " [0.48176195]\n",
            " [0.56159669]\n",
            " [0.5907319 ]\n",
            " [0.62330814]\n",
            " [0.70612532]\n",
            " [0.71105756]\n",
            " [0.67263142]\n",
            " [0.68433122]\n",
            " [0.67343426]\n",
            " [0.69442534]\n",
            " [0.68295482]\n",
            " [0.64154623]\n",
            " [0.64613454]\n",
            " [0.64338156]\n",
            " [0.64751094]\n",
            " [0.63168157]\n",
            " [0.59256706]\n",
            " [0.53842636]\n",
            " [0.51594406]\n",
            " [0.43977981]\n",
            " [0.40582699]\n",
            " [0.45342975]\n",
            " [0.39148884]\n",
            " [0.45251209]\n",
            " [0.39894478]\n",
            " [0.37806843]\n",
            " [0.26428081]\n",
            " [0.34411562]\n",
            " [0.26611613]\n",
            " [0.092223  ]\n",
            " [0.15118146]\n",
            " [0.049438  ]\n",
            " [0.13626984]\n",
            " [0.10071124]\n",
            " [0.06389079]\n",
            " [0.00711175]\n",
            " [0.        ]\n",
            " [0.12284935]\n",
            " [0.12709338]\n",
            " [0.20784586]\n",
            " [0.15209913]\n",
            " [0.20830469]\n",
            " [0.18536365]\n",
            " [0.11894932]\n",
            " [0.17469607]\n",
            " [0.13271391]\n",
            " [0.22998398]\n",
            " [0.23136046]\n",
            " [0.28125721]\n",
            " [0.30660705]\n",
            " [0.3025924 ]\n",
            " [0.33425106]\n",
            " [0.27437491]\n",
            " [0.24042218]\n",
            " [0.29077777]\n",
            " [0.29410423]\n",
            " [0.25223681]\n",
            " [0.28148659]\n",
            " [0.30488645]\n",
            " [0.34354214]\n",
            " [0.35730673]\n",
            " [0.3613214 ]\n",
            " [0.38908012]\n",
            " [0.35317735]\n",
            " [0.31085118]\n",
            " [0.30867175]\n",
            " [0.31899524]\n",
            " [0.3257628 ]\n",
            " [0.30351005]\n",
            " [0.32369811]\n",
            " [0.31910988]\n",
            " [0.29238363]\n",
            " [0.24042218]\n",
            " [0.25441615]\n",
            " [0.25476033]\n",
            " [0.30729526]\n",
            " [0.29272774]\n",
            " [0.30523056]\n",
            " [0.27930725]\n",
            " [0.27093372]\n",
            " [0.30958941]\n",
            " [0.35294797]\n",
            " [0.34136272]\n",
            " [0.34560685]\n",
            " [0.34549211]\n",
            " [0.3582244 ]\n",
            " [0.39320952]\n",
            " [0.39137419]\n",
            " [0.42773573]\n",
            " [0.47006198]\n",
            " [0.4255563 ]\n",
            " [0.40261526]\n",
            " [0.26657496]\n",
            " [0.31131001]\n",
            " [0.30832766]\n",
            " [0.34847448]\n",
            " [0.33700396]\n",
            " [0.33711869]\n",
            " [0.31773347]\n",
            " [0.30167473]\n",
            " [0.28263371]\n",
            " [0.24833679]\n",
            " [0.27827486]\n",
            " [0.25716913]\n",
            " [0.28653364]\n",
            " [0.29823354]\n",
            " [0.27265432]\n",
            " [0.28596008]\n",
            " [0.2915807 ]\n",
            " [0.26164264]\n",
            " [0.26313377]\n",
            " [0.24019273]\n",
            " [0.27047489]\n",
            " [0.28022482]\n",
            " [0.29628356]\n",
            " [0.32381284]\n",
            " [0.33539808]\n",
            " [0.34801565]\n",
            " [0.36246852]\n",
            " [0.35891261]\n",
            " [0.38885067]\n",
            " [0.37348021]\n",
            " [0.3558156 ]\n",
            " [0.3606332 ]\n",
            " [0.34067451]\n",
            " [0.35042444]\n",
            " [0.32266581]\n",
            " [0.32312463]\n",
            " [0.33883919]\n",
            " [0.35638907]\n",
            " [0.35191558]\n",
            " [0.35960089]\n",
            " [0.34629504]\n",
            " [0.37095669]\n",
            " [0.36682729]\n",
            " [0.36625373]\n",
            " [0.34709798]\n",
            " [0.34985088]\n",
            " [0.34033041]\n",
            " [0.34583621]\n",
            " [0.33344803]\n",
            " [0.32553344]\n",
            " [0.32564816]\n",
            " [0.35455383]\n",
            " [0.34262448]\n",
            " [0.33723332]\n",
            " [0.34273922]\n",
            " [0.34755681]\n",
            " [0.32736867]\n",
            " [0.32840107]\n",
            " [0.38323005]\n",
            " [0.34044506]\n",
            " [0.31578351]\n",
            " [0.30328059]\n",
            " [0.31532467]\n",
            " [0.29582474]\n",
            " [0.30614822]\n",
            " [0.31337462]\n",
            " [0.31738937]\n",
            " [0.33780688]\n",
            " [0.34583621]\n",
            " [0.32105993]\n",
            " [0.2922689 ]\n",
            " [0.29525126]\n",
            " [0.27598079]\n",
            " [0.26749253]\n",
            " [0.27735719]\n",
            " [0.30924531]\n",
            " [0.30018359]\n",
            " [0.30855702]\n",
            " [0.30190409]\n",
            " [0.29593947]\n",
            " [0.31245704]\n",
            " [0.31199821]\n",
            " [0.33608629]\n",
            " [0.42119761]\n",
            " [0.37875664]\n",
            " [0.37210372]\n",
            " [0.34790091]\n",
            " [0.35753619]\n",
            " [0.34549211]\n",
            " [0.35742146]\n",
            " [0.35271851]\n",
            " [0.25923384]\n",
            " [0.23273688]\n",
            " [0.24076629]\n",
            " [0.24351919]]\n"
          ],
          "name": "stdout"
        }
      ]
    },
    {
      "cell_type": "code",
      "metadata": {
        "id": "BPwFk_mhDpwQ",
        "outputId": "f3470080-1dc9-4e5f-b009-58a3a72bf290",
        "colab": {
          "base_uri": "https://localhost:8080/"
        }
      },
      "source": [
        "print(temp_input)"
      ],
      "execution_count": 64,
      "outputs": [
        {
          "output_type": "stream",
          "text": [
            "[0.4277357306721725, 0.4700619752236752, 0.42555629731589795, 0.4026152557926128, 0.26657495985317725, 0.31131001376462497, 0.3083276554255563, 0.3484744780913054, 0.3370039573296628, 0.3371186854783208, 0.3177334709795825, 0.30167473044276205, 0.28263371186051844, 0.24833678596008246, 0.2782748566184905, 0.2571691328286305, 0.2865336430373939, 0.29823353980270695, 0.2726543243863271, 0.2859600825877495, 0.2915806951135582, 0.26164263592567116, 0.26313376921312215, 0.24019272768983702, 0.27047489103005273, 0.2802248222069281, 0.29628356274374856, 0.3238128355127323, 0.33539808442303287, 0.34801564579031874, 0.36246852489103, 0.3589126061023169, 0.3888506652902042, 0.37348021335168613, 0.35581559990823575, 0.3606331956870841, 0.3406745125028676, 0.350424443679743, 0.32266580637760955, 0.3231246272080752, 0.33883919476944246, 0.3563890685937141, 0.3519155769671942, 0.3596008947006193, 0.3462950447350308, 0.3709566873136041, 0.3668272883688919, 0.3662537279192475, 0.3470979811883459, 0.3498508832300986, 0.3403304083505392, 0.3458362124340444, 0.333448027070429, 0.32553343656802025, 0.325648164716678, 0.35455383115393446, 0.34262447809130525, 0.3372333218628125, 0.342739217710484, 0.3475568134893323, 0.3273686740077999, 0.3284010667584307, 0.3832300527643955, 0.34044505620555165, 0.31578350539114486, 0.30328059187887124, 0.3153246730901582, 0.2958247419132827, 0.30614822206928194, 0.31337461573755454, 0.31738936682725405, 0.3378068823124569, 0.3458362124340444, 0.3210599334709796, 0.2922689034182151, 0.2952512617572838, 0.2759807868777242, 0.26749253269098405, 0.27735719201651743, 0.3092453085570084, 0.3001835856847901, 0.308557019958706, 0.301904094975912, 0.29593947006194066, 0.3124570428997475, 0.3119982105987611, 0.33608629272768975, 0.42119761413168155, 0.3787566414315211, 0.37210371644872664, 0.3479009061711402, 0.35753618949300314, 0.34549210828171595, 0.35742146134434516, 0.3527185134205093, 0.25923383803624667, 0.23273687772424867, 0.24076628813948142, 0.24351919018123414]\n"
          ],
          "name": "stdout"
        }
      ]
    },
    {
      "cell_type": "code",
      "metadata": {
        "id": "Q2u-QhCpuLMV",
        "outputId": "7cc5514a-e328-41ac-e97e-dfe2388639e7",
        "colab": {
          "base_uri": "https://localhost:8080/"
        }
      },
      "source": [
        "from numpy import array\n",
        "\n",
        "lst_output=[]\n",
        "n_steps=99\n",
        "i=0\n",
        "while(i<30):\n",
        "    \n",
        "    if(len(temp_input)>99):\n",
        "        #print(temp_input)\n",
        "        x_input=np.array(temp_input[1:])\n",
        "        print(\"{} day input {}\".format(i,x_input))\n",
        "        x_input=x_input.reshape(1,-1)\n",
        "        x_input = x_input.reshape((1, n_steps, 1))\n",
        "        #print(x_input)\n",
        "        yhat = model.predict(x_input, verbose=0)\n",
        "        print(\"{} day output {}\".format(i,yhat))\n",
        "        temp_input.extend(yhat[0].tolist())\n",
        "        temp_input=temp_input[1:]\n",
        "        #print(temp_input)\n",
        "        lst_output.extend(yhat.tolist())\n",
        "        i=i+1\n",
        "    else:\n",
        "        x_input = x_input.reshape((1, n_steps,1))\n",
        "        yhat = model.predict(x_input, verbose=0)\n",
        "        print(yhat[0])\n",
        "        temp_input.extend(yhat[0].tolist())\n",
        "        print(len(temp_input))\n",
        "        lst_output.extend(yhat.tolist())\n",
        "        i=i+1\n",
        "    \n",
        "\n",
        "print(lst_output)\n"
      ],
      "execution_count": 74,
      "outputs": [
        {
          "output_type": "stream",
          "text": [
            "0 day input [0.36246852 0.35891261 0.38885067 0.37348021 0.3558156  0.3606332\n",
            " 0.34067451 0.35042444 0.32266581 0.32312463 0.33883919 0.35638907\n",
            " 0.35191558 0.35960089 0.34629504 0.37095669 0.36682729 0.36625373\n",
            " 0.34709798 0.34985088 0.34033041 0.34583621 0.33344803 0.32553344\n",
            " 0.32564816 0.35455383 0.34262448 0.33723332 0.34273922 0.34755681\n",
            " 0.32736867 0.32840107 0.38323005 0.34044506 0.31578351 0.30328059\n",
            " 0.31532467 0.29582474 0.30614822 0.31337462 0.31738937 0.33780688\n",
            " 0.34583621 0.32105993 0.2922689  0.29525126 0.27598079 0.26749253\n",
            " 0.27735719 0.30924531 0.30018359 0.30855702 0.30190409 0.29593947\n",
            " 0.31245704 0.31199821 0.33608629 0.42119761 0.37875664 0.37210372\n",
            " 0.34790091 0.35753619 0.34549211 0.35742146 0.35271851 0.25923384\n",
            " 0.23273688 0.24076629 0.24351919 0.2526415  0.24567954 0.24573906\n",
            " 0.24893041 0.25314343 0.25750855 0.26178119 0.26594648 0.27003562\n",
            " 0.274066   0.27803677 0.28193778 0.28575751 0.28948683 0.29311943\n",
            " 0.29665083 0.30007777 0.30339703 0.30660632 0.30970326 0.31268638\n",
            " 0.31555492 0.3183094  0.32095119 0.32348308 0.32590863 0.32823253\n",
            " 0.33046001 0.33259693 0.33464929]\n",
            "0 day output [[0.33662313]]\n",
            "1 day input [0.35891261 0.38885067 0.37348021 0.3558156  0.3606332  0.34067451\n",
            " 0.35042444 0.32266581 0.32312463 0.33883919 0.35638907 0.35191558\n",
            " 0.35960089 0.34629504 0.37095669 0.36682729 0.36625373 0.34709798\n",
            " 0.34985088 0.34033041 0.34583621 0.33344803 0.32553344 0.32564816\n",
            " 0.35455383 0.34262448 0.33723332 0.34273922 0.34755681 0.32736867\n",
            " 0.32840107 0.38323005 0.34044506 0.31578351 0.30328059 0.31532467\n",
            " 0.29582474 0.30614822 0.31337462 0.31738937 0.33780688 0.34583621\n",
            " 0.32105993 0.2922689  0.29525126 0.27598079 0.26749253 0.27735719\n",
            " 0.30924531 0.30018359 0.30855702 0.30190409 0.29593947 0.31245704\n",
            " 0.31199821 0.33608629 0.42119761 0.37875664 0.37210372 0.34790091\n",
            " 0.35753619 0.34549211 0.35742146 0.35271851 0.25923384 0.23273688\n",
            " 0.24076629 0.24351919 0.2526415  0.24567954 0.24573906 0.24893041\n",
            " 0.25314343 0.25750855 0.26178119 0.26594648 0.27003562 0.274066\n",
            " 0.27803677 0.28193778 0.28575751 0.28948683 0.29311943 0.29665083\n",
            " 0.30007777 0.30339703 0.30660632 0.30970326 0.31268638 0.31555492\n",
            " 0.3183094  0.32095119 0.32348308 0.32590863 0.32823253 0.33046001\n",
            " 0.33259693 0.33464929 0.33662313]\n",
            "1 day output [[0.33852455]]\n",
            "2 day input [0.38885067 0.37348021 0.3558156  0.3606332  0.34067451 0.35042444\n",
            " 0.32266581 0.32312463 0.33883919 0.35638907 0.35191558 0.35960089\n",
            " 0.34629504 0.37095669 0.36682729 0.36625373 0.34709798 0.34985088\n",
            " 0.34033041 0.34583621 0.33344803 0.32553344 0.32564816 0.35455383\n",
            " 0.34262448 0.33723332 0.34273922 0.34755681 0.32736867 0.32840107\n",
            " 0.38323005 0.34044506 0.31578351 0.30328059 0.31532467 0.29582474\n",
            " 0.30614822 0.31337462 0.31738937 0.33780688 0.34583621 0.32105993\n",
            " 0.2922689  0.29525126 0.27598079 0.26749253 0.27735719 0.30924531\n",
            " 0.30018359 0.30855702 0.30190409 0.29593947 0.31245704 0.31199821\n",
            " 0.33608629 0.42119761 0.37875664 0.37210372 0.34790091 0.35753619\n",
            " 0.34549211 0.35742146 0.35271851 0.25923384 0.23273688 0.24076629\n",
            " 0.24351919 0.2526415  0.24567954 0.24573906 0.24893041 0.25314343\n",
            " 0.25750855 0.26178119 0.26594648 0.27003562 0.274066   0.27803677\n",
            " 0.28193778 0.28575751 0.28948683 0.29311943 0.29665083 0.30007777\n",
            " 0.30339703 0.30660632 0.30970326 0.31268638 0.31555492 0.3183094\n",
            " 0.32095119 0.32348308 0.32590863 0.32823253 0.33046001 0.33259693\n",
            " 0.33464929 0.33662313 0.33852455]\n",
            "2 day output [[0.3403593]]\n",
            "3 day input [0.37348021 0.3558156  0.3606332  0.34067451 0.35042444 0.32266581\n",
            " 0.32312463 0.33883919 0.35638907 0.35191558 0.35960089 0.34629504\n",
            " 0.37095669 0.36682729 0.36625373 0.34709798 0.34985088 0.34033041\n",
            " 0.34583621 0.33344803 0.32553344 0.32564816 0.35455383 0.34262448\n",
            " 0.33723332 0.34273922 0.34755681 0.32736867 0.32840107 0.38323005\n",
            " 0.34044506 0.31578351 0.30328059 0.31532467 0.29582474 0.30614822\n",
            " 0.31337462 0.31738937 0.33780688 0.34583621 0.32105993 0.2922689\n",
            " 0.29525126 0.27598079 0.26749253 0.27735719 0.30924531 0.30018359\n",
            " 0.30855702 0.30190409 0.29593947 0.31245704 0.31199821 0.33608629\n",
            " 0.42119761 0.37875664 0.37210372 0.34790091 0.35753619 0.34549211\n",
            " 0.35742146 0.35271851 0.25923384 0.23273688 0.24076629 0.24351919\n",
            " 0.2526415  0.24567954 0.24573906 0.24893041 0.25314343 0.25750855\n",
            " 0.26178119 0.26594648 0.27003562 0.274066   0.27803677 0.28193778\n",
            " 0.28575751 0.28948683 0.29311943 0.29665083 0.30007777 0.30339703\n",
            " 0.30660632 0.30970326 0.31268638 0.31555492 0.3183094  0.32095119\n",
            " 0.32348308 0.32590863 0.32823253 0.33046001 0.33259693 0.33464929\n",
            " 0.33662313 0.33852455 0.3403593 ]\n",
            "3 day output [[0.34213272]]\n",
            "4 day input [0.3558156  0.3606332  0.34067451 0.35042444 0.32266581 0.32312463\n",
            " 0.33883919 0.35638907 0.35191558 0.35960089 0.34629504 0.37095669\n",
            " 0.36682729 0.36625373 0.34709798 0.34985088 0.34033041 0.34583621\n",
            " 0.33344803 0.32553344 0.32564816 0.35455383 0.34262448 0.33723332\n",
            " 0.34273922 0.34755681 0.32736867 0.32840107 0.38323005 0.34044506\n",
            " 0.31578351 0.30328059 0.31532467 0.29582474 0.30614822 0.31337462\n",
            " 0.31738937 0.33780688 0.34583621 0.32105993 0.2922689  0.29525126\n",
            " 0.27598079 0.26749253 0.27735719 0.30924531 0.30018359 0.30855702\n",
            " 0.30190409 0.29593947 0.31245704 0.31199821 0.33608629 0.42119761\n",
            " 0.37875664 0.37210372 0.34790091 0.35753619 0.34549211 0.35742146\n",
            " 0.35271851 0.25923384 0.23273688 0.24076629 0.24351919 0.2526415\n",
            " 0.24567954 0.24573906 0.24893041 0.25314343 0.25750855 0.26178119\n",
            " 0.26594648 0.27003562 0.274066   0.27803677 0.28193778 0.28575751\n",
            " 0.28948683 0.29311943 0.29665083 0.30007777 0.30339703 0.30660632\n",
            " 0.30970326 0.31268638 0.31555492 0.3183094  0.32095119 0.32348308\n",
            " 0.32590863 0.32823253 0.33046001 0.33259693 0.33464929 0.33662313\n",
            " 0.33852455 0.3403593  0.34213272]\n",
            "4 day output [[0.34384975]]\n",
            "5 day input [0.3606332  0.34067451 0.35042444 0.32266581 0.32312463 0.33883919\n",
            " 0.35638907 0.35191558 0.35960089 0.34629504 0.37095669 0.36682729\n",
            " 0.36625373 0.34709798 0.34985088 0.34033041 0.34583621 0.33344803\n",
            " 0.32553344 0.32564816 0.35455383 0.34262448 0.33723332 0.34273922\n",
            " 0.34755681 0.32736867 0.32840107 0.38323005 0.34044506 0.31578351\n",
            " 0.30328059 0.31532467 0.29582474 0.30614822 0.31337462 0.31738937\n",
            " 0.33780688 0.34583621 0.32105993 0.2922689  0.29525126 0.27598079\n",
            " 0.26749253 0.27735719 0.30924531 0.30018359 0.30855702 0.30190409\n",
            " 0.29593947 0.31245704 0.31199821 0.33608629 0.42119761 0.37875664\n",
            " 0.37210372 0.34790091 0.35753619 0.34549211 0.35742146 0.35271851\n",
            " 0.25923384 0.23273688 0.24076629 0.24351919 0.2526415  0.24567954\n",
            " 0.24573906 0.24893041 0.25314343 0.25750855 0.26178119 0.26594648\n",
            " 0.27003562 0.274066   0.27803677 0.28193778 0.28575751 0.28948683\n",
            " 0.29311943 0.29665083 0.30007777 0.30339703 0.30660632 0.30970326\n",
            " 0.31268638 0.31555492 0.3183094  0.32095119 0.32348308 0.32590863\n",
            " 0.32823253 0.33046001 0.33259693 0.33464929 0.33662313 0.33852455\n",
            " 0.3403593  0.34213272 0.34384975]\n",
            "5 day output [[0.3455148]]\n",
            "6 day input [0.34067451 0.35042444 0.32266581 0.32312463 0.33883919 0.35638907\n",
            " 0.35191558 0.35960089 0.34629504 0.37095669 0.36682729 0.36625373\n",
            " 0.34709798 0.34985088 0.34033041 0.34583621 0.33344803 0.32553344\n",
            " 0.32564816 0.35455383 0.34262448 0.33723332 0.34273922 0.34755681\n",
            " 0.32736867 0.32840107 0.38323005 0.34044506 0.31578351 0.30328059\n",
            " 0.31532467 0.29582474 0.30614822 0.31337462 0.31738937 0.33780688\n",
            " 0.34583621 0.32105993 0.2922689  0.29525126 0.27598079 0.26749253\n",
            " 0.27735719 0.30924531 0.30018359 0.30855702 0.30190409 0.29593947\n",
            " 0.31245704 0.31199821 0.33608629 0.42119761 0.37875664 0.37210372\n",
            " 0.34790091 0.35753619 0.34549211 0.35742146 0.35271851 0.25923384\n",
            " 0.23273688 0.24076629 0.24351919 0.2526415  0.24567954 0.24573906\n",
            " 0.24893041 0.25314343 0.25750855 0.26178119 0.26594648 0.27003562\n",
            " 0.274066   0.27803677 0.28193778 0.28575751 0.28948683 0.29311943\n",
            " 0.29665083 0.30007777 0.30339703 0.30660632 0.30970326 0.31268638\n",
            " 0.31555492 0.3183094  0.32095119 0.32348308 0.32590863 0.32823253\n",
            " 0.33046001 0.33259693 0.33464929 0.33662313 0.33852455 0.3403593\n",
            " 0.34213272 0.34384975 0.3455148 ]\n",
            "6 day output [[0.347132]]\n",
            "7 day input [0.35042444 0.32266581 0.32312463 0.33883919 0.35638907 0.35191558\n",
            " 0.35960089 0.34629504 0.37095669 0.36682729 0.36625373 0.34709798\n",
            " 0.34985088 0.34033041 0.34583621 0.33344803 0.32553344 0.32564816\n",
            " 0.35455383 0.34262448 0.33723332 0.34273922 0.34755681 0.32736867\n",
            " 0.32840107 0.38323005 0.34044506 0.31578351 0.30328059 0.31532467\n",
            " 0.29582474 0.30614822 0.31337462 0.31738937 0.33780688 0.34583621\n",
            " 0.32105993 0.2922689  0.29525126 0.27598079 0.26749253 0.27735719\n",
            " 0.30924531 0.30018359 0.30855702 0.30190409 0.29593947 0.31245704\n",
            " 0.31199821 0.33608629 0.42119761 0.37875664 0.37210372 0.34790091\n",
            " 0.35753619 0.34549211 0.35742146 0.35271851 0.25923384 0.23273688\n",
            " 0.24076629 0.24351919 0.2526415  0.24567954 0.24573906 0.24893041\n",
            " 0.25314343 0.25750855 0.26178119 0.26594648 0.27003562 0.274066\n",
            " 0.27803677 0.28193778 0.28575751 0.28948683 0.29311943 0.29665083\n",
            " 0.30007777 0.30339703 0.30660632 0.30970326 0.31268638 0.31555492\n",
            " 0.3183094  0.32095119 0.32348308 0.32590863 0.32823253 0.33046001\n",
            " 0.33259693 0.33464929 0.33662313 0.33852455 0.3403593  0.34213272\n",
            " 0.34384975 0.3455148  0.347132  ]\n",
            "7 day output [[0.34870446]]\n",
            "8 day input [0.32266581 0.32312463 0.33883919 0.35638907 0.35191558 0.35960089\n",
            " 0.34629504 0.37095669 0.36682729 0.36625373 0.34709798 0.34985088\n",
            " 0.34033041 0.34583621 0.33344803 0.32553344 0.32564816 0.35455383\n",
            " 0.34262448 0.33723332 0.34273922 0.34755681 0.32736867 0.32840107\n",
            " 0.38323005 0.34044506 0.31578351 0.30328059 0.31532467 0.29582474\n",
            " 0.30614822 0.31337462 0.31738937 0.33780688 0.34583621 0.32105993\n",
            " 0.2922689  0.29525126 0.27598079 0.26749253 0.27735719 0.30924531\n",
            " 0.30018359 0.30855702 0.30190409 0.29593947 0.31245704 0.31199821\n",
            " 0.33608629 0.42119761 0.37875664 0.37210372 0.34790091 0.35753619\n",
            " 0.34549211 0.35742146 0.35271851 0.25923384 0.23273688 0.24076629\n",
            " 0.24351919 0.2526415  0.24567954 0.24573906 0.24893041 0.25314343\n",
            " 0.25750855 0.26178119 0.26594648 0.27003562 0.274066   0.27803677\n",
            " 0.28193778 0.28575751 0.28948683 0.29311943 0.29665083 0.30007777\n",
            " 0.30339703 0.30660632 0.30970326 0.31268638 0.31555492 0.3183094\n",
            " 0.32095119 0.32348308 0.32590863 0.32823253 0.33046001 0.33259693\n",
            " 0.33464929 0.33662313 0.33852455 0.3403593  0.34213272 0.34384975\n",
            " 0.3455148  0.347132   0.34870446]\n",
            "8 day output [[0.3502355]]\n",
            "9 day input [0.32312463 0.33883919 0.35638907 0.35191558 0.35960089 0.34629504\n",
            " 0.37095669 0.36682729 0.36625373 0.34709798 0.34985088 0.34033041\n",
            " 0.34583621 0.33344803 0.32553344 0.32564816 0.35455383 0.34262448\n",
            " 0.33723332 0.34273922 0.34755681 0.32736867 0.32840107 0.38323005\n",
            " 0.34044506 0.31578351 0.30328059 0.31532467 0.29582474 0.30614822\n",
            " 0.31337462 0.31738937 0.33780688 0.34583621 0.32105993 0.2922689\n",
            " 0.29525126 0.27598079 0.26749253 0.27735719 0.30924531 0.30018359\n",
            " 0.30855702 0.30190409 0.29593947 0.31245704 0.31199821 0.33608629\n",
            " 0.42119761 0.37875664 0.37210372 0.34790091 0.35753619 0.34549211\n",
            " 0.35742146 0.35271851 0.25923384 0.23273688 0.24076629 0.24351919\n",
            " 0.2526415  0.24567954 0.24573906 0.24893041 0.25314343 0.25750855\n",
            " 0.26178119 0.26594648 0.27003562 0.274066   0.27803677 0.28193778\n",
            " 0.28575751 0.28948683 0.29311943 0.29665083 0.30007777 0.30339703\n",
            " 0.30660632 0.30970326 0.31268638 0.31555492 0.3183094  0.32095119\n",
            " 0.32348308 0.32590863 0.32823253 0.33046001 0.33259693 0.33464929\n",
            " 0.33662313 0.33852455 0.3403593  0.34213272 0.34384975 0.3455148\n",
            " 0.347132   0.34870446 0.35023549]\n",
            "9 day output [[0.3517274]]\n",
            "10 day input [0.33883919 0.35638907 0.35191558 0.35960089 0.34629504 0.37095669\n",
            " 0.36682729 0.36625373 0.34709798 0.34985088 0.34033041 0.34583621\n",
            " 0.33344803 0.32553344 0.32564816 0.35455383 0.34262448 0.33723332\n",
            " 0.34273922 0.34755681 0.32736867 0.32840107 0.38323005 0.34044506\n",
            " 0.31578351 0.30328059 0.31532467 0.29582474 0.30614822 0.31337462\n",
            " 0.31738937 0.33780688 0.34583621 0.32105993 0.2922689  0.29525126\n",
            " 0.27598079 0.26749253 0.27735719 0.30924531 0.30018359 0.30855702\n",
            " 0.30190409 0.29593947 0.31245704 0.31199821 0.33608629 0.42119761\n",
            " 0.37875664 0.37210372 0.34790091 0.35753619 0.34549211 0.35742146\n",
            " 0.35271851 0.25923384 0.23273688 0.24076629 0.24351919 0.2526415\n",
            " 0.24567954 0.24573906 0.24893041 0.25314343 0.25750855 0.26178119\n",
            " 0.26594648 0.27003562 0.274066   0.27803677 0.28193778 0.28575751\n",
            " 0.28948683 0.29311943 0.29665083 0.30007777 0.30339703 0.30660632\n",
            " 0.30970326 0.31268638 0.31555492 0.3183094  0.32095119 0.32348308\n",
            " 0.32590863 0.32823253 0.33046001 0.33259693 0.33464929 0.33662313\n",
            " 0.33852455 0.3403593  0.34213272 0.34384975 0.3455148  0.347132\n",
            " 0.34870446 0.35023549 0.3517274 ]\n",
            "10 day output [[0.3531823]]\n",
            "11 day input [0.35638907 0.35191558 0.35960089 0.34629504 0.37095669 0.36682729\n",
            " 0.36625373 0.34709798 0.34985088 0.34033041 0.34583621 0.33344803\n",
            " 0.32553344 0.32564816 0.35455383 0.34262448 0.33723332 0.34273922\n",
            " 0.34755681 0.32736867 0.32840107 0.38323005 0.34044506 0.31578351\n",
            " 0.30328059 0.31532467 0.29582474 0.30614822 0.31337462 0.31738937\n",
            " 0.33780688 0.34583621 0.32105993 0.2922689  0.29525126 0.27598079\n",
            " 0.26749253 0.27735719 0.30924531 0.30018359 0.30855702 0.30190409\n",
            " 0.29593947 0.31245704 0.31199821 0.33608629 0.42119761 0.37875664\n",
            " 0.37210372 0.34790091 0.35753619 0.34549211 0.35742146 0.35271851\n",
            " 0.25923384 0.23273688 0.24076629 0.24351919 0.2526415  0.24567954\n",
            " 0.24573906 0.24893041 0.25314343 0.25750855 0.26178119 0.26594648\n",
            " 0.27003562 0.274066   0.27803677 0.28193778 0.28575751 0.28948683\n",
            " 0.29311943 0.29665083 0.30007777 0.30339703 0.30660632 0.30970326\n",
            " 0.31268638 0.31555492 0.3183094  0.32095119 0.32348308 0.32590863\n",
            " 0.32823253 0.33046001 0.33259693 0.33464929 0.33662313 0.33852455\n",
            " 0.3403593  0.34213272 0.34384975 0.3455148  0.347132   0.34870446\n",
            " 0.35023549 0.3517274  0.35318229]\n",
            "11 day output [[0.35460195]]\n",
            "12 day input [0.35191558 0.35960089 0.34629504 0.37095669 0.36682729 0.36625373\n",
            " 0.34709798 0.34985088 0.34033041 0.34583621 0.33344803 0.32553344\n",
            " 0.32564816 0.35455383 0.34262448 0.33723332 0.34273922 0.34755681\n",
            " 0.32736867 0.32840107 0.38323005 0.34044506 0.31578351 0.30328059\n",
            " 0.31532467 0.29582474 0.30614822 0.31337462 0.31738937 0.33780688\n",
            " 0.34583621 0.32105993 0.2922689  0.29525126 0.27598079 0.26749253\n",
            " 0.27735719 0.30924531 0.30018359 0.30855702 0.30190409 0.29593947\n",
            " 0.31245704 0.31199821 0.33608629 0.42119761 0.37875664 0.37210372\n",
            " 0.34790091 0.35753619 0.34549211 0.35742146 0.35271851 0.25923384\n",
            " 0.23273688 0.24076629 0.24351919 0.2526415  0.24567954 0.24573906\n",
            " 0.24893041 0.25314343 0.25750855 0.26178119 0.26594648 0.27003562\n",
            " 0.274066   0.27803677 0.28193778 0.28575751 0.28948683 0.29311943\n",
            " 0.29665083 0.30007777 0.30339703 0.30660632 0.30970326 0.31268638\n",
            " 0.31555492 0.3183094  0.32095119 0.32348308 0.32590863 0.32823253\n",
            " 0.33046001 0.33259693 0.33464929 0.33662313 0.33852455 0.3403593\n",
            " 0.34213272 0.34384975 0.3455148  0.347132   0.34870446 0.35023549\n",
            " 0.3517274  0.35318229 0.35460195]\n",
            "12 day output [[0.3559878]]\n",
            "13 day input [0.35960089 0.34629504 0.37095669 0.36682729 0.36625373 0.34709798\n",
            " 0.34985088 0.34033041 0.34583621 0.33344803 0.32553344 0.32564816\n",
            " 0.35455383 0.34262448 0.33723332 0.34273922 0.34755681 0.32736867\n",
            " 0.32840107 0.38323005 0.34044506 0.31578351 0.30328059 0.31532467\n",
            " 0.29582474 0.30614822 0.31337462 0.31738937 0.33780688 0.34583621\n",
            " 0.32105993 0.2922689  0.29525126 0.27598079 0.26749253 0.27735719\n",
            " 0.30924531 0.30018359 0.30855702 0.30190409 0.29593947 0.31245704\n",
            " 0.31199821 0.33608629 0.42119761 0.37875664 0.37210372 0.34790091\n",
            " 0.35753619 0.34549211 0.35742146 0.35271851 0.25923384 0.23273688\n",
            " 0.24076629 0.24351919 0.2526415  0.24567954 0.24573906 0.24893041\n",
            " 0.25314343 0.25750855 0.26178119 0.26594648 0.27003562 0.274066\n",
            " 0.27803677 0.28193778 0.28575751 0.28948683 0.29311943 0.29665083\n",
            " 0.30007777 0.30339703 0.30660632 0.30970326 0.31268638 0.31555492\n",
            " 0.3183094  0.32095119 0.32348308 0.32590863 0.32823253 0.33046001\n",
            " 0.33259693 0.33464929 0.33662313 0.33852455 0.3403593  0.34213272\n",
            " 0.34384975 0.3455148  0.347132   0.34870446 0.35023549 0.3517274\n",
            " 0.35318229 0.35460195 0.35598779]\n",
            "13 day output [[0.35734105]]\n",
            "14 day input [0.34629504 0.37095669 0.36682729 0.36625373 0.34709798 0.34985088\n",
            " 0.34033041 0.34583621 0.33344803 0.32553344 0.32564816 0.35455383\n",
            " 0.34262448 0.33723332 0.34273922 0.34755681 0.32736867 0.32840107\n",
            " 0.38323005 0.34044506 0.31578351 0.30328059 0.31532467 0.29582474\n",
            " 0.30614822 0.31337462 0.31738937 0.33780688 0.34583621 0.32105993\n",
            " 0.2922689  0.29525126 0.27598079 0.26749253 0.27735719 0.30924531\n",
            " 0.30018359 0.30855702 0.30190409 0.29593947 0.31245704 0.31199821\n",
            " 0.33608629 0.42119761 0.37875664 0.37210372 0.34790091 0.35753619\n",
            " 0.34549211 0.35742146 0.35271851 0.25923384 0.23273688 0.24076629\n",
            " 0.24351919 0.2526415  0.24567954 0.24573906 0.24893041 0.25314343\n",
            " 0.25750855 0.26178119 0.26594648 0.27003562 0.274066   0.27803677\n",
            " 0.28193778 0.28575751 0.28948683 0.29311943 0.29665083 0.30007777\n",
            " 0.30339703 0.30660632 0.30970326 0.31268638 0.31555492 0.3183094\n",
            " 0.32095119 0.32348308 0.32590863 0.32823253 0.33046001 0.33259693\n",
            " 0.33464929 0.33662313 0.33852455 0.3403593  0.34213272 0.34384975\n",
            " 0.3455148  0.347132   0.34870446 0.35023549 0.3517274  0.35318229\n",
            " 0.35460195 0.35598779 0.35734105]\n",
            "14 day output [[0.3586626]]\n",
            "15 day input [0.37095669 0.36682729 0.36625373 0.34709798 0.34985088 0.34033041\n",
            " 0.34583621 0.33344803 0.32553344 0.32564816 0.35455383 0.34262448\n",
            " 0.33723332 0.34273922 0.34755681 0.32736867 0.32840107 0.38323005\n",
            " 0.34044506 0.31578351 0.30328059 0.31532467 0.29582474 0.30614822\n",
            " 0.31337462 0.31738937 0.33780688 0.34583621 0.32105993 0.2922689\n",
            " 0.29525126 0.27598079 0.26749253 0.27735719 0.30924531 0.30018359\n",
            " 0.30855702 0.30190409 0.29593947 0.31245704 0.31199821 0.33608629\n",
            " 0.42119761 0.37875664 0.37210372 0.34790091 0.35753619 0.34549211\n",
            " 0.35742146 0.35271851 0.25923384 0.23273688 0.24076629 0.24351919\n",
            " 0.2526415  0.24567954 0.24573906 0.24893041 0.25314343 0.25750855\n",
            " 0.26178119 0.26594648 0.27003562 0.274066   0.27803677 0.28193778\n",
            " 0.28575751 0.28948683 0.29311943 0.29665083 0.30007777 0.30339703\n",
            " 0.30660632 0.30970326 0.31268638 0.31555492 0.3183094  0.32095119\n",
            " 0.32348308 0.32590863 0.32823253 0.33046001 0.33259693 0.33464929\n",
            " 0.33662313 0.33852455 0.3403593  0.34213272 0.34384975 0.3455148\n",
            " 0.347132   0.34870446 0.35023549 0.3517274  0.35318229 0.35460195\n",
            " 0.35598779 0.35734105 0.35866261]\n",
            "15 day output [[0.3599534]]\n",
            "16 day input [0.36682729 0.36625373 0.34709798 0.34985088 0.34033041 0.34583621\n",
            " 0.33344803 0.32553344 0.32564816 0.35455383 0.34262448 0.33723332\n",
            " 0.34273922 0.34755681 0.32736867 0.32840107 0.38323005 0.34044506\n",
            " 0.31578351 0.30328059 0.31532467 0.29582474 0.30614822 0.31337462\n",
            " 0.31738937 0.33780688 0.34583621 0.32105993 0.2922689  0.29525126\n",
            " 0.27598079 0.26749253 0.27735719 0.30924531 0.30018359 0.30855702\n",
            " 0.30190409 0.29593947 0.31245704 0.31199821 0.33608629 0.42119761\n",
            " 0.37875664 0.37210372 0.34790091 0.35753619 0.34549211 0.35742146\n",
            " 0.35271851 0.25923384 0.23273688 0.24076629 0.24351919 0.2526415\n",
            " 0.24567954 0.24573906 0.24893041 0.25314343 0.25750855 0.26178119\n",
            " 0.26594648 0.27003562 0.274066   0.27803677 0.28193778 0.28575751\n",
            " 0.28948683 0.29311943 0.29665083 0.30007777 0.30339703 0.30660632\n",
            " 0.30970326 0.31268638 0.31555492 0.3183094  0.32095119 0.32348308\n",
            " 0.32590863 0.32823253 0.33046001 0.33259693 0.33464929 0.33662313\n",
            " 0.33852455 0.3403593  0.34213272 0.34384975 0.3455148  0.347132\n",
            " 0.34870446 0.35023549 0.3517274  0.35318229 0.35460195 0.35598779\n",
            " 0.35734105 0.35866261 0.3599534 ]\n",
            "16 day output [[0.36121407]]\n",
            "17 day input [0.36625373 0.34709798 0.34985088 0.34033041 0.34583621 0.33344803\n",
            " 0.32553344 0.32564816 0.35455383 0.34262448 0.33723332 0.34273922\n",
            " 0.34755681 0.32736867 0.32840107 0.38323005 0.34044506 0.31578351\n",
            " 0.30328059 0.31532467 0.29582474 0.30614822 0.31337462 0.31738937\n",
            " 0.33780688 0.34583621 0.32105993 0.2922689  0.29525126 0.27598079\n",
            " 0.26749253 0.27735719 0.30924531 0.30018359 0.30855702 0.30190409\n",
            " 0.29593947 0.31245704 0.31199821 0.33608629 0.42119761 0.37875664\n",
            " 0.37210372 0.34790091 0.35753619 0.34549211 0.35742146 0.35271851\n",
            " 0.25923384 0.23273688 0.24076629 0.24351919 0.2526415  0.24567954\n",
            " 0.24573906 0.24893041 0.25314343 0.25750855 0.26178119 0.26594648\n",
            " 0.27003562 0.274066   0.27803677 0.28193778 0.28575751 0.28948683\n",
            " 0.29311943 0.29665083 0.30007777 0.30339703 0.30660632 0.30970326\n",
            " 0.31268638 0.31555492 0.3183094  0.32095119 0.32348308 0.32590863\n",
            " 0.32823253 0.33046001 0.33259693 0.33464929 0.33662313 0.33852455\n",
            " 0.3403593  0.34213272 0.34384975 0.3455148  0.347132   0.34870446\n",
            " 0.35023549 0.3517274  0.35318229 0.35460195 0.35598779 0.35734105\n",
            " 0.35866261 0.3599534  0.36121407]\n",
            "17 day output [[0.3624451]]\n",
            "18 day input [0.34709798 0.34985088 0.34033041 0.34583621 0.33344803 0.32553344\n",
            " 0.32564816 0.35455383 0.34262448 0.33723332 0.34273922 0.34755681\n",
            " 0.32736867 0.32840107 0.38323005 0.34044506 0.31578351 0.30328059\n",
            " 0.31532467 0.29582474 0.30614822 0.31337462 0.31738937 0.33780688\n",
            " 0.34583621 0.32105993 0.2922689  0.29525126 0.27598079 0.26749253\n",
            " 0.27735719 0.30924531 0.30018359 0.30855702 0.30190409 0.29593947\n",
            " 0.31245704 0.31199821 0.33608629 0.42119761 0.37875664 0.37210372\n",
            " 0.34790091 0.35753619 0.34549211 0.35742146 0.35271851 0.25923384\n",
            " 0.23273688 0.24076629 0.24351919 0.2526415  0.24567954 0.24573906\n",
            " 0.24893041 0.25314343 0.25750855 0.26178119 0.26594648 0.27003562\n",
            " 0.274066   0.27803677 0.28193778 0.28575751 0.28948683 0.29311943\n",
            " 0.29665083 0.30007777 0.30339703 0.30660632 0.30970326 0.31268638\n",
            " 0.31555492 0.3183094  0.32095119 0.32348308 0.32590863 0.32823253\n",
            " 0.33046001 0.33259693 0.33464929 0.33662313 0.33852455 0.3403593\n",
            " 0.34213272 0.34384975 0.3455148  0.347132   0.34870446 0.35023549\n",
            " 0.3517274  0.35318229 0.35460195 0.35598779 0.35734105 0.35866261\n",
            " 0.3599534  0.36121407 0.36244509]\n",
            "18 day output [[0.36364692]]\n",
            "19 day input [0.34985088 0.34033041 0.34583621 0.33344803 0.32553344 0.32564816\n",
            " 0.35455383 0.34262448 0.33723332 0.34273922 0.34755681 0.32736867\n",
            " 0.32840107 0.38323005 0.34044506 0.31578351 0.30328059 0.31532467\n",
            " 0.29582474 0.30614822 0.31337462 0.31738937 0.33780688 0.34583621\n",
            " 0.32105993 0.2922689  0.29525126 0.27598079 0.26749253 0.27735719\n",
            " 0.30924531 0.30018359 0.30855702 0.30190409 0.29593947 0.31245704\n",
            " 0.31199821 0.33608629 0.42119761 0.37875664 0.37210372 0.34790091\n",
            " 0.35753619 0.34549211 0.35742146 0.35271851 0.25923384 0.23273688\n",
            " 0.24076629 0.24351919 0.2526415  0.24567954 0.24573906 0.24893041\n",
            " 0.25314343 0.25750855 0.26178119 0.26594648 0.27003562 0.274066\n",
            " 0.27803677 0.28193778 0.28575751 0.28948683 0.29311943 0.29665083\n",
            " 0.30007777 0.30339703 0.30660632 0.30970326 0.31268638 0.31555492\n",
            " 0.3183094  0.32095119 0.32348308 0.32590863 0.32823253 0.33046001\n",
            " 0.33259693 0.33464929 0.33662313 0.33852455 0.3403593  0.34213272\n",
            " 0.34384975 0.3455148  0.347132   0.34870446 0.35023549 0.3517274\n",
            " 0.35318229 0.35460195 0.35598779 0.35734105 0.35866261 0.3599534\n",
            " 0.36121407 0.36244509 0.36364692]\n",
            "19 day output [[0.3648202]]\n",
            "20 day input [0.34033041 0.34583621 0.33344803 0.32553344 0.32564816 0.35455383\n",
            " 0.34262448 0.33723332 0.34273922 0.34755681 0.32736867 0.32840107\n",
            " 0.38323005 0.34044506 0.31578351 0.30328059 0.31532467 0.29582474\n",
            " 0.30614822 0.31337462 0.31738937 0.33780688 0.34583621 0.32105993\n",
            " 0.2922689  0.29525126 0.27598079 0.26749253 0.27735719 0.30924531\n",
            " 0.30018359 0.30855702 0.30190409 0.29593947 0.31245704 0.31199821\n",
            " 0.33608629 0.42119761 0.37875664 0.37210372 0.34790091 0.35753619\n",
            " 0.34549211 0.35742146 0.35271851 0.25923384 0.23273688 0.24076629\n",
            " 0.24351919 0.2526415  0.24567954 0.24573906 0.24893041 0.25314343\n",
            " 0.25750855 0.26178119 0.26594648 0.27003562 0.274066   0.27803677\n",
            " 0.28193778 0.28575751 0.28948683 0.29311943 0.29665083 0.30007777\n",
            " 0.30339703 0.30660632 0.30970326 0.31268638 0.31555492 0.3183094\n",
            " 0.32095119 0.32348308 0.32590863 0.32823253 0.33046001 0.33259693\n",
            " 0.33464929 0.33662313 0.33852455 0.3403593  0.34213272 0.34384975\n",
            " 0.3455148  0.347132   0.34870446 0.35023549 0.3517274  0.35318229\n",
            " 0.35460195 0.35598779 0.35734105 0.35866261 0.3599534  0.36121407\n",
            " 0.36244509 0.36364692 0.36482021]\n",
            "20 day output [[0.36596534]]\n",
            "21 day input [0.34583621 0.33344803 0.32553344 0.32564816 0.35455383 0.34262448\n",
            " 0.33723332 0.34273922 0.34755681 0.32736867 0.32840107 0.38323005\n",
            " 0.34044506 0.31578351 0.30328059 0.31532467 0.29582474 0.30614822\n",
            " 0.31337462 0.31738937 0.33780688 0.34583621 0.32105993 0.2922689\n",
            " 0.29525126 0.27598079 0.26749253 0.27735719 0.30924531 0.30018359\n",
            " 0.30855702 0.30190409 0.29593947 0.31245704 0.31199821 0.33608629\n",
            " 0.42119761 0.37875664 0.37210372 0.34790091 0.35753619 0.34549211\n",
            " 0.35742146 0.35271851 0.25923384 0.23273688 0.24076629 0.24351919\n",
            " 0.2526415  0.24567954 0.24573906 0.24893041 0.25314343 0.25750855\n",
            " 0.26178119 0.26594648 0.27003562 0.274066   0.27803677 0.28193778\n",
            " 0.28575751 0.28948683 0.29311943 0.29665083 0.30007777 0.30339703\n",
            " 0.30660632 0.30970326 0.31268638 0.31555492 0.3183094  0.32095119\n",
            " 0.32348308 0.32590863 0.32823253 0.33046001 0.33259693 0.33464929\n",
            " 0.33662313 0.33852455 0.3403593  0.34213272 0.34384975 0.3455148\n",
            " 0.347132   0.34870446 0.35023549 0.3517274  0.35318229 0.35460195\n",
            " 0.35598779 0.35734105 0.35866261 0.3599534  0.36121407 0.36244509\n",
            " 0.36364692 0.36482021 0.36596534]\n",
            "21 day output [[0.36708245]]\n",
            "22 day input [0.33344803 0.32553344 0.32564816 0.35455383 0.34262448 0.33723332\n",
            " 0.34273922 0.34755681 0.32736867 0.32840107 0.38323005 0.34044506\n",
            " 0.31578351 0.30328059 0.31532467 0.29582474 0.30614822 0.31337462\n",
            " 0.31738937 0.33780688 0.34583621 0.32105993 0.2922689  0.29525126\n",
            " 0.27598079 0.26749253 0.27735719 0.30924531 0.30018359 0.30855702\n",
            " 0.30190409 0.29593947 0.31245704 0.31199821 0.33608629 0.42119761\n",
            " 0.37875664 0.37210372 0.34790091 0.35753619 0.34549211 0.35742146\n",
            " 0.35271851 0.25923384 0.23273688 0.24076629 0.24351919 0.2526415\n",
            " 0.24567954 0.24573906 0.24893041 0.25314343 0.25750855 0.26178119\n",
            " 0.26594648 0.27003562 0.274066   0.27803677 0.28193778 0.28575751\n",
            " 0.28948683 0.29311943 0.29665083 0.30007777 0.30339703 0.30660632\n",
            " 0.30970326 0.31268638 0.31555492 0.3183094  0.32095119 0.32348308\n",
            " 0.32590863 0.32823253 0.33046001 0.33259693 0.33464929 0.33662313\n",
            " 0.33852455 0.3403593  0.34213272 0.34384975 0.3455148  0.347132\n",
            " 0.34870446 0.35023549 0.3517274  0.35318229 0.35460195 0.35598779\n",
            " 0.35734105 0.35866261 0.3599534  0.36121407 0.36244509 0.36364692\n",
            " 0.36482021 0.36596534 0.36708245]\n",
            "22 day output [[0.36817226]]\n",
            "23 day input [0.32553344 0.32564816 0.35455383 0.34262448 0.33723332 0.34273922\n",
            " 0.34755681 0.32736867 0.32840107 0.38323005 0.34044506 0.31578351\n",
            " 0.30328059 0.31532467 0.29582474 0.30614822 0.31337462 0.31738937\n",
            " 0.33780688 0.34583621 0.32105993 0.2922689  0.29525126 0.27598079\n",
            " 0.26749253 0.27735719 0.30924531 0.30018359 0.30855702 0.30190409\n",
            " 0.29593947 0.31245704 0.31199821 0.33608629 0.42119761 0.37875664\n",
            " 0.37210372 0.34790091 0.35753619 0.34549211 0.35742146 0.35271851\n",
            " 0.25923384 0.23273688 0.24076629 0.24351919 0.2526415  0.24567954\n",
            " 0.24573906 0.24893041 0.25314343 0.25750855 0.26178119 0.26594648\n",
            " 0.27003562 0.274066   0.27803677 0.28193778 0.28575751 0.28948683\n",
            " 0.29311943 0.29665083 0.30007777 0.30339703 0.30660632 0.30970326\n",
            " 0.31268638 0.31555492 0.3183094  0.32095119 0.32348308 0.32590863\n",
            " 0.32823253 0.33046001 0.33259693 0.33464929 0.33662313 0.33852455\n",
            " 0.3403593  0.34213272 0.34384975 0.3455148  0.347132   0.34870446\n",
            " 0.35023549 0.3517274  0.35318229 0.35460195 0.35598779 0.35734105\n",
            " 0.35866261 0.3599534  0.36121407 0.36244509 0.36364692 0.36482021\n",
            " 0.36596534 0.36708245 0.36817226]\n",
            "23 day output [[0.36923495]]\n",
            "24 day input [0.32564816 0.35455383 0.34262448 0.33723332 0.34273922 0.34755681\n",
            " 0.32736867 0.32840107 0.38323005 0.34044506 0.31578351 0.30328059\n",
            " 0.31532467 0.29582474 0.30614822 0.31337462 0.31738937 0.33780688\n",
            " 0.34583621 0.32105993 0.2922689  0.29525126 0.27598079 0.26749253\n",
            " 0.27735719 0.30924531 0.30018359 0.30855702 0.30190409 0.29593947\n",
            " 0.31245704 0.31199821 0.33608629 0.42119761 0.37875664 0.37210372\n",
            " 0.34790091 0.35753619 0.34549211 0.35742146 0.35271851 0.25923384\n",
            " 0.23273688 0.24076629 0.24351919 0.2526415  0.24567954 0.24573906\n",
            " 0.24893041 0.25314343 0.25750855 0.26178119 0.26594648 0.27003562\n",
            " 0.274066   0.27803677 0.28193778 0.28575751 0.28948683 0.29311943\n",
            " 0.29665083 0.30007777 0.30339703 0.30660632 0.30970326 0.31268638\n",
            " 0.31555492 0.3183094  0.32095119 0.32348308 0.32590863 0.32823253\n",
            " 0.33046001 0.33259693 0.33464929 0.33662313 0.33852455 0.3403593\n",
            " 0.34213272 0.34384975 0.3455148  0.347132   0.34870446 0.35023549\n",
            " 0.3517274  0.35318229 0.35460195 0.35598779 0.35734105 0.35866261\n",
            " 0.3599534  0.36121407 0.36244509 0.36364692 0.36482021 0.36596534\n",
            " 0.36708245 0.36817226 0.36923495]\n",
            "24 day output [[0.37027094]]\n",
            "25 day input [0.35455383 0.34262448 0.33723332 0.34273922 0.34755681 0.32736867\n",
            " 0.32840107 0.38323005 0.34044506 0.31578351 0.30328059 0.31532467\n",
            " 0.29582474 0.30614822 0.31337462 0.31738937 0.33780688 0.34583621\n",
            " 0.32105993 0.2922689  0.29525126 0.27598079 0.26749253 0.27735719\n",
            " 0.30924531 0.30018359 0.30855702 0.30190409 0.29593947 0.31245704\n",
            " 0.31199821 0.33608629 0.42119761 0.37875664 0.37210372 0.34790091\n",
            " 0.35753619 0.34549211 0.35742146 0.35271851 0.25923384 0.23273688\n",
            " 0.24076629 0.24351919 0.2526415  0.24567954 0.24573906 0.24893041\n",
            " 0.25314343 0.25750855 0.26178119 0.26594648 0.27003562 0.274066\n",
            " 0.27803677 0.28193778 0.28575751 0.28948683 0.29311943 0.29665083\n",
            " 0.30007777 0.30339703 0.30660632 0.30970326 0.31268638 0.31555492\n",
            " 0.3183094  0.32095119 0.32348308 0.32590863 0.32823253 0.33046001\n",
            " 0.33259693 0.33464929 0.33662313 0.33852455 0.3403593  0.34213272\n",
            " 0.34384975 0.3455148  0.347132   0.34870446 0.35023549 0.3517274\n",
            " 0.35318229 0.35460195 0.35598779 0.35734105 0.35866261 0.3599534\n",
            " 0.36121407 0.36244509 0.36364692 0.36482021 0.36596534 0.36708245\n",
            " 0.36817226 0.36923495 0.37027094]\n",
            "25 day output [[0.37128064]]\n",
            "26 day input [0.34262448 0.33723332 0.34273922 0.34755681 0.32736867 0.32840107\n",
            " 0.38323005 0.34044506 0.31578351 0.30328059 0.31532467 0.29582474\n",
            " 0.30614822 0.31337462 0.31738937 0.33780688 0.34583621 0.32105993\n",
            " 0.2922689  0.29525126 0.27598079 0.26749253 0.27735719 0.30924531\n",
            " 0.30018359 0.30855702 0.30190409 0.29593947 0.31245704 0.31199821\n",
            " 0.33608629 0.42119761 0.37875664 0.37210372 0.34790091 0.35753619\n",
            " 0.34549211 0.35742146 0.35271851 0.25923384 0.23273688 0.24076629\n",
            " 0.24351919 0.2526415  0.24567954 0.24573906 0.24893041 0.25314343\n",
            " 0.25750855 0.26178119 0.26594648 0.27003562 0.274066   0.27803677\n",
            " 0.28193778 0.28575751 0.28948683 0.29311943 0.29665083 0.30007777\n",
            " 0.30339703 0.30660632 0.30970326 0.31268638 0.31555492 0.3183094\n",
            " 0.32095119 0.32348308 0.32590863 0.32823253 0.33046001 0.33259693\n",
            " 0.33464929 0.33662313 0.33852455 0.3403593  0.34213272 0.34384975\n",
            " 0.3455148  0.347132   0.34870446 0.35023549 0.3517274  0.35318229\n",
            " 0.35460195 0.35598779 0.35734105 0.35866261 0.3599534  0.36121407\n",
            " 0.36244509 0.36364692 0.36482021 0.36596534 0.36708245 0.36817226\n",
            " 0.36923495 0.37027094 0.37128064]\n",
            "26 day output [[0.3722644]]\n",
            "27 day input [0.33723332 0.34273922 0.34755681 0.32736867 0.32840107 0.38323005\n",
            " 0.34044506 0.31578351 0.30328059 0.31532467 0.29582474 0.30614822\n",
            " 0.31337462 0.31738937 0.33780688 0.34583621 0.32105993 0.2922689\n",
            " 0.29525126 0.27598079 0.26749253 0.27735719 0.30924531 0.30018359\n",
            " 0.30855702 0.30190409 0.29593947 0.31245704 0.31199821 0.33608629\n",
            " 0.42119761 0.37875664 0.37210372 0.34790091 0.35753619 0.34549211\n",
            " 0.35742146 0.35271851 0.25923384 0.23273688 0.24076629 0.24351919\n",
            " 0.2526415  0.24567954 0.24573906 0.24893041 0.25314343 0.25750855\n",
            " 0.26178119 0.26594648 0.27003562 0.274066   0.27803677 0.28193778\n",
            " 0.28575751 0.28948683 0.29311943 0.29665083 0.30007777 0.30339703\n",
            " 0.30660632 0.30970326 0.31268638 0.31555492 0.3183094  0.32095119\n",
            " 0.32348308 0.32590863 0.32823253 0.33046001 0.33259693 0.33464929\n",
            " 0.33662313 0.33852455 0.3403593  0.34213272 0.34384975 0.3455148\n",
            " 0.347132   0.34870446 0.35023549 0.3517274  0.35318229 0.35460195\n",
            " 0.35598779 0.35734105 0.35866261 0.3599534  0.36121407 0.36244509\n",
            " 0.36364692 0.36482021 0.36596534 0.36708245 0.36817226 0.36923495\n",
            " 0.37027094 0.37128064 0.37226439]\n",
            "27 day output [[0.3732227]]\n",
            "28 day input [0.34273922 0.34755681 0.32736867 0.32840107 0.38323005 0.34044506\n",
            " 0.31578351 0.30328059 0.31532467 0.29582474 0.30614822 0.31337462\n",
            " 0.31738937 0.33780688 0.34583621 0.32105993 0.2922689  0.29525126\n",
            " 0.27598079 0.26749253 0.27735719 0.30924531 0.30018359 0.30855702\n",
            " 0.30190409 0.29593947 0.31245704 0.31199821 0.33608629 0.42119761\n",
            " 0.37875664 0.37210372 0.34790091 0.35753619 0.34549211 0.35742146\n",
            " 0.35271851 0.25923384 0.23273688 0.24076629 0.24351919 0.2526415\n",
            " 0.24567954 0.24573906 0.24893041 0.25314343 0.25750855 0.26178119\n",
            " 0.26594648 0.27003562 0.274066   0.27803677 0.28193778 0.28575751\n",
            " 0.28948683 0.29311943 0.29665083 0.30007777 0.30339703 0.30660632\n",
            " 0.30970326 0.31268638 0.31555492 0.3183094  0.32095119 0.32348308\n",
            " 0.32590863 0.32823253 0.33046001 0.33259693 0.33464929 0.33662313\n",
            " 0.33852455 0.3403593  0.34213272 0.34384975 0.3455148  0.347132\n",
            " 0.34870446 0.35023549 0.3517274  0.35318229 0.35460195 0.35598779\n",
            " 0.35734105 0.35866261 0.3599534  0.36121407 0.36244509 0.36364692\n",
            " 0.36482021 0.36596534 0.36708245 0.36817226 0.36923495 0.37027094\n",
            " 0.37128064 0.37226439 0.37322271]\n",
            "28 day output [[0.37415603]]\n",
            "29 day input [0.34755681 0.32736867 0.32840107 0.38323005 0.34044506 0.31578351\n",
            " 0.30328059 0.31532467 0.29582474 0.30614822 0.31337462 0.31738937\n",
            " 0.33780688 0.34583621 0.32105993 0.2922689  0.29525126 0.27598079\n",
            " 0.26749253 0.27735719 0.30924531 0.30018359 0.30855702 0.30190409\n",
            " 0.29593947 0.31245704 0.31199821 0.33608629 0.42119761 0.37875664\n",
            " 0.37210372 0.34790091 0.35753619 0.34549211 0.35742146 0.35271851\n",
            " 0.25923384 0.23273688 0.24076629 0.24351919 0.2526415  0.24567954\n",
            " 0.24573906 0.24893041 0.25314343 0.25750855 0.26178119 0.26594648\n",
            " 0.27003562 0.274066   0.27803677 0.28193778 0.28575751 0.28948683\n",
            " 0.29311943 0.29665083 0.30007777 0.30339703 0.30660632 0.30970326\n",
            " 0.31268638 0.31555492 0.3183094  0.32095119 0.32348308 0.32590863\n",
            " 0.32823253 0.33046001 0.33259693 0.33464929 0.33662313 0.33852455\n",
            " 0.3403593  0.34213272 0.34384975 0.3455148  0.347132   0.34870446\n",
            " 0.35023549 0.3517274  0.35318229 0.35460195 0.35598779 0.35734105\n",
            " 0.35866261 0.3599534  0.36121407 0.36244509 0.36364692 0.36482021\n",
            " 0.36596534 0.36708245 0.36817226 0.36923495 0.37027094 0.37128064\n",
            " 0.37226439 0.37322271 0.37415603]\n",
            "29 day output [[0.37506455]]\n",
            "[[0.3366231322288513], [0.33852455019950867], [0.34035930037498474], [0.34213271737098694], [0.3438497483730316], [0.34551480412483215], [0.34713199734687805], [0.34870445728302], [0.3502354919910431], [0.3517273962497711], [0.35318228602409363], [0.3546019494533539], [0.3559877872467041], [0.35734105110168457], [0.35866260528564453], [0.3599534034729004], [0.3612140715122223], [0.36244508624076843], [0.363646924495697], [0.3648202121257782], [0.365965336561203], [0.3670824468135834], [0.3681722581386566], [0.36923494935035706], [0.3702709376811981], [0.37128064036369324], [0.37226438522338867], [0.3732227087020874], [0.37415602803230286], [0.37506455183029175]]\n"
          ],
          "name": "stdout"
        }
      ]
    },
    {
      "cell_type": "code",
      "metadata": {
        "id": "8NKju9kY_QNK"
      },
      "source": [
        "day_new=np.arange(1,101)\n",
        "day_pred=np.arange(101,131)"
      ],
      "execution_count": 75,
      "outputs": []
    },
    {
      "cell_type": "code",
      "metadata": {
        "id": "rHGWF9cJ_hiS",
        "outputId": "fd56a32f-2ab6-471c-deff-f83a208fe619",
        "colab": {
          "base_uri": "https://localhost:8080/"
        }
      },
      "source": [
        "len(df)"
      ],
      "execution_count": 76,
      "outputs": [
        {
          "output_type": "execute_result",
          "data": {
            "text/plain": [
              "1259"
            ]
          },
          "metadata": {
            "tags": []
          },
          "execution_count": 76
        }
      ]
    },
    {
      "cell_type": "code",
      "metadata": {
        "id": "-jVT3-au_o48",
        "outputId": "17d981c2-4e91-43c6-be71-f5d4cf26b8f0",
        "colab": {
          "base_uri": "https://localhost:8080/",
          "height": 282
        }
      },
      "source": [
        "plt.plot(day_new,scaler.inverse_transform(df[1159:]))\n",
        "plt.plot(day_pred,scaler.inverse_transform(lst_output))"
      ],
      "execution_count": 77,
      "outputs": [
        {
          "output_type": "execute_result",
          "data": {
            "text/plain": [
              "[<matplotlib.lines.Line2D at 0x7fcdd8767ac8>]"
            ]
          },
          "metadata": {
            "tags": []
          },
          "execution_count": 77
        },
        {
          "output_type": "display_data",
          "data": {
            "image/png": "[encoded data removed]",
            "text/plain": [
              "<Figure size 432x288 with 1 Axes>"
            ]
          },
          "metadata": {
            "tags": [],
            "needs_background": "light"
          }
        }
      ]
    },
    {
      "cell_type": "code",
      "metadata": {
        "id": "YKa4SeDoEKGN",
        "outputId": "0a0f7ea9-7c77-45ac-a4ce-1410ffed9d80",
        "colab": {
          "base_uri": "https://localhost:8080/",
          "height": 282
        }
      },
      "source": [
        "df1=df.tolist()\n",
        "df1.extend(lst_output)\n",
        "plt.plot(df1[1000:])"
      ],
      "execution_count": 78,
      "outputs": [
        {
          "output_type": "execute_result",
          "data": {
            "text/plain": [
              "[<matplotlib.lines.Line2D at 0x7fcdd8bcbbe0>]"
            ]
          },
          "metadata": {
            "tags": []
          },
          "execution_count": 78
        },
        {
          "output_type": "display_data",
          "data": {
            "image/png": "[encoded data removed]",
            "text/plain": [
              "<Figure size 432x288 with 1 Axes>"
            ]
          },
          "metadata": {
            "tags": [],
            "needs_background": "light"
          }
        }
      ]
    },
    {
      "cell_type": "code",
      "metadata": {
        "id": "Xo-npiEBE59V"
      },
      "source": [
        "df1=scaler.inverse_transform(df1).tolist()"
      ],
      "execution_count": 79,
      "outputs": []
    },
    {
      "cell_type": "code",
      "metadata": {
        "id": "Su9MHQZbFESo",
        "outputId": "52719e1f-fe56-4d59-8837-0df811877cfd",
        "colab": {
          "base_uri": "https://localhost:8080/",
          "height": 282
        }
      },
      "source": [
        "plt.plot(df1)"
      ],
      "execution_count": 80,
      "outputs": [
        {
          "output_type": "execute_result",
          "data": {
            "text/plain": [
              "[<matplotlib.lines.Line2D at 0x7fcddc738160>]"
            ]
          },
          "metadata": {
            "tags": []
          },
          "execution_count": 80
        },
        {
          "output_type": "display_data",
          "data": {
            "image/png": "[encoded data removed]",
            "text/plain": [
              "<Figure size 432x288 with 1 Axes>"
            ]
          },
          "metadata": {
            "tags": [],
            "needs_background": "light"
          }
        }
      ]
    },
    {
      "cell_type": "code",
      "metadata": {
        "id": "hmzP7I20Fi8h",
        "outputId": "45353d91-63fe-43c1-8638-bef1978e2bf6",
        "colab": {
          "base_uri": "https://localhost:8080/"
        }
      },
      "source": [
        "print(df1)"
      ],
      "execution_count": 81,
      "outputs": [
        {
          "output_type": "stream",
          "text": [
            "[[0.6555634737308378], [0.643855451326249], [0.6498507651648197], [0.6492855526010912], [0.6483367975335199], [0.6489221842205911], [0.6519703259045098], [0.6514656700274098], [0.6479532530110533], [0.6446427124759013], [0.6387079553239593], [0.6390309411411738], [0.6381225666182644], [0.6341256698667743], [0.6315216596713034], [0.6354781758781314], [0.6357002244640553], [0.6397374714808547], [0.6415946010713354], [0.6451473683530013], [0.6450666375430298], [0.6453492428155824], [0.6441380565988015], [0.6450666375430298], [0.6470044979434819], [0.6507591396877289], [0.6475697105072105], [0.6459951861892821], [0.6490432975938482], [0.6472669290926915], [0.644238993830092], [0.6413321719407494], [0.6416753338999304], [0.6372141920953551], [0.6399594918060495], [0.6437141315316729], [0.6467420667942725], [0.6416147772133018], [0.6378803116110213], [0.6390914978278022], [0.6439967388228489], [0.6452280991629726], [0.6446427124759013], [0.6433507954491491], [0.6477312044251294], [0.646843004025563], [0.6433709695724921], [0.6399998723507115], [0.6397980281674832], [0.6384253480327833], [0.6337623337842506], [0.631279434943413], [0.6345092143892409], [0.6338430645942219], [0.6303508539991846], [0.6338632710155411], [0.6280496252182324], [0.624173872119352], [0.6115574751918539], [0.6136770359315441], [0.6128493922186062], [0.6120015743823254], [0.6130310602598682], [0.6097407099970472], [0.6122841796548778], [0.617472042071465], [0.6175527890304245], [0.6137375905995491], [0.617330738425877], [0.6232453073241117], [0.6251024510449569], [0.6218928315921074], [0.6160186311267938], [0.60818637595145], [0.6034627888673006], [0.6099022039149662], [0.6133338578233751], [0.6201164328115981], [0.6329346900713126], [0.634206432974722], [0.6355992872327648], [0.6328337528400221], [0.6336412204109936], [0.6370728743194025], [0.6320868722350318], [0.6300682487266321], [0.636810443170193], [0.6407064026903925], [0.6437343379529921], [0.6437343379529921], [0.6484780850301197], [0.6462979978831537], [0.6490029473285388], [0.6485588461194438], [0.6529392571140477], [0.6537870749503285], [0.6541504433308285], [0.6578444960904708], [0.66238639898437], [0.6624873362156606], [0.6655960345862078], [0.6645261661453794], [0.6590758584492181], [0.6642233544515078], [0.6651317289744172], [0.667009064986217], [0.6651519353957364], [0.6712885367309068], [0.673448478015259], [0.6725401034923497], [0.6683615386995978], [0.6684019192442597], [0.6648289475598983], [0.6670494455308791], [0.666847571068298], [0.6676146580946074], [0.6708444375404353], [0.6707031500438354], [0.6718335731526687], [0.6734686541572255], [0.6562497976491997], [0.6605090952705465], [0.6669485082995885], [0.6653336034369982], [0.6659593726873552], [0.666504409109117], [0.6693102937671691], [0.6624469859503512], [0.660165931292742], [0.6588134575793613], [0.6565122287984091], [0.6567544535262996], [0.6612357997335704], [0.66289105486147], [0.6629919920927605], [0.6683009820129693], [0.6662419779599076], [0.6660199273553601], [0.66375907911907], [0.6672714961354265], [0.6643242916827984], [0.6629919920927605], [0.6581271033816467], [0.6628103240514986], [0.6618413928419608], [0.6649500609331552], [0.6717730164660403], [0.67328698409734], [0.6740944213889588], [0.6759112007141301], [0.6734282736125634], [0.6754267209789967], [0.6741953586202494], [0.6738723728030349], [0.6750835590198158], [0.6764360327331965], [0.6752652270610776], [0.6731456663213875], [0.6709453747717259], [0.6705012755812545], [0.669734188554945], [0.6705012755812545], [0.6723786095744306], [0.6756487715835442], [0.6765369699644871], [0.6742559153068779], [0.6791611865812772], [0.6614780244614608], [0.6552404858949997], [0.6596814515576086], [0.6652528726270268], [0.6719546865259257], [0.6731053160560782], [0.6717528120633447], [0.6731456663213875], [0.6736099719331781], [0.677364613677425], [0.6791208060366152], [0.682572634068367], [0.6845509073114573], [0.6891129863473231], [0.6881036745931233], [0.6882651685110422], [0.6876999559473138], [0.6912931037736418], [0.689456148306504], [0.6927263385763466], [0.6938971139691128], [0.6928272455282845], [0.6922418588412131], [0.6913132778969847], [0.689799310265685], [0.6914747718149037], [0.6897185794557135], [0.6899002474969754], [0.6916766462774847], [0.6956129560629936], [0.6926657516103655], [0.6921207454679561], [0.6927465147183131], [0.6956735127496221], [0.6924840835691035], [0.6923427960725037], [0.689960804183604], [0.6894359721645376], [0.6912931037736418], [0.6886285045935661], [0.6885477737835947], [0.689072605802661], [0.6866300875064855], [0.6857822696702046], [0.6851565004198478], [0.6879825612198662], [0.6873365875668138], [0.6862869255473045], [0.6876191928393662], [0.6876393992606853], [0.6892543041232756], [0.6918583143187467], [0.686529150275195], [0.679847510499639], [0.6850959134538666], [0.680089737246153], [0.6765369699644871], [0.6797869558316341], [0.6761130448973585], [0.6781922250923867], [0.6773444072561059], [0.6795245246824245], [0.6806953303545434], [0.6784142756969342], [0.6763956521885345], [0.6820276279259577], [0.6850959134538666], [0.6847325773713427], [0.6862263688606761], [0.6837232656171429], [0.6814018606942244], [0.6826533971763147], [0.6822496785305052], [0.6798071299549769], [0.6825322838030576], [0.6780307311744677], [0.6770214194202678], [0.6758708201694681], [0.6773444072561059], [0.6779903809091583], [0.669814949644269], [0.6709049942270638], [0.6714298545068593], [0.6676146580946074], [0.6695121682297501], [0.6701379374801071], [0.6720152432125542], [0.6751239395644778], [0.6736301480751444], [0.6758102634828397], [0.6739934841576684], [0.6722978484851067], [0.6731456663213875], [0.6732667796946444], [0.6799080671862675], [0.6787978182007771], [0.6780711137377533], [0.688991872974066], [0.6911114337137563], [0.6849344518339239], [0.685863000480176], [0.6871145369622663], [0.6881440551377853], [0.689335034933247], [0.6941393689763559], [0.6939374945137748], [0.692544640255732], [0.6948862495813461], [0.6976719601160553], [0.6956735127496221], [0.6930291199908655], [0.6881844356824474], [0.6885881543282567], [0.6882247859477566], [0.6892543041232756], [0.6982169662584646], [0.6993675978072406], [0.7017092071328548], [0.699650203079793], [0.7052821485378635], [0.7057262497469585], [0.7047371423954543], [0.7021331019206306], [0.70203216468934], [0.7038893245591734], [0.7033442881374115], [0.7027992517156495], [0.7020927516553213], [0.702960743614945], [0.7010430573378358], [0.7018707010507736], [0.7006393386920264], [0.7030616808462354], [0.7072402173782583], [0.7061097922508015], [0.7077852538000202], [0.7039902315111113], [0.699690583624455], [0.7041921059736923], [0.7045958246195017], [0.7033644622607543], [0.7044747112462447], [0.7022744196965831], [0.7022945958385496], [0.7098442578530819], [0.7108131890626198], [0.7206438754554088], [0.7254683836218605], [0.726215296524827], [0.7234699665347799], [0.7204420312721803], [0.7178581952000522], [0.7173938895882617], [0.7179793085733093], [0.7204824118168424], [0.7205631446454374], [0.7258115778790176], [0.7211889118771706], [0.723288298493518], [0.7262556467901364], [0.7276283269248363], [0.729182675100798], [0.7323115173153354], [0.7318068614382355], [0.7302727176649693], [0.7294450759706549], [0.731241648874507], [0.732250960628707], [0.7316453977996691], [0.7277090577348077], [0.7285569058504411], [0.7328565537370973], [0.7299901123924168], [0.7290211811828791], [0.7298689990191599], [0.729687330977898], [0.7278099949660981], [0.7232277115275367], [0.7245398349756083], [0.7217743308622182], [0.7202805373542613], [0.7204622074141468], [0.7233488531615229], [0.7201392195783087], [0.7202401568095993], [0.7165662781733], [0.7183830272191186], [0.7184637883084427], [0.7164653409420094], [0.7163442275687525], [0.7178379907973567], [0.7166873895279334], [0.7165258976286379], [0.7170911081737428], [0.7178178146553902], [0.7178581952000522], [0.7145476546649003], [0.7136796304073003], [0.7130538611569434], [0.7111563510218006], [0.7099048145397104], [0.7100663084576295], [0.7077852538000202], [0.7109545068385723], [0.7088349460988821], [0.6919592515500371], [0.6931906139087844], [0.6893148608099041], [0.6900617414148944], [0.689335034933247], [0.6886688871568516], [0.6891937474366472], [0.689133160470666], [0.686206162439357], [0.686731024737776], [0.6857822696702046], [0.6866300875064855], [0.6785555934728867], [0.6744779659114253], [0.6726208363209446], [0.6708848180850974], [0.6696736318683165], [0.6691084193045881], [0.6714096501041638], [0.675790059080144], [0.670238844432045], [0.669936063017526], [0.6723584051717351], [0.6736907027431493], [0.6724593424030256], [0.6734282736125634], [0.6748211278706062], [0.6733879213286305], [0.6718537492946351], [0.6736705286198065], [0.6737512594297779], [0.6724997229476877], [0.6732264294293351], [0.6731456663213875], [0.6703397816633354], [0.6726006601789782], [0.6766379071957775], [0.6788179943427436], [0.6769406886102964], [0.6760524902293535], [0.6768801319236679], [0.6792217432679056], [0.6781316684057582], [0.6783537190103057], [0.676012107666068], [0.6772434700248153], [0.676658083337744], [0.6789189315740342], [0.6779500003644963], [0.6791006298946487], [0.6766984638824061], [0.6760928707740156], [0.6796254619137151], [0.6757698829381776], [0.6731254921980445], [0.6742962958515398], [0.6752652270610776], [0.6748009517286397], [0.675830439624806], [0.6756891521282062], [0.67692051246833], [0.6744375853667632], [0.6764360327331965], [0.663375536615227], [0.6636379677644365], [0.6624671620923177], [0.6602668685240325], [0.660670587169842], [0.6589951276392467], [0.6584097389335518], [0.656835184336271], [0.6576022713625804], [0.6588740142659897], [0.6571581721721089], [0.6581473077843423], [0.6585914089934373], [0.6551799292083713], [0.6524346012369477], [0.6517482752999624], [0.6518895627965622], [0.6518895627965622], [0.6528585242854528], [0.6523538684083527], [0.6532218623866001], [0.6495883340156101], [0.6475697105072105], [0.6488414534106197], [0.650214103265967], [0.6524951559049527], [0.654110060767543], [0.6557249656301332], [0.6532420385285665], [0.6545137794133523], [0.653342975759857], [0.6542917308274284], [0.6564112915671186], [0.6543119049507713], [0.6558864595480522], [0.6540292996782189], [0.6531209251553095], [0.6579858158850469], [0.6598025649308655], [0.6602668685240325], [0.6593584637217705], [0.6579050830564519], [0.6573600466346899], [0.657037058798852], [0.6600448199381086], [0.6587932531766657], [0.6585308523068089], [0.6600246135167894], [0.6614174697934558], [0.6596007207476371], [0.6596007207476371], [0.6584299150755183], [0.6616193442560369], [0.6618615689839272], [0.6612559758755368], [0.6617404556106703], [0.6612559758755368], [0.6630929293240511], [0.6653336034369982], [0.6635572046564889], [0.6623662248610271], [0.6625075426369798], [0.6619625062152178], [0.6613770872301703], [0.6875990187160234], [0.6903645228294133], [0.6927263385763466], [0.6876393992606853], [0.6802310550221056], [0.6754267209789967], [0.6756285954415777], [0.675790059080144], [0.6771627392148439], [0.6765571461064535], [0.676496589419825], [0.6751239395644778], [0.6715509678801164], [0.6700571743721594], [0.6710866925476784], [0.6715307917381499], [0.6689671318079882], [0.6666659030270361], [0.6651317289744172], [0.6661208645866505], [0.6625075426369798], [0.6665851399190885], [0.6662823585045696], [0.6693910265957641], [0.6722978484851067], [0.6719345103839592], [0.6720757978805592], [0.6723584051717351], [0.6733475407839685], [0.6755276582102872], [0.676375476046568], [0.6779701765064627], [0.6814018606942244], [0.6791611865812772], [0.6766379071957775], [0.6755680387549492], [0.6780711137377533], [0.6792822999545342], [0.6819670712393292], [0.6762543646919346], [0.6764360327331965], [0.6734080974705969], [0.6750835590198158], [0.6748816845572347], [0.6743164719935063], [0.6713894739621973], [0.6734080974705969], [0.6740742472656159], [0.6746798403740064], [0.6765167635431679], [0.6752652270610776], [0.6769406886102964], [0.6854996623790287], [0.6919794276920036], [0.6935741564126274], [0.695552399376365], [0.6962791058580126], [0.6969856059183408], [0.6970259864630028], [0.6948862495813461], [0.6963194864026745], [0.7060088550195109], [0.7069576100870822], [0.6933319014053844], [0.6937962070171749], [0.7011641707110927], [0.6993877719305834], [0.6995896463931645], [0.7033644622607543], [0.7022744196965831], [0.6958551807908839], [0.696016674708803], [0.6933924580920129], [0.6865897069618234], [0.6734686541572255], [0.679140980159958], [0.6761332513186776], [0.6634966479698604], [0.6673724030873643], [0.6711875994996163], [0.6698755063308975], [0.6779701765064627], [0.6804934558919624], [0.6808366178511434], [0.6787776440774342], [0.6763553019232251], [0.6747807473259442], [0.679504348540458], [0.6856813324389142], [0.6815835287354863], [0.680130117790815], [0.6760524902293535], [0.6774251683454299], [0.6823909660271051], [0.6799080671862675], [0.6851565004198478], [0.6808972048171245], [0.687154919525552], [0.689072605802661], [0.6871751239282475], [0.6847527514946857], [0.6877605126339423], [0.689072605802661], [0.6831984335980765], [0.6808769983958053], [0.6818661340080387], [0.6725804537576591], [0.6661208645866505], [0.6751642898297872], [0.6722171176751353], [0.673448478015259], [0.6752854032030441], [0.6685028564755503], [0.6680587572850789], [0.6766782574610869], [0.676496589419825], [0.6695121682297501], [0.6737916399744399], [0.6792419173912486], [0.6791813627232437], [0.6846518445427479], [0.6819065165713243], [0.6842884761622479], [0.6903847292507325], [0.6659189901240695], [0.6637186985744079], [0.6580665466950183], [0.6600044393934466], [0.6593988462850562], [0.660165931292742], [0.6617404556106703], [0.6612559758755368], [0.6581876903476279], [0.6582684211575993], [0.6531209251553095], [0.6521923744904338], [0.6560681296079377], [0.6546752733312713], [0.6542311741407999], [0.6534439129911476], [0.6567342773843331], [0.656532402921752], [0.65685539075759], [0.6557249656301332], [0.657521540552609], [0.6572591094033995], [0.6564112915671186], [0.6592575567698327], [0.6584500891988612], [0.6576022713625804], [0.6563911154251522], [0.6555230911675521], [0.650638026314472], [0.6534640871144904], [0.6508196963743574], [0.6521116134011097], [0.6543119049507713], [0.6556442045408092], [0.657683034470528], [0.6589951276392467], [0.6605696499385514], [0.6614578503381179], [0.6620432370251892], [0.6609935750056799], [0.6586721398034088], [0.6590556823072516], [0.6572187288587374], [0.6560479231866185], [0.6534842935358096], [0.6506985830011005], [0.6507591396877289], [0.6457327550400727], [0.6463181740251202], [0.6430883642999395], [0.6482560344255722], [0.6475697105072105], [0.6478926983430484], [0.6473073096373535], [0.6510619211022478], [0.653181481841938], [0.657037058798852], [0.657683034470528], [0.6581473077843423], [0.6611954191889083], [0.660085170203418], [0.6591970021018277], [0.6552203097530334], [0.6572994899480615], [0.6668273949263315], [0.6609935750056799], [0.6596814515576086], [0.6610541316923084], [0.6615385811480892], [0.6617202814873273], [0.6585712025721182], [0.6592575567698327], [0.6581271033816467], [0.6552404858949997], [0.6541504433308285], [0.6637186985744079], [0.6603476013526275], [0.6623258443163651], [0.6620836175698512], [0.6578041458251614], [0.6572187288587374], [0.6536457874537286], [0.6549578806224473], [0.6560681296079377], [0.6589547450759611], [0.660408158039256], [0.6613165325621653], [0.6602264879793706], [0.6587529008927328], [0.6590153017625896], [0.6603677754759704], [0.6616798989240418], [0.6614780244614608], [0.66339571073857], [0.6601457268900465], [0.6612559758755368], [0.6596410710129466], [0.6616193442560369], [0.6610743058156513], [0.6591767956805086], [0.659580514326318], [0.6612761802782324], [0.6614376741961514], [0.6662419779599076], [0.6649904414778173], [0.6642031783095413], [0.6654547168102553], [0.666464028564455], [0.6706829436225163], [0.6710866925476784], [0.6684220953862262], [0.6661612471499362], [0.6716115245667448], [0.6713894739621973], [0.670804087275126], [0.6744174092247969], [0.6759313768560966], [0.6748615084152683], [0.6710059314583543], [0.6664034718778266], [0.6651115528324507], [0.6627901479095322], [0.653605404890443], [0.6461970606518632], [0.6498911457094817], [0.65045635827321], [0.6585106458854897], [0.6361644997964933], [0.6290993175170942], [0.6261723194857853], [0.6280294490762659], [0.6304316171071321], [0.6223571069245453], [0.6208229490209145], [0.617472042071465], [0.6070761269659596], [0.5985171693462155], [0.5985777240142205], [0.601403800963227], [0.5990621896189893], [0.6079239468208639], [0.6141009448496846], [0.6175729631537674], [0.6146257748501275], [0.6149487626859654], [0.6096195986424138], [0.6094984691201687], [0.6082065520934165], [0.6107096553369495], [0.6109720723557945], [0.6084286026979638], [0.6021506815682174], [0.6049162018305955], [0.6021305054262509], [0.6069146350666641], [0.6078633901342355], [0.6138587039728061], [0.6107904022959091], [0.6164223497726031], [0.6185217202399623], [0.6110326270237995], [0.6156956594399439], [0.6064705338575691], [0.6100838719562282], [0.6095994063514593], [0.6101444447918447], [0.6092764346646093], [0.607600975134014], [0.5999301977276011], [0.601040448731715], [0.6005963475226201], [0.5937128353031066], [0.5895141084987529], [0.5827113432381988], [0.5904224830216621], [0.5952469932067375], [0.5937330255754376], [0.59502494260219], [0.598133624823749], [0.5934908008475472], [0.6023929224450958], [0.6040683839943146], [0.6074596714884261], [0.6091956877056498], [0.6114161715462659], [0.610750021751247], [0.6085900945972593], [0.611295058173009], [0.611073009587085], [0.6122236229682494], [0.6155139752496938], [0.6128897586329037], [0.6338228884522555], [0.6330961839892316], [0.6360030058785742], [0.6366085989869646], [0.6367297123602216], [0.6368306495915121], [0.6369113804014835], [0.6362654370277837], [0.6384657285774453], [0.6391924350590927], [0.6407467832350545], [0.6344284815606459], [0.6354781758781314], [0.6360433864232362], [0.6402017468132926], [0.6431691253892636], [0.6410697407915399], [0.6441986132854299], [0.6455510869988107], [0.6441380565988015], [0.6438150687629635], [0.6466613359843011], [0.6470852610514296], [0.6476100910518724], [0.6464998420663821], [0.644400487748011], [0.6465603987530105], [0.6450060505770487], [0.643895831870911], [0.6420790525457397], [0.6388088925552499], [0.6382638541148643], [0.6435526699117301], [0.6447032691625298], [0.6452684817262583], [0.6457327550400727], [0.6470246740854484], [0.6485992286827293], [0.6491644392278342], [0.647367866323982], [0.6510821255049434], [0.6470650546301104], [0.6465200182083486], [0.6486194028060723], [0.6466411598423346], [0.6480138096976819], [0.6503958015865816], [0.6548367672491904], [0.6542311741407999], [0.6555029170442093], [0.6537870749503285], [0.6547963867045283], [0.6550184352904522], [0.6524346012369477], [0.6542715546854619], [0.6558056984587282], [0.6569563279888806], [0.6560479231866185], [0.6585510264301517], [0.6463787307117487], [0.6488414534106197], [0.6459346295026537], [0.6490635019965437], [0.6480743663843104], [0.6454097995022108], [0.647044878488144], [0.6462576173384916], [0.6487203400373628], [0.6493057287430577], [0.6473476599026629], [0.6486799594927007], [0.6489423906419103], [0.6434113501171541], [0.6441380565988015], [0.6387685099919642], [0.6387281597266549], [0.6308555098762845], [0.6346707083071599], [0.6368709998568215], [0.6398585848541116], [0.6367095362182551], [0.6383244108014927], [0.6410091841049114], [0.640807339921683], [0.6328135766980556], [0.6325915281121317], [0.6289176494758324], [0.627363299281247], [0.6271210745533566], [0.6219130077340738], [0.6244968579365665], [0.6334191698064461], [0.630996827652237], [0.6324704147388747], [0.6346707083071599], [0.637557354054536], [0.6399998723507115], [0.6378197549243928], [0.6396163298468687], [0.6383849674881212], [0.6379812488423119], [0.6408678966083114], [0.6422809270083207], [0.6458538986926823], [0.6465603987530105], [0.6468632104468821], [0.6448647630804489], [0.6451877488976634], [0.6451877488976634], [0.6439361821362204], [0.6479330788877105], [0.6486194028060723], [0.6512839696881718], [0.6509610141503099], [0.6493259331457533], [0.6468228299022201], [0.6491240586831722], [0.650678406859134], [0.6537063421217335], [0.6548771477938524], [0.6553010425816282], [0.6543724919167525], [0.6676146580946074], [0.6677155650465453], [0.6678367066805314], [0.6691286257259073], [0.6684220953862262], [0.6691487998492501], [0.6711068686896449], [0.6701379374801071], [0.6678972633671598], [0.6648087714179318], [0.6690075123526502], [0.6628103240514986], [0.649709447388867], [0.6496488907022385], [0.6463787307117487], [0.6483771780781818], [0.6403632407312115], [0.6363057872930931], [0.6396768845148736], [0.6305123479171035], [0.6318648216304843], [0.6355790828300693], [0.6381629168835737], [0.634044939056803], [0.6365682184423026], [0.6367095362182551], [0.6271210745533566], [0.6279688923896375], [0.6303508539991846], [0.6335604593216695], [0.637839961345712], [0.6391520545144307], [0.6362654370277837], [0.6407467832350545], [0.6501333704373721], [0.6493259331457533], [0.6534237368491811], [0.6583693583888898], [0.6554423603575807], [0.6554827106228902], [0.6555836478541807], [0.653181481841938], [0.6526162692782096], [0.6526566498228716], [0.6541706174541714], [0.6519703259045098], [0.6523538684083527], [0.6515665769793477], [0.654554161976638], [0.6553414231262903], [0.6547156538759333], [0.6591162389938802], [0.6555634737308378], [0.6515867813820433], [0.6522529311770623], [0.6542109979988334], [0.6507591396877289], [0.6449051436251109], [0.6475091538205819], [0.65045635827321], [0.6537466944056665], [0.6522932814423716], [0.6542311741407999], [0.6524346012369477], [0.6365883945842691], [0.6362452306064647], [0.6331971212205222], [0.6359828317552313], [0.6368306495915121], [0.6362048803411552], [0.6389703844545452], [0.6400402528953736], [0.6357002244640553], [0.6385868419507023], [0.6355185261434407], [0.6391520545144307], [0.6434719068037825], [0.6439160059942539], [0.6457125809167297], [0.6435122873484446], [0.6433507954491491], [0.6390309411411738], [0.6392731658690641], [0.6370324937747405], [0.6360635625652027], [0.6368709998568215], [0.6366893318155595], [0.6371132548640646], [0.6344486577026124], [0.6357405747293647], [0.6367498864835646], [0.6400402528953736], [0.6382638541148643], [0.6355992872327648], [0.6369719370881121], [0.6338632710155411], [0.6322685402762938], [0.6320061394064368], [0.6318446475071414], [0.6344890382472744], [0.6359020686472837], [0.6358818945239407], [0.6355790828300693], [0.6387281597266549], [0.6364874876323312], [0.6363259937144122], [0.6365076617556742], [0.6368912062781407], [0.6371939876926596], [0.6392731658690641], [0.6391924350590927], [0.6380418055289404], [0.6379005180323405], [0.6386272224953643], [0.63366139655296], [0.6361442933751741], [0.6389300039098832], [0.6367498864835646], [0.6362654370277837], [0.6364471050690457], [0.6387079553239593], [0.6415946010713354], [0.6414936638400449], [0.641311995798783], [0.6397374714808547], [0.6413523460640923], [0.6440976760541395], [0.6447638258491584], [0.6464998420663821], [0.6560277470446522], [0.6539687429915904], [0.6493057287430577], [0.6453895930808917], [0.6472669290926915], [0.6435122873484446], [0.6416551577579639], [0.6557047612274377], [0.6608320810877609], [0.6665649657957455], [0.6811394295450148], [0.6820074235232622], [0.6752450529377347], [0.6773040267114439], [0.6753863404343347], [0.6790804254919531], [0.6770618019835534], [0.669774569099607], [0.6705820366705785], [0.670097556935445], [0.670824261398469], [0.6680385508637597], [0.6611550386442463], [0.6516271639453289], [0.6476706477385009], [0.6342669896613505], [0.6282918499461227], [0.6366691556735931], [0.6257685705606232], [0.6365076617556742], [0.6270806940086946], [0.6234067992234071], [0.6033820439269646], [0.6174316615268031], [0.6037050297441792], [0.5731026913009692], [0.5834784141155201], [0.5655732336891325], [0.5808542136477182], [0.5745964827903026], [0.568116687197975], [0.5581245068872671], [0.5568729562748123], [0.578492426161514], [0.5792393067665044], [0.5934504182842617], [0.5836399080334391], [0.5935311652432211], [0.5894939182264218], [0.5778060860941641], [0.5876165983636101], [0.5802284282483732], [0.5973463636740965], [0.5975886025323516], [0.6063696127752668], [0.6108307687102066], [0.6101242545195137], [0.6156956594399439], [0.6051584406888504], [0.5991833171226109], [0.6080450743244855], [0.6086304771605449], [0.601262497317639], [0.6064099791895642], [0.6105279711466995], [0.617330738425877], [0.6197530805800862], [0.6204595967894025], [0.6253446757728474], [0.6190263761170622], [0.6115776654641849], [0.6111941209417185], [0.6130108861365252], [0.614201865931987], [0.6102857464188092], [0.613838513700475], [0.6130310602598682], [0.6083276795970379], [0.5991833171226109], [0.6016460256911174], [0.6017065965081104], [0.6109518820834635], [0.6083882362836665], [0.6105885278333281], [0.6060264508160857], [0.60455284758046], [0.6113556148596375], [0.6189860097027649], [0.6169471959220341], [0.6176940926760125], [0.617673900385058], [0.6199145744980051], [0.6260713822544948], [0.6257483944186567], [0.6321474289216603], [0.6395961537049022], [0.6317638843991937], [0.6277266373823944], [0.6037857767031386], [0.6116584124231444], [0.6111335662737135], [0.6181987485531124], [0.6161801250447128], [0.6162003153170438], [0.6127888355319777], [0.6099627606015947], [0.6066118536521452], [0.600576157250289], [0.6058447666258358], [0.6021305054262509], [0.6072981775705071], [0.6093571674932042], [0.604855645143967], [0.6071972403392166], [0.60818637595145], [0.6029177685945268], [0.6031801835947482], [0.5991429365779488], [0.6044721006215005], [0.6061879285850167], [0.6090140035153998], [0.6138587039728061], [0.6158975177535368], [0.6181180015941529], [0.6206614712519836], [0.6200356878712621], [0.6253042952281853], [0.6225993478014238], [0.6194906655798647], [0.6203384834161456], [0.6168260825487771], [0.6185419105122933], [0.6136568456592131], [0.6137375905995491], [0.6165030967315627], [0.6195915866621672], [0.6188043255125147], [0.6201568153748837], [0.6178152040306459], [0.6221552486109523], [0.6214285421293049], [0.6213276048980144], [0.6179565076762339], [0.6184409732810029], [0.6167655258621487], [0.6177344570716865], [0.6155543396453678], [0.6141615015363131], [0.614181691808644], [0.6192686149753173], [0.6171692445079581], [0.6162204894403867], [0.6171894367989126], [0.6180372546351934], [0.6144844732231629], [0.6146661574134129], [0.624315159615952], [0.6167857020041151], [0.6124456735727969], [0.6102453658741471], [0.6123649266138373], [0.6089332585750638], [0.610750021751247], [0.6120217485056684], [0.6127282788453493], [0.6163214266716772], [0.6177344570716865], [0.6133742383680372], [0.6083074893247069], [0.6088323354741378], [0.6054410479800264], [0.6039472544720695], [0.6056832727079168], [0.611295058173009], [0.6097003435827497], [0.6111739306693874], [0.6100031249972686], [0.6089534488473948], [0.6118602707367373], [0.6117795237777779], [0.6160186311267938], [0.630996827652237], [0.6235279125966642], [0.6223571069245453], [0.6180978093031985], [0.6197934611247482], [0.617673900385058], [0.6197732708524172], [0.6189456291581028], [0.6024938596763864], [0.5978308292788655], [0.5992438738092393], [0.5997283394140083], [0.616113106073468], [0.6164477244482237], [0.6167706103845486], [0.6170827026873058], [0.6173848719799999], [0.617677894481177], [0.6179624939621843], [0.6182392211186118], [0.6185086581143694], [0.6187712087928896], [0.619027245529286], [0.6192770830067529], [0.6195209677271258], [0.619759119968641], [0.6199916918281756], [0.6202188511367667], [0.6204407080335322], [0.6206573464339908], [0.620868850253661], [0.6210753296316607], [0.6212768527493487], [0.6214734458303246], [0.6216652347478662], [0.6218522509702927], [0.6220345679236831], [0.6222122590341159], [0.6223853819935101], [0.6225540312068241], [0.6227182801001365], [0.6228781653864867]]\n"
          ],
          "name": "stdout"
        }
      ]
    }
  ]
}