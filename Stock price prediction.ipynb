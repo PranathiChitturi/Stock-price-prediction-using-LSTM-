{
  "nbformat": 4,
  "nbformat_minor": 0,
  "metadata": {
    "colab": {
      "name": "miniproject.ipynb",
      "provenance": [],
      "collapsed_sections": []
    },
    "kernelspec": {
      "display_name": "Python 3",
      "name": "python3"
    }
  },
  "cells": [
    {
      "cell_type": "code",
      "metadata": {
        "id": "ww3PX9nb-zch"
      },
      "source": [
        "#importing pandas and numpy which helps in  reading the data and manipulation of the same\n",
        "import pandas as pd\n",
        "import numpy as np \n"
      ],
      "execution_count": null,
      "outputs": []
    },
    {
      "cell_type": "code",
      "metadata": {
        "id": "VG6zYcEUGSm6",
        "colab": {
          "resources": {
            "http://localhost:8080/nbextensions/google.colab/files.js": {
              "data": "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",
              "ok": true,
              "headers": [
                [
                  "content-type",
                  "application/javascript"
                ]
              ],
              "status": 200,
              "status_text": ""
            }
          },
          "base_uri": "https://localhost:8080/",
          "height": 72
        },
        "outputId": "b3fab931-01b1-483b-a55f-a369a11b5589"
      },
      "source": [
        "#uploading the collected data\n",
        "from google.colab import files \n",
        "uploaded = files.upload() "
      ],
      "execution_count": null,
      "outputs": [
        {
          "output_type": "display_data",
          "data": {
            "text/html": [
              "\n",
              "     <input type=\"file\" id=\"files-1c5a0f5f-83c1-4081-a1c0-5151492ba605\" name=\"files[]\" multiple disabled\n",
              "        style=\"border:none\" />\n",
              "     <output id=\"result-1c5a0f5f-83c1-4081-a1c0-5151492ba605\">\n",
              "      Upload widget is only available when the cell has been executed in the\n",
              "      current browser session. Please rerun this cell to enable.\n",
              "      </output>\n",
              "      <script src=\"/nbextensions/google.colab/files.js\"></script> "
            ],
            "text/plain": [
              "<IPython.core.display.HTML object>"
            ]
          },
          "metadata": {
            "tags": []
          }
        },
        {
          "output_type": "stream",
          "text": [
            "Saving IBM.csv to IBM.csv\n"
          ],
          "name": "stdout"
        }
      ]
    },
    {
      "cell_type": "code",
      "metadata": {
        "id": "rcrf6llgIa0M"
      },
      "source": [
        "#reading the data \n",
        "data=pd.read_csv('IBM.csv')"
      ],
      "execution_count": null,
      "outputs": []
    },
    {
      "cell_type": "code",
      "metadata": {
        "id": "0hjFkvENIdnj",
        "colab": {
          "base_uri": "https://localhost:8080/",
          "height": 204
        },
        "outputId": "ac90d28a-5b84-48cd-8855-70024011b3f2"
      },
      "source": [
        "#using head function, displaying the first 5 rows of data\n",
        "data.head()"
      ],
      "execution_count": null,
      "outputs": [
        {
          "output_type": "execute_result",
          "data": {
            "text/html": [
              "<div>\n",
              "<style scoped>\n",
              "    .dataframe tbody tr th:only-of-type {\n",
              "        vertical-align: middle;\n",
              "    }\n",
              "\n",
              "    .dataframe tbody tr th {\n",
              "        vertical-align: top;\n",
              "    }\n",
              "\n",
              "    .dataframe thead th {\n",
              "        text-align: right;\n",
              "    }\n",
              "</style>\n",
              "<table border=\"1\" class=\"dataframe\">\n",
              "  <thead>\n",
              "    <tr style=\"text-align: right;\">\n",
              "      <th></th>\n",
              "      <th>Date</th>\n",
              "      <th>Open</th>\n",
              "      <th>High</th>\n",
              "      <th>Low</th>\n",
              "      <th>Close</th>\n",
              "      <th>Adj Close</th>\n",
              "      <th>Volume</th>\n",
              "    </tr>\n",
              "  </thead>\n",
              "  <tbody>\n",
              "    <tr>\n",
              "      <th>0</th>\n",
              "      <td>2015-10-26</td>\n",
              "      <td>144.750000</td>\n",
              "      <td>145.000000</td>\n",
              "      <td>143.210007</td>\n",
              "      <td>143.660004</td>\n",
              "      <td>115.042992</td>\n",
              "      <td>3489400</td>\n",
              "    </tr>\n",
              "    <tr>\n",
              "      <th>1</th>\n",
              "      <td>2015-10-27</td>\n",
              "      <td>143.509995</td>\n",
              "      <td>143.830002</td>\n",
              "      <td>137.330002</td>\n",
              "      <td>137.860001</td>\n",
              "      <td>110.398384</td>\n",
              "      <td>15008500</td>\n",
              "    </tr>\n",
              "    <tr>\n",
              "      <th>2</th>\n",
              "      <td>2015-10-28</td>\n",
              "      <td>137.919998</td>\n",
              "      <td>141.229996</td>\n",
              "      <td>137.500000</td>\n",
              "      <td>140.830002</td>\n",
              "      <td>112.776749</td>\n",
              "      <td>8511400</td>\n",
              "    </tr>\n",
              "    <tr>\n",
              "      <th>3</th>\n",
              "      <td>2015-10-29</td>\n",
              "      <td>140.360001</td>\n",
              "      <td>140.820007</td>\n",
              "      <td>139.020004</td>\n",
              "      <td>140.550003</td>\n",
              "      <td>112.552536</td>\n",
              "      <td>3710400</td>\n",
              "    </tr>\n",
              "    <tr>\n",
              "      <th>4</th>\n",
              "      <td>2015-10-30</td>\n",
              "      <td>140.440002</td>\n",
              "      <td>141.330002</td>\n",
              "      <td>139.899994</td>\n",
              "      <td>140.080002</td>\n",
              "      <td>112.176132</td>\n",
              "      <td>3984000</td>\n",
              "    </tr>\n",
              "  </tbody>\n",
              "</table>\n",
              "</div>"
            ],
            "text/plain": [
              "         Date        Open        High  ...       Close   Adj Close    Volume\n",
              "0  2015-10-26  144.750000  145.000000  ...  143.660004  115.042992   3489400\n",
              "1  2015-10-27  143.509995  143.830002  ...  137.860001  110.398384  15008500\n",
              "2  2015-10-28  137.919998  141.229996  ...  140.830002  112.776749   8511400\n",
              "3  2015-10-29  140.360001  140.820007  ...  140.550003  112.552536   3710400\n",
              "4  2015-10-30  140.440002  141.330002  ...  140.080002  112.176132   3984000\n",
              "\n",
              "[5 rows x 7 columns]"
            ]
          },
          "metadata": {
            "tags": []
          },
          "execution_count": 4
        }
      ]
    },
    {
      "cell_type": "code",
      "metadata": {
        "id": "rBxOep6CIkwC",
        "colab": {
          "base_uri": "https://localhost:8080/",
          "height": 204
        },
        "outputId": "123e692b-2db8-4975-a7af-9e2a6a3efc81"
      },
      "source": [
        "#using tail function,displaying the last 5 rows of data\n",
        "data.tail() "
      ],
      "execution_count": null,
      "outputs": [
        {
          "output_type": "execute_result",
          "data": {
            "text/html": [
              "<div>\n",
              "<style scoped>\n",
              "    .dataframe tbody tr th:only-of-type {\n",
              "        vertical-align: middle;\n",
              "    }\n",
              "\n",
              "    .dataframe tbody tr th {\n",
              "        vertical-align: top;\n",
              "    }\n",
              "\n",
              "    .dataframe thead th {\n",
              "        text-align: right;\n",
              "    }\n",
              "</style>\n",
              "<table border=\"1\" class=\"dataframe\">\n",
              "  <thead>\n",
              "    <tr style=\"text-align: right;\">\n",
              "      <th></th>\n",
              "      <th>Date</th>\n",
              "      <th>Open</th>\n",
              "      <th>High</th>\n",
              "      <th>Low</th>\n",
              "      <th>Close</th>\n",
              "      <th>Adj Close</th>\n",
              "      <th>Volume</th>\n",
              "    </tr>\n",
              "  </thead>\n",
              "  <tbody>\n",
              "    <tr>\n",
              "      <th>1254</th>\n",
              "      <td>2020-10-19</td>\n",
              "      <td>126.800003</td>\n",
              "      <td>127.349998</td>\n",
              "      <td>125.080002</td>\n",
              "      <td>125.519997</td>\n",
              "      <td>125.519997</td>\n",
              "      <td>7478700</td>\n",
              "    </tr>\n",
              "    <tr>\n",
              "      <th>1255</th>\n",
              "      <td>2020-10-20</td>\n",
              "      <td>119.800003</td>\n",
              "      <td>120.150002</td>\n",
              "      <td>116.839996</td>\n",
              "      <td>117.370003</td>\n",
              "      <td>117.370003</td>\n",
              "      <td>21501100</td>\n",
              "    </tr>\n",
              "    <tr>\n",
              "      <th>1256</th>\n",
              "      <td>2020-10-21</td>\n",
              "      <td>116.660004</td>\n",
              "      <td>117.690002</td>\n",
              "      <td>114.790001</td>\n",
              "      <td>115.059998</td>\n",
              "      <td>115.059998</td>\n",
              "      <td>9755300</td>\n",
              "    </tr>\n",
              "    <tr>\n",
              "      <th>1257</th>\n",
              "      <td>2020-10-22</td>\n",
              "      <td>115.000000</td>\n",
              "      <td>116.059998</td>\n",
              "      <td>112.980003</td>\n",
              "      <td>115.760002</td>\n",
              "      <td>115.760002</td>\n",
              "      <td>7855800</td>\n",
              "    </tr>\n",
              "    <tr>\n",
              "      <th>1258</th>\n",
              "      <td>2020-10-23</td>\n",
              "      <td>116.500000</td>\n",
              "      <td>116.620003</td>\n",
              "      <td>115.529999</td>\n",
              "      <td>116.000000</td>\n",
              "      <td>116.000000</td>\n",
              "      <td>3890800</td>\n",
              "    </tr>\n",
              "  </tbody>\n",
              "</table>\n",
              "</div>"
            ],
            "text/plain": [
              "            Date        Open        High  ...       Close   Adj Close    Volume\n",
              "1254  2020-10-19  126.800003  127.349998  ...  125.519997  125.519997   7478700\n",
              "1255  2020-10-20  119.800003  120.150002  ...  117.370003  117.370003  21501100\n",
              "1256  2020-10-21  116.660004  117.690002  ...  115.059998  115.059998   9755300\n",
              "1257  2020-10-22  115.000000  116.059998  ...  115.760002  115.760002   7855800\n",
              "1258  2020-10-23  116.500000  116.620003  ...  116.000000  116.000000   3890800\n",
              "\n",
              "[5 rows x 7 columns]"
            ]
          },
          "metadata": {
            "tags": []
          },
          "execution_count": 5
        }
      ]
    },
    {
      "cell_type": "code",
      "metadata": {
        "id": "0PNn8-2bIo4h",
        "colab": {
          "base_uri": "https://localhost:8080/"
        },
        "outputId": "960fe59f-98d3-4027-b95a-7c72d48437ca"
      },
      "source": [
        "#displaying the rows \n",
        "data.all(axis='rows') "
      ],
      "execution_count": null,
      "outputs": [
        {
          "output_type": "execute_result",
          "data": {
            "text/plain": [
              "Date         True\n",
              "Open         True\n",
              "High         True\n",
              "Low          True\n",
              "Close        True\n",
              "Adj Close    True\n",
              "Volume       True\n",
              "dtype: bool"
            ]
          },
          "metadata": {
            "tags": []
          },
          "execution_count": 6
        }
      ]
    },
    {
      "cell_type": "code",
      "metadata": {
        "id": "D9kXSI-LI6Ey",
        "colab": {
          "base_uri": "https://localhost:8080/"
        },
        "outputId": "4843db7a-fc88-4940-940a-cba5f7452a03"
      },
      "source": [
        "# printing the entire dataset\n",
        "print(data)"
      ],
      "execution_count": null,
      "outputs": [
        {
          "output_type": "stream",
          "text": [
            "            Date        Open        High  ...       Close   Adj Close    Volume\n",
            "0     2015-10-26  144.750000  145.000000  ...  143.660004  115.042992   3489400\n",
            "1     2015-10-27  143.509995  143.830002  ...  137.860001  110.398384  15008500\n",
            "2     2015-10-28  137.919998  141.229996  ...  140.830002  112.776749   8511400\n",
            "3     2015-10-29  140.360001  140.820007  ...  140.550003  112.552536   3710400\n",
            "4     2015-10-30  140.440002  141.330002  ...  140.080002  112.176132   3984000\n",
            "...          ...         ...         ...  ...         ...         ...       ...\n",
            "1254  2020-10-19  126.800003  127.349998  ...  125.519997  125.519997   7478700\n",
            "1255  2020-10-20  119.800003  120.150002  ...  117.370003  117.370003  21501100\n",
            "1256  2020-10-21  116.660004  117.690002  ...  115.059998  115.059998   9755300\n",
            "1257  2020-10-22  115.000000  116.059998  ...  115.760002  115.760002   7855800\n",
            "1258  2020-10-23  116.500000  116.620003  ...  116.000000  116.000000   3890800\n",
            "\n",
            "[1259 rows x 7 columns]\n"
          ],
          "name": "stdout"
        }
      ]
    },
    {
      "cell_type": "code",
      "metadata": {
        "id": "RWrph5QcOhgn",
        "colab": {
          "base_uri": "https://localhost:8080/"
        },
        "outputId": "276213c6-c706-4608-fdda-9d43874dd318"
      },
      "source": [
        "#displaying the rows and columns of the data\n",
        "data.shape"
      ],
      "execution_count": null,
      "outputs": [
        {
          "output_type": "execute_result",
          "data": {
            "text/plain": [
              "(1259, 7)"
            ]
          },
          "metadata": {
            "tags": []
          },
          "execution_count": 8
        }
      ]
    },
    {
      "cell_type": "code",
      "metadata": {
        "id": "SBjAnTUWPgEe",
        "colab": {
          "base_uri": "https://localhost:8080/"
        },
        "outputId": "11e3ffc8-73ce-4e2a-a708-9a5823cb2966"
      },
      "source": [
        "#reseting the index to 'Close' column and displaying the 'Close' column data\n",
        "df=data.reset_index()['Close']\n",
        "df.fillna(df.median()) \n",
        "print(df)"
      ],
      "execution_count": null,
      "outputs": [
        {
          "output_type": "stream",
          "text": [
            "0       143.660004\n",
            "1       137.860001\n",
            "2       140.830002\n",
            "3       140.550003\n",
            "4       140.080002\n",
            "           ...    \n",
            "1254    125.519997\n",
            "1255    117.370003\n",
            "1256    115.059998\n",
            "1257    115.760002\n",
            "1258    116.000000\n",
            "Name: Close, Length: 1259, dtype: float64\n"
          ],
          "name": "stdout"
        }
      ]
    },
    {
      "cell_type": "code",
      "metadata": {
        "id": "jRSlywbRmkmS"
      },
      "source": [
        "import matplotlib.pyplot as plt "
      ],
      "execution_count": null,
      "outputs": []
    },
    {
      "cell_type": "code",
      "metadata": {
        "id": "eGDt63tCOxIx",
        "colab": {
          "base_uri": "https://localhost:8080/",
          "height": 409
        },
        "outputId": "9fb5dc0c-e852-4d8f-ee7d-239fc3231240"
      },
      "source": [
        "# using matplotlib, displaying the 'close' column data in the form of graph\n",
        "plt.figure(figsize = (12,6))\n",
        "plt.title('Close Price History')\n",
        "plt.plot(data['Close'])\n",
        "plt.xlabel('Data', fontsize = 15)\n",
        "plt.ylabel('Close price USD ($)', fontsize = 15)\n",
        "plt.show()"
      ],
      "execution_count": null,
      "outputs": [
        {
          "output_type": "display_data",
          "data": {
            "image/png": "[encoded data removed]",
            "text/plain": [
              "<Figure size 864x432 with 1 Axes>"
            ]
          },
          "metadata": {
            "tags": [],
            "needs_background": "light"
          }
        }
      ]
    },
    {
      "cell_type": "code",
      "metadata": {
        "id": "oKSrDJbgalJf"
      },
      "source": [
        "#preprocessing the data\n",
        "#scaling  the data in the range of 0-1 using a function called MinMaxScaler\n",
        "from sklearn.preprocessing import MinMaxScaler   \n",
        "scale=MinMaxScaler(feature_range=(0,1))  \n",
        "df=scale.fit_transform(np.array(df).reshape(-1,1)) "
      ],
      "execution_count": null,
      "outputs": []
    },
    {
      "cell_type": "code",
      "metadata": {
        "id": "33hIwsy9at9q",
        "colab": {
          "base_uri": "https://localhost:8080/"
        },
        "outputId": "a30962e1-c964-49ac-b469-fd2baa78ec09"
      },
      "source": [
        "#printing the scaled data\n",
        "print(df)"
      ],
      "execution_count": null,
      "outputs": [
        {
          "output_type": "stream",
          "text": [
            "[[0.56079384]\n",
            " [0.49426479]\n",
            " [0.52833224]\n",
            " ...\n",
            " [0.23273688]\n",
            " [0.24076629]\n",
            " [0.24351919]]\n"
          ],
          "name": "stdout"
        }
      ]
    },
    {
      "cell_type": "code",
      "metadata": {
        "id": "7koumsDdfYF-"
      },
      "source": [
        "#dividing the entire data set into training and testing data.\n",
        "#80% of the dataset as training data set and remaning 20% as testsing data set\n",
        "training_size=int(len(df)*0.80)\n",
        "test_size=len(df)-training_size\n",
        "train_data,test_data=df[0:training_size,:],df[training_size:len(df),:1]"
      ],
      "execution_count": null,
      "outputs": []
    },
    {
      "cell_type": "code",
      "metadata": {
        "id": "JtjSOHVCo0Jz",
        "colab": {
          "base_uri": "https://localhost:8080/"
        },
        "outputId": "b9788712-9b4d-4081-e85b-d7637039f5f2"
      },
      "source": [
        "#printing the size of training and testing data\n",
        "print(training_size,test_size)"
      ],
      "execution_count": null,
      "outputs": [
        {
          "output_type": "stream",
          "text": [
            "1007 252\n"
          ],
          "name": "stdout"
        }
      ]
    },
    {
      "cell_type": "code",
      "metadata": {
        "id": "g44uWCd-o7vq",
        "colab": {
          "base_uri": "https://localhost:8080/"
        },
        "outputId": "037cf4b6-f0bc-41b4-8a49-1eaa5854365a"
      },
      "source": [
        "print(train_data)"
      ],
      "execution_count": null,
      "outputs": [
        {
          "output_type": "stream",
          "text": [
            "[[0.56079384]\n",
            " [0.49426479]\n",
            " [0.52833224]\n",
            " ...\n",
            " [0.44952982]\n",
            " [0.45434742]\n",
            " [0.45079158]]\n"
          ],
          "name": "stdout"
        }
      ]
    },
    {
      "cell_type": "code",
      "metadata": {
        "id": "jYZcrYmFpHe8",
        "colab": {
          "base_uri": "https://localhost:8080/"
        },
        "outputId": "681d0dfc-a2aa-416e-f832-fbdc3ad61fae"
      },
      "source": [
        "print(test_data)"
      ],
      "execution_count": null,
      "outputs": [
        {
          "output_type": "stream",
          "text": [
            "[[0.46650614]\n",
            " [0.4725855 ]\n",
            " [0.44792395]\n",
            " [0.46432671]\n",
            " [0.44689148]\n",
            " [0.46753845]\n",
            " [0.49208535]\n",
            " [0.49460888]\n",
            " [0.50481764]\n",
            " [0.49231481]\n",
            " [0.49139716]\n",
            " [0.46685024]\n",
            " [0.46822665]\n",
            " [0.45549437]\n",
            " [0.44998856]\n",
            " [0.4545767 ]\n",
            " [0.4535444 ]\n",
            " [0.45595328]\n",
            " [0.44081211]\n",
            " [0.44815323]\n",
            " [0.4538885 ]\n",
            " [0.4725855 ]\n",
            " [0.46249139]\n",
            " [0.44735039]\n",
            " [0.45515026]\n",
            " [0.43748574]\n",
            " [0.42842393]\n",
            " [0.42693287]\n",
            " [0.42601522]\n",
            " [0.44104157]\n",
            " [0.4490709 ]\n",
            " [0.44895626]\n",
            " [0.44723558]\n",
            " [0.46512973]\n",
            " [0.45239745]\n",
            " [0.45147979]\n",
            " [0.45251209]\n",
            " [0.45469152]\n",
            " [0.45641203]\n",
            " [0.46822665]\n",
            " [0.46776791]\n",
            " [0.46122963]\n",
            " [0.46042678]\n",
            " [0.46455617]\n",
            " [0.43633862]\n",
            " [0.4504473 ]\n",
            " [0.46627668]\n",
            " [0.4538885 ]\n",
            " [0.45113568]\n",
            " [0.45216799]\n",
            " [0.46501492]\n",
            " [0.48141785]\n",
            " [0.48084429]\n",
            " [0.47981199]\n",
            " [0.47086499]\n",
            " [0.48004127]\n",
            " [0.49564119]\n",
            " [0.49942649]\n",
            " [0.50929113]\n",
            " [0.563432  ]\n",
            " [0.55173203]\n",
            " [0.52523516]\n",
            " [0.50298231]\n",
            " [0.51364999]\n",
            " [0.49231481]\n",
            " [0.48176195]\n",
            " [0.56159669]\n",
            " [0.5907319 ]\n",
            " [0.62330814]\n",
            " [0.70612532]\n",
            " [0.71105756]\n",
            " [0.67263142]\n",
            " [0.68433122]\n",
            " [0.67343426]\n",
            " [0.69442534]\n",
            " [0.68295482]\n",
            " [0.64154623]\n",
            " [0.64613454]\n",
            " [0.64338156]\n",
            " [0.64751094]\n",
            " [0.63168157]\n",
            " [0.59256706]\n",
            " [0.53842636]\n",
            " [0.51594406]\n",
            " [0.43977981]\n",
            " [0.40582699]\n",
            " [0.45342975]\n",
            " [0.39148884]\n",
            " [0.45251209]\n",
            " [0.39894478]\n",
            " [0.37806843]\n",
            " [0.26428081]\n",
            " [0.34411562]\n",
            " [0.26611613]\n",
            " [0.092223  ]\n",
            " [0.15118146]\n",
            " [0.049438  ]\n",
            " [0.13626984]\n",
            " [0.10071124]\n",
            " [0.06389079]\n",
            " [0.00711175]\n",
            " [0.        ]\n",
            " [0.12284935]\n",
            " [0.12709338]\n",
            " [0.20784586]\n",
            " [0.15209913]\n",
            " [0.20830469]\n",
            " [0.18536365]\n",
            " [0.11894932]\n",
            " [0.17469607]\n",
            " [0.13271391]\n",
            " [0.22998398]\n",
            " [0.23136046]\n",
            " [0.28125721]\n",
            " [0.30660705]\n",
            " [0.3025924 ]\n",
            " [0.33425106]\n",
            " [0.27437491]\n",
            " [0.24042218]\n",
            " [0.29077777]\n",
            " [0.29410423]\n",
            " [0.25223681]\n",
            " [0.28148659]\n",
            " [0.30488645]\n",
            " [0.34354214]\n",
            " [0.35730673]\n",
            " [0.3613214 ]\n",
            " [0.38908012]\n",
            " [0.35317735]\n",
            " [0.31085118]\n",
            " [0.30867175]\n",
            " [0.31899524]\n",
            " [0.3257628 ]\n",
            " [0.30351005]\n",
            " [0.32369811]\n",
            " [0.31910988]\n",
            " [0.29238363]\n",
            " [0.24042218]\n",
            " [0.25441615]\n",
            " [0.25476033]\n",
            " [0.30729526]\n",
            " [0.29272774]\n",
            " [0.30523056]\n",
            " [0.27930725]\n",
            " [0.27093372]\n",
            " [0.30958941]\n",
            " [0.35294797]\n",
            " [0.34136272]\n",
            " [0.34560685]\n",
            " [0.34549211]\n",
            " [0.3582244 ]\n",
            " [0.39320952]\n",
            " [0.39137419]\n",
            " [0.42773573]\n",
            " [0.47006198]\n",
            " [0.4255563 ]\n",
            " [0.40261526]\n",
            " [0.26657496]\n",
            " [0.31131001]\n",
            " [0.30832766]\n",
            " [0.34847448]\n",
            " [0.33700396]\n",
            " [0.33711869]\n",
            " [0.31773347]\n",
            " [0.30167473]\n",
            " [0.28263371]\n",
            " [0.24833679]\n",
            " [0.27827486]\n",
            " [0.25716913]\n",
            " [0.28653364]\n",
            " [0.29823354]\n",
            " [0.27265432]\n",
            " [0.28596008]\n",
            " [0.2915807 ]\n",
            " [0.26164264]\n",
            " [0.26313377]\n",
            " [0.24019273]\n",
            " [0.27047489]\n",
            " [0.28022482]\n",
            " [0.29628356]\n",
            " [0.32381284]\n",
            " [0.33539808]\n",
            " [0.34801565]\n",
            " [0.36246852]\n",
            " [0.35891261]\n",
            " [0.38885067]\n",
            " [0.37348021]\n",
            " [0.3558156 ]\n",
            " [0.3606332 ]\n",
            " [0.34067451]\n",
            " [0.35042444]\n",
            " [0.32266581]\n",
            " [0.32312463]\n",
            " [0.33883919]\n",
            " [0.35638907]\n",
            " [0.35191558]\n",
            " [0.35960089]\n",
            " [0.34629504]\n",
            " [0.37095669]\n",
            " [0.36682729]\n",
            " [0.36625373]\n",
            " [0.34709798]\n",
            " [0.34985088]\n",
            " [0.34033041]\n",
            " [0.34583621]\n",
            " [0.33344803]\n",
            " [0.32553344]\n",
            " [0.32564816]\n",
            " [0.35455383]\n",
            " [0.34262448]\n",
            " [0.33723332]\n",
            " [0.34273922]\n",
            " [0.34755681]\n",
            " [0.32736867]\n",
            " [0.32840107]\n",
            " [0.38323005]\n",
            " [0.34044506]\n",
            " [0.31578351]\n",
            " [0.30328059]\n",
            " [0.31532467]\n",
            " [0.29582474]\n",
            " [0.30614822]\n",
            " [0.31337462]\n",
            " [0.31738937]\n",
            " [0.33780688]\n",
            " [0.34583621]\n",
            " [0.32105993]\n",
            " [0.2922689 ]\n",
            " [0.29525126]\n",
            " [0.27598079]\n",
            " [0.26749253]\n",
            " [0.27735719]\n",
            " [0.30924531]\n",
            " [0.30018359]\n",
            " [0.30855702]\n",
            " [0.30190409]\n",
            " [0.29593947]\n",
            " [0.31245704]\n",
            " [0.31199821]\n",
            " [0.33608629]\n",
            " [0.42119761]\n",
            " [0.37875664]\n",
            " [0.37210372]\n",
            " [0.34790091]\n",
            " [0.35753619]\n",
            " [0.34549211]\n",
            " [0.35742146]\n",
            " [0.35271851]\n",
            " [0.25923384]\n",
            " [0.23273688]\n",
            " [0.24076629]\n",
            " [0.24351919]]\n"
          ],
          "name": "stdout"
        }
      ]
    },
    {
      "cell_type": "code",
      "metadata": {
        "id": "oqaIc2H7pNf2"
      },
      "source": [
        "# convert an array of values into a dataset matrix \n",
        "### i=0, 0,1,2,3-----99   100 \n",
        "def create_dataset(dataset,time_step):\n",
        "\tdataX, dataY = [], []\n",
        "\tfor i in range(len(dataset)-time_step-1):     \n",
        "\t\ta = dataset[i:(i+time_step),0]    \n",
        "\t\tdataX.append(a)\n",
        "\t\tdataY.append(dataset[i + time_step,0])\n",
        "\treturn np.array(dataX), np.array(dataY)"
      ],
      "execution_count": null,
      "outputs": []
    },
    {
      "cell_type": "code",
      "metadata": {
        "id": "tEgxZSRvqPyb"
      },
      "source": [
        "# appending the training and testing dataset into X_train and y_train,doing the same for testing dataset\n",
        "time_step = 100  \n",
        "X_train, y_train = create_dataset(train_data, time_step)\n",
        "X_test, y_test = create_dataset(test_data, time_step)"
      ],
      "execution_count": null,
      "outputs": []
    },
    {
      "cell_type": "code",
      "metadata": {
        "id": "bVIOxcsDqPXH",
        "colab": {
          "base_uri": "https://localhost:8080/"
        },
        "outputId": "e5fac55f-672a-43a4-bf05-55ea7644bcff"
      },
      "source": [
        "# printing the shape,(rows and columns)\n",
        "print(X_train.shape)\n",
        "print(y_train.shape)    \n",
        "               "
      ],
      "execution_count": null,
      "outputs": [
        {
          "output_type": "stream",
          "text": [
            "(906, 100)\n",
            "(906,)\n"
          ],
          "name": "stdout"
        }
      ]
    },
    {
      "cell_type": "code",
      "metadata": {
        "id": "zpAP-0zctIyN",
        "colab": {
          "base_uri": "https://localhost:8080/"
        },
        "outputId": "0b56c732-a24c-46ed-f30a-903ad4d520c9"
      },
      "source": [
        "# printing the dimension of the training and testing dataset\n",
        "print(X_train.ndim)\n",
        "print(y_train.ndim)"
      ],
      "execution_count": null,
      "outputs": [
        {
          "output_type": "stream",
          "text": [
            "2\n",
            "1\n"
          ],
          "name": "stdout"
        }
      ]
    },
    {
      "cell_type": "code",
      "metadata": {
        "id": "4MnEr2-P0JlH"
      },
      "source": [
        "# reshape input to be [samples, time steps, features(1,because only the 'close' column is considered)] which is required for LSTM\n",
        "#reshaping it to a 3D, because LSTM expects the input data to be in 3D.\n",
        "X_train =X_train.reshape(X_train.shape[0],X_train.shape[1] , 1)\n",
        "X_test = X_test.reshape(X_test.shape[0],X_test.shape[1],1) \n"
      ],
      "execution_count": null,
      "outputs": []
    },
    {
      "cell_type": "code",
      "metadata": {
        "id": "SH7jDLb14aCc"
      },
      "source": [
        "#creating LSTM model \n",
        "import tensorflow as tf\n",
        "\n",
        "from tensorflow.keras.models import Sequential  \n",
        "from tensorflow.keras.layers import Dense \n",
        "from tensorflow.keras.layers import LSTM"
      ],
      "execution_count": null,
      "outputs": []
    },
    {
      "cell_type": "code",
      "metadata": {
        "id": "uAeUmqee21Xo"
      },
      "source": [
        "#adding layers to the LSTM Model\n",
        "#set return_sequence=true  for showing the full sequence of the ouput\n",
        "model=Sequential() \n",
        "model.add(LSTM(50,return_sequences=True,input_shape=(100,1))) #adding layer with 50 neurons, input_shape=(no.of time steps,feature)\n",
        "model.add(LSTM(50,return_sequences=True)) \n",
        "model.add(LSTM(50))\n",
        "model.add(Dense(1)) \n",
        "model.compile(loss='mean_squared_error',optimizer='adam') #adaptive moment estimation"
      ],
      "execution_count": null,
      "outputs": []
    },
    {
      "cell_type": "code",
      "metadata": {
        "id": "pwd9z3qOa2J9",
        "colab": {
          "base_uri": "https://localhost:8080/"
        },
        "outputId": "82dfa6cc-9c23-47ba-9094-18799fc1ecfc"
      },
      "source": [
        "#printing the summary of the model\n",
        "model.summary()"
      ],
      "execution_count": null,
      "outputs": [
        {
          "output_type": "stream",
          "text": [
            "Model: \"sequential\"\n",
            "_________________________________________________________________\n",
            "Layer (type)                 Output Shape              Param #   \n",
            "=================================================================\n",
            "lstm (LSTM)                  (None, 100, 50)           10400     \n",
            "_________________________________________________________________\n",
            "lstm_1 (LSTM)                (None, 100, 50)           20200     \n",
            "_________________________________________________________________\n",
            "lstm_2 (LSTM)                (None, 50)                20200     \n",
            "_________________________________________________________________\n",
            "dense (Dense)                (None, 1)                 51        \n",
            "=================================================================\n",
            "Total params: 50,851\n",
            "Trainable params: 50,851\n",
            "Non-trainable params: 0\n",
            "_________________________________________________________________\n"
          ],
          "name": "stdout"
        }
      ]
    },
    {
      "cell_type": "code",
      "metadata": {
        "id": "hguG48qkbFgr",
        "colab": {
          "base_uri": "https://localhost:8080/"
        },
        "outputId": "d39842dd-8ae9-4f10-8cd5-038e931420af"
      },
      "source": [
        "#training the LSTM Model with the help of training dataset with 100 epochs(iterations) \n",
        "model.fit(X_train,y_train,validation_data = (X_test,y_test),epochs=100,batch_size=64,verbose=1) "
      ],
      "execution_count": null,
      "outputs": [
        {
          "output_type": "stream",
          "text": [
            "Epoch 1/100\n",
            "15/15 [==============================] - 3s 214ms/step - loss: 0.0904 - val_loss: 0.0050\n",
            "Epoch 2/100\n",
            "15/15 [==============================] - 3s 177ms/step - loss: 0.0125 - val_loss: 0.0146\n",
            "Epoch 3/100\n",
            "15/15 [==============================] - 2s 156ms/step - loss: 0.0070 - val_loss: 0.0133\n",
            "Epoch 4/100\n",
            "15/15 [==============================] - 2s 157ms/step - loss: 0.0055 - val_loss: 0.0090\n",
            "Epoch 5/100\n",
            "15/15 [==============================] - 2s 155ms/step - loss: 0.0049 - val_loss: 0.0073\n",
            "Epoch 6/100\n",
            "15/15 [==============================] - 2s 156ms/step - loss: 0.0043 - val_loss: 0.0063\n",
            "Epoch 7/100\n",
            "15/15 [==============================] - 2s 156ms/step - loss: 0.0040 - val_loss: 0.0053\n",
            "Epoch 8/100\n",
            "15/15 [==============================] - 2s 152ms/step - loss: 0.0038 - val_loss: 0.0050\n",
            "Epoch 9/100\n",
            "15/15 [==============================] - 2s 159ms/step - loss: 0.0038 - val_loss: 0.0052\n",
            "Epoch 10/100\n",
            "15/15 [==============================] - 2s 155ms/step - loss: 0.0038 - val_loss: 0.0048\n",
            "Epoch 11/100\n",
            "15/15 [==============================] - 2s 156ms/step - loss: 0.0034 - val_loss: 0.0047\n",
            "Epoch 12/100\n",
            "15/15 [==============================] - 2s 161ms/step - loss: 0.0032 - val_loss: 0.0044\n",
            "Epoch 13/100\n",
            "15/15 [==============================] - 2s 160ms/step - loss: 0.0032 - val_loss: 0.0048\n",
            "Epoch 14/100\n",
            "15/15 [==============================] - 2s 156ms/step - loss: 0.0030 - val_loss: 0.0042\n",
            "Epoch 15/100\n",
            "15/15 [==============================] - 2s 165ms/step - loss: 0.0030 - val_loss: 0.0038\n",
            "Epoch 16/100\n",
            "15/15 [==============================] - 2s 155ms/step - loss: 0.0034 - val_loss: 0.0042\n",
            "Epoch 17/100\n",
            "15/15 [==============================] - 2s 160ms/step - loss: 0.0027 - val_loss: 0.0042\n",
            "Epoch 18/100\n",
            "15/15 [==============================] - 2s 153ms/step - loss: 0.0028 - val_loss: 0.0036\n",
            "Epoch 19/100\n",
            "15/15 [==============================] - 2s 161ms/step - loss: 0.0026 - val_loss: 0.0038\n",
            "Epoch 20/100\n",
            "15/15 [==============================] - 3s 168ms/step - loss: 0.0024 - val_loss: 0.0035\n",
            "Epoch 21/100\n",
            "15/15 [==============================] - 2s 152ms/step - loss: 0.0023 - val_loss: 0.0038\n",
            "Epoch 22/100\n",
            "15/15 [==============================] - 2s 158ms/step - loss: 0.0022 - val_loss: 0.0040\n",
            "Epoch 23/100\n",
            "15/15 [==============================] - 2s 154ms/step - loss: 0.0024 - val_loss: 0.0030\n",
            "Epoch 24/100\n",
            "15/15 [==============================] - 2s 157ms/step - loss: 0.0021 - val_loss: 0.0031\n",
            "Epoch 25/100\n",
            "15/15 [==============================] - 2s 158ms/step - loss: 0.0019 - val_loss: 0.0032\n",
            "Epoch 26/100\n",
            "15/15 [==============================] - 2s 154ms/step - loss: 0.0018 - val_loss: 0.0028\n",
            "Epoch 27/100\n",
            "15/15 [==============================] - 2s 152ms/step - loss: 0.0018 - val_loss: 0.0027\n",
            "Epoch 28/100\n",
            "15/15 [==============================] - 2s 154ms/step - loss: 0.0017 - val_loss: 0.0030\n",
            "Epoch 29/100\n",
            "15/15 [==============================] - 2s 162ms/step - loss: 0.0017 - val_loss: 0.0036\n",
            "Epoch 30/100\n",
            "15/15 [==============================] - 2s 155ms/step - loss: 0.0022 - val_loss: 0.0025\n",
            "Epoch 31/100\n",
            "15/15 [==============================] - 2s 157ms/step - loss: 0.0022 - val_loss: 0.0029\n",
            "Epoch 32/100\n",
            "15/15 [==============================] - 2s 158ms/step - loss: 0.0016 - val_loss: 0.0030\n",
            "Epoch 33/100\n",
            "15/15 [==============================] - 2s 163ms/step - loss: 0.0017 - val_loss: 0.0027\n",
            "Epoch 34/100\n",
            "15/15 [==============================] - 2s 154ms/step - loss: 0.0015 - val_loss: 0.0026\n",
            "Epoch 35/100\n",
            "15/15 [==============================] - 2s 159ms/step - loss: 0.0015 - val_loss: 0.0028\n",
            "Epoch 36/100\n",
            "15/15 [==============================] - 2s 158ms/step - loss: 0.0015 - val_loss: 0.0027\n",
            "Epoch 37/100\n",
            "15/15 [==============================] - 2s 154ms/step - loss: 0.0014 - val_loss: 0.0026\n",
            "Epoch 38/100\n",
            "15/15 [==============================] - 2s 166ms/step - loss: 0.0013 - val_loss: 0.0028\n",
            "Epoch 39/100\n",
            "15/15 [==============================] - 3s 169ms/step - loss: 0.0014 - val_loss: 0.0023\n",
            "Epoch 40/100\n",
            "15/15 [==============================] - 2s 157ms/step - loss: 0.0013 - val_loss: 0.0023\n",
            "Epoch 41/100\n",
            "15/15 [==============================] - 2s 161ms/step - loss: 0.0014 - val_loss: 0.0030\n",
            "Epoch 42/100\n",
            "15/15 [==============================] - 2s 154ms/step - loss: 0.0014 - val_loss: 0.0023\n",
            "Epoch 43/100\n",
            "15/15 [==============================] - 2s 155ms/step - loss: 0.0013 - val_loss: 0.0025\n",
            "Epoch 44/100\n",
            "15/15 [==============================] - 2s 154ms/step - loss: 0.0012 - val_loss: 0.0024\n",
            "Epoch 45/100\n",
            "15/15 [==============================] - 2s 159ms/step - loss: 0.0013 - val_loss: 0.0023\n",
            "Epoch 46/100\n",
            "15/15 [==============================] - 2s 160ms/step - loss: 0.0012 - val_loss: 0.0026\n",
            "Epoch 47/100\n",
            "15/15 [==============================] - 2s 157ms/step - loss: 0.0013 - val_loss: 0.0021\n",
            "Epoch 48/100\n",
            "15/15 [==============================] - 2s 161ms/step - loss: 0.0013 - val_loss: 0.0028\n",
            "Epoch 49/100\n",
            "15/15 [==============================] - 2s 162ms/step - loss: 0.0013 - val_loss: 0.0024\n",
            "Epoch 50/100\n",
            "15/15 [==============================] - 2s 155ms/step - loss: 0.0011 - val_loss: 0.0021\n",
            "Epoch 51/100\n",
            "15/15 [==============================] - 2s 152ms/step - loss: 0.0011 - val_loss: 0.0022\n",
            "Epoch 52/100\n",
            "15/15 [==============================] - 2s 159ms/step - loss: 0.0010 - val_loss: 0.0022\n",
            "Epoch 53/100\n",
            "15/15 [==============================] - 2s 158ms/step - loss: 0.0011 - val_loss: 0.0023\n",
            "Epoch 54/100\n",
            "15/15 [==============================] - 2s 154ms/step - loss: 0.0010 - val_loss: 0.0022\n",
            "Epoch 55/100\n",
            "15/15 [==============================] - 2s 162ms/step - loss: 0.0010 - val_loss: 0.0021\n",
            "Epoch 56/100\n",
            "15/15 [==============================] - 2s 164ms/step - loss: 9.7186e-04 - val_loss: 0.0021\n",
            "Epoch 57/100\n",
            "15/15 [==============================] - 2s 157ms/step - loss: 0.0011 - val_loss: 0.0021\n",
            "Epoch 58/100\n",
            "15/15 [==============================] - 2s 160ms/step - loss: 9.6936e-04 - val_loss: 0.0021\n",
            "Epoch 59/100\n",
            "15/15 [==============================] - 2s 153ms/step - loss: 9.5781e-04 - val_loss: 0.0021\n",
            "Epoch 60/100\n",
            "15/15 [==============================] - 2s 162ms/step - loss: 8.9609e-04 - val_loss: 0.0020\n",
            "Epoch 61/100\n",
            "15/15 [==============================] - 2s 165ms/step - loss: 8.7985e-04 - val_loss: 0.0022\n",
            "Epoch 62/100\n",
            "15/15 [==============================] - 3s 168ms/step - loss: 9.8776e-04 - val_loss: 0.0020\n",
            "Epoch 63/100\n",
            "15/15 [==============================] - 3s 167ms/step - loss: 8.9590e-04 - val_loss: 0.0018\n",
            "Epoch 64/100\n",
            "15/15 [==============================] - 2s 158ms/step - loss: 8.5852e-04 - val_loss: 0.0020\n",
            "Epoch 65/100\n",
            "15/15 [==============================] - 2s 154ms/step - loss: 8.3789e-04 - val_loss: 0.0019\n",
            "Epoch 66/100\n",
            "15/15 [==============================] - 2s 154ms/step - loss: 8.6091e-04 - val_loss: 0.0027\n",
            "Epoch 67/100\n",
            "15/15 [==============================] - 2s 154ms/step - loss: 0.0018 - val_loss: 0.0022\n",
            "Epoch 68/100\n",
            "15/15 [==============================] - 2s 160ms/step - loss: 0.0011 - val_loss: 0.0019\n",
            "Epoch 69/100\n",
            "15/15 [==============================] - 2s 163ms/step - loss: 8.6776e-04 - val_loss: 0.0019\n",
            "Epoch 70/100\n",
            "15/15 [==============================] - 2s 155ms/step - loss: 9.4800e-04 - val_loss: 0.0018\n",
            "Epoch 71/100\n",
            "15/15 [==============================] - 2s 153ms/step - loss: 8.5884e-04 - val_loss: 0.0023\n",
            "Epoch 72/100\n",
            "15/15 [==============================] - 2s 156ms/step - loss: 0.0010 - val_loss: 0.0018\n",
            "Epoch 73/100\n",
            "15/15 [==============================] - 2s 154ms/step - loss: 8.0717e-04 - val_loss: 0.0019\n",
            "Epoch 74/100\n",
            "15/15 [==============================] - 2s 161ms/step - loss: 8.0179e-04 - val_loss: 0.0017\n",
            "Epoch 75/100\n",
            "15/15 [==============================] - 2s 153ms/step - loss: 0.0012 - val_loss: 0.0021\n",
            "Epoch 76/100\n",
            "15/15 [==============================] - 2s 160ms/step - loss: 8.2643e-04 - val_loss: 0.0017\n",
            "Epoch 77/100\n",
            "15/15 [==============================] - 2s 157ms/step - loss: 7.1508e-04 - val_loss: 0.0017\n",
            "Epoch 78/100\n",
            "15/15 [==============================] - 2s 162ms/step - loss: 7.9325e-04 - val_loss: 0.0018\n",
            "Epoch 79/100\n",
            "15/15 [==============================] - 2s 156ms/step - loss: 6.8962e-04 - val_loss: 0.0017\n",
            "Epoch 80/100\n",
            "15/15 [==============================] - 2s 163ms/step - loss: 8.2580e-04 - val_loss: 0.0019\n",
            "Epoch 81/100\n",
            "15/15 [==============================] - 3s 172ms/step - loss: 7.9648e-04 - val_loss: 0.0017\n",
            "Epoch 82/100\n",
            "15/15 [==============================] - 2s 158ms/step - loss: 6.8637e-04 - val_loss: 0.0017\n",
            "Epoch 83/100\n",
            "15/15 [==============================] - 2s 164ms/step - loss: 6.5178e-04 - val_loss: 0.0017\n",
            "Epoch 84/100\n",
            "15/15 [==============================] - 2s 159ms/step - loss: 7.4901e-04 - val_loss: 0.0016\n",
            "Epoch 85/100\n",
            "15/15 [==============================] - 2s 163ms/step - loss: 6.9191e-04 - val_loss: 0.0016\n",
            "Epoch 86/100\n",
            "15/15 [==============================] - 2s 161ms/step - loss: 7.0842e-04 - val_loss: 0.0017\n",
            "Epoch 87/100\n",
            "15/15 [==============================] - 3s 171ms/step - loss: 6.6398e-04 - val_loss: 0.0016\n",
            "Epoch 88/100\n",
            "15/15 [==============================] - 2s 153ms/step - loss: 6.7601e-04 - val_loss: 0.0016\n",
            "Epoch 89/100\n",
            "15/15 [==============================] - 2s 153ms/step - loss: 6.1800e-04 - val_loss: 0.0017\n",
            "Epoch 90/100\n",
            "15/15 [==============================] - 2s 156ms/step - loss: 6.0827e-04 - val_loss: 0.0016\n",
            "Epoch 91/100\n",
            "15/15 [==============================] - 2s 162ms/step - loss: 6.0113e-04 - val_loss: 0.0016\n",
            "Epoch 92/100\n",
            "15/15 [==============================] - 2s 163ms/step - loss: 6.0165e-04 - val_loss: 0.0016\n",
            "Epoch 93/100\n",
            "15/15 [==============================] - 3s 168ms/step - loss: 7.4147e-04 - val_loss: 0.0018\n",
            "Epoch 94/100\n",
            "15/15 [==============================] - 2s 160ms/step - loss: 6.2121e-04 - val_loss: 0.0015\n",
            "Epoch 95/100\n",
            "15/15 [==============================] - 2s 160ms/step - loss: 6.0281e-04 - val_loss: 0.0015\n",
            "Epoch 96/100\n",
            "15/15 [==============================] - 2s 157ms/step - loss: 5.7808e-04 - val_loss: 0.0015\n",
            "Epoch 97/100\n",
            "15/15 [==============================] - 2s 155ms/step - loss: 5.8002e-04 - val_loss: 0.0015\n",
            "Epoch 98/100\n",
            "15/15 [==============================] - 2s 155ms/step - loss: 6.0454e-04 - val_loss: 0.0014\n",
            "Epoch 99/100\n",
            "15/15 [==============================] - 2s 159ms/step - loss: 7.6142e-04 - val_loss: 0.0014\n",
            "Epoch 100/100\n",
            "15/15 [==============================] - 2s 159ms/step - loss: 7.5906e-04 - val_loss: 0.0014\n"
          ],
          "name": "stdout"
        },
        {
          "output_type": "execute_result",
          "data": {
            "text/plain": [
              "<tensorflow.python.keras.callbacks.History at 0x7f55b56736a0>"
            ]
          },
          "metadata": {
            "tags": []
          },
          "execution_count": 26
        }
      ]
    },
    {
      "cell_type": "code",
      "metadata": {
        "id": "hiVyiUNOa6yD"
      },
      "source": [
        "#predicting for the existing output to compare and check the accuracy\n",
        "training_prediction= model.predict(X_train)  \n",
        "                                      \n",
        "testing_prediction = model.predict(X_test)\n"
      ],
      "execution_count": null,
      "outputs": []
    },
    {
      "cell_type": "code",
      "metadata": {
        "id": "XPaGqCTiC9dj"
      },
      "source": [
        "##Transformback to original form using standardscaler\n",
        "from sklearn.preprocessing import StandardScaler\n",
        "scaler_train = StandardScaler() \n",
        "training_prediction = scaler_train.fit_transform(training_prediction)\n",
        "scaler_test = StandardScaler()\n",
        "testing_prediction = scaler_test.fit_transform(testing_prediction)    "
      ],
      "execution_count": null,
      "outputs": []
    },
    {
      "cell_type": "code",
      "metadata": {
        "id": "ZwIq-VDbj5h_",
        "colab": {
          "base_uri": "https://localhost:8080/"
        },
        "outputId": "dd580ed6-4fe2-454d-db43-17ba4d3efb93"
      },
      "source": [
        "# Calculate RMSE performance metrics(RMSE range should be between 0-1)\n",
        "import math  \n",
        "from sklearn.metrics import mean_squared_error\n",
        "math.sqrt(mean_squared_error(y_train,training_prediction))\n",
        "\n"
      ],
      "execution_count": null,
      "outputs": [
        {
          "output_type": "execute_result",
          "data": {
            "text/plain": [
              "1.0514117293288845"
            ]
          },
          "metadata": {
            "tags": []
          },
          "execution_count": 29
        }
      ]
    },
    {
      "cell_type": "code",
      "metadata": {
        "id": "j21jSE9_kChQ",
        "colab": {
          "base_uri": "https://localhost:8080/"
        },
        "outputId": "059ee8d1-2280-4be3-8552-6cc01c98846b"
      },
      "source": [
        "math.sqrt(mean_squared_error(y_test,testing_prediction)) "
      ],
      "execution_count": null,
      "outputs": [
        {
          "output_type": "execute_result",
          "data": {
            "text/plain": [
              "0.9931207869159424"
            ]
          },
          "metadata": {
            "tags": []
          },
          "execution_count": 30
        }
      ]
    },
    {
      "cell_type": "code",
      "metadata": {
        "id": "2oJp4JDHkPi1",
        "colab": {
          "base_uri": "https://localhost:8080/",
          "height": 409
        },
        "outputId": "48811d50-7cf9-4c1f-cbbd-839f5facb897"
      },
      "source": [
        "# Plotting \n",
        "# shift train predictions for plotting\n",
        "look_back=100 \n",
        "trainPredictPlot = np.empty_like(df)\n",
        "trainPredictPlot[:,:] = np.nan   \n",
        "trainPredictPlot[look_back:len(training_prediction)+look_back, :] = training_prediction\n",
        "# shift test predictions for plotting\n",
        "testPredictPlot = np.empty_like(df)\n",
        "testPredictPlot[:, :] = np.nan\n",
        "testPredictPlot[len(training_prediction)+(look_back*2)+1:len(df)-1, :] = testing_prediction\n",
        "# plot baseline and predictions \n",
        "scaler=StandardScaler()\n",
        "#displaying the graph\n",
        "plt.figure(figsize=(12,6))\n",
        "plt.title('Model')\n",
        "plt.xlabel('Data', fontsize = 15)\n",
        "plt.ylabel('Close price USD ($)', fontsize = 15)\n",
        "plt.plot(scaler.fit_transform(df))\n",
        "plt.plot(trainPredictPlot)\n",
        "plt.plot(testPredictPlot)\n",
        "plt.show()\n",
        "\n"
      ],
      "execution_count": null,
      "outputs": [
        {
          "output_type": "display_data",
          "data": {
            "image/png": "[encoded data removed]",
            "text/plain": [
              "<Figure size 864x432 with 1 Axes>"
            ]
          },
          "metadata": {
            "tags": [],
            "needs_background": "light"
          }
        }
      ]
    },
    {
      "cell_type": "code",
      "metadata": {
        "id": "ujKOQyebszIu",
        "colab": {
          "base_uri": "https://localhost:8080/"
        },
        "outputId": "2dcfc5b6-cf93-48ac-f0f4-5dc7e183d590"
      },
      "source": [
        "len(test_data) "
      ],
      "execution_count": null,
      "outputs": [
        {
          "output_type": "execute_result",
          "data": {
            "text/plain": [
              "252"
            ]
          },
          "metadata": {
            "tags": []
          },
          "execution_count": 32
        }
      ]
    },
    {
      "cell_type": "code",
      "metadata": {
        "id": "dh7PjMxns580",
        "colab": {
          "base_uri": "https://localhost:8080/"
        },
        "outputId": "25c91e10-202f-4de5-c8cb-1282f97350e4"
      },
      "source": [
        "x_input=test_data[153:].reshape(1,-1)\n",
        "x_input.shape\n"
      ],
      "execution_count": null,
      "outputs": [
        {
          "output_type": "execute_result",
          "data": {
            "text/plain": [
              "(1, 99)"
            ]
          },
          "metadata": {
            "tags": []
          },
          "execution_count": 33
        }
      ]
    },
    {
      "cell_type": "code",
      "metadata": {
        "id": "Vy3bYULhtNQ8"
      },
      "source": [
        "temp_input=list(x_input) \n",
        "temp_input=temp_input[0].tolist()"
      ],
      "execution_count": null,
      "outputs": []
    },
    {
      "cell_type": "code",
      "metadata": {
        "id": "BPwFk_mhDpwQ",
        "colab": {
          "base_uri": "https://localhost:8080/"
        },
        "outputId": "9ae443e8-c168-4dca-eda8-ecc0c85d1f5d"
      },
      "source": [
        "print(temp_input)"
      ],
      "execution_count": null,
      "outputs": [
        {
          "output_type": "stream",
          "text": [
            "[0.4277357306721725, 0.4700619752236752, 0.42555629731589795, 0.4026152557926128, 0.26657495985317725, 0.31131001376462497, 0.3083276554255563, 0.3484744780913054, 0.3370039573296628, 0.3371186854783208, 0.3177334709795825, 0.30167473044276205, 0.28263371186051844, 0.24833678596008246, 0.2782748566184905, 0.2571691328286305, 0.2865336430373939, 0.29823353980270695, 0.2726543243863271, 0.2859600825877495, 0.2915806951135582, 0.26164263592567116, 0.26313376921312215, 0.24019272768983702, 0.27047489103005273, 0.2802248222069281, 0.29628356274374856, 0.3238128355127323, 0.33539808442303287, 0.34801564579031874, 0.36246852489103, 0.3589126061023169, 0.3888506652902042, 0.37348021335168613, 0.35581559990823575, 0.3606331956870841, 0.3406745125028676, 0.350424443679743, 0.32266580637760955, 0.3231246272080752, 0.33883919476944246, 0.3563890685937141, 0.3519155769671942, 0.3596008947006193, 0.3462950447350308, 0.3709566873136041, 0.3668272883688919, 0.3662537279192475, 0.3470979811883459, 0.3498508832300986, 0.3403304083505392, 0.3458362124340444, 0.333448027070429, 0.32553343656802025, 0.325648164716678, 0.35455383115393446, 0.34262447809130525, 0.3372333218628125, 0.342739217710484, 0.3475568134893323, 0.3273686740077999, 0.3284010667584307, 0.3832300527643955, 0.34044505620555165, 0.31578350539114486, 0.30328059187887124, 0.3153246730901582, 0.2958247419132827, 0.30614822206928194, 0.31337461573755454, 0.31738936682725405, 0.3378068823124569, 0.3458362124340444, 0.3210599334709796, 0.2922689034182151, 0.2952512617572838, 0.2759807868777242, 0.26749253269098405, 0.27735719201651743, 0.3092453085570084, 0.3001835856847901, 0.308557019958706, 0.301904094975912, 0.29593947006194066, 0.3124570428997475, 0.3119982105987611, 0.33608629272768975, 0.42119761413168155, 0.3787566414315211, 0.37210371644872664, 0.3479009061711402, 0.35753618949300314, 0.34549210828171595, 0.35742146134434516, 0.3527185134205093, 0.25923383803624667, 0.23273687772424867, 0.24076628813948142, 0.24351919018123414]\n"
          ],
          "name": "stdout"
        }
      ]
    },
    {
      "cell_type": "code",
      "metadata": {
        "id": "Q2u-QhCpuLMV",
        "colab": {
          "base_uri": "https://localhost:8080/"
        },
        "outputId": "05598198-6e63-48b4-db4e-76f5cc7e3e5f"
      },
      "source": [
        "# predicting the stock price for a month\n",
        "from numpy import array\n",
        "\n",
        "lst_output=[]\n",
        "n_steps=99\n",
        "i=0\n",
        "while(i<30):\n",
        "    \n",
        "    if(len(temp_input)>99):\n",
        "        #print(temp_input)\n",
        "        x_input=np.array(temp_input[1:])\n",
        "        print(\"{} day input {}\".format(i,x_input))\n",
        "        x_input=x_input.reshape(1,-1)\n",
        "        x_input = x_input.reshape((1, n_steps, 1))\n",
        "        #print(x_input)\n",
        "        yhat = model.predict(x_input, verbose=0)\n",
        "        print(\"{} day output {}\".format(i,yhat))\n",
        "        temp_input.extend(yhat[0].tolist())\n",
        "        temp_input=temp_input[1:]\n",
        "        #print(temp_input)\n",
        "        lst_output.extend(yhat.tolist())\n",
        "        i=i+1\n",
        "    else:\n",
        "        x_input = x_input.reshape((1, n_steps,1)) \n",
        "        yhat = model.predict(x_input, verbose=0)\n",
        "        print(yhat[0])\n",
        "        temp_input.extend(yhat[0].tolist())\n",
        "        print(len(temp_input))\n",
        "        lst_output.extend(yhat.tolist())\n",
        "        i=i+1\n",
        "    \n",
        "\n",
        "print(lst_output)\n"
      ],
      "execution_count": null,
      "outputs": [
        {
          "output_type": "stream",
          "text": [
            "WARNING:tensorflow:Model was constructed with shape (None, 100, 1) for input Tensor(\"lstm_input:0\", shape=(None, 100, 1), dtype=float32), but it was called on an input with incompatible shape (None, 99, 1).\n",
            "[0.24050364]\n",
            "100\n",
            "1 day input [0.47006198 0.4255563  0.40261526 0.26657496 0.31131001 0.30832766\n",
            " 0.34847448 0.33700396 0.33711869 0.31773347 0.30167473 0.28263371\n",
            " 0.24833679 0.27827486 0.25716913 0.28653364 0.29823354 0.27265432\n",
            " 0.28596008 0.2915807  0.26164264 0.26313377 0.24019273 0.27047489\n",
            " 0.28022482 0.29628356 0.32381284 0.33539808 0.34801565 0.36246852\n",
            " 0.35891261 0.38885067 0.37348021 0.3558156  0.3606332  0.34067451\n",
            " 0.35042444 0.32266581 0.32312463 0.33883919 0.35638907 0.35191558\n",
            " 0.35960089 0.34629504 0.37095669 0.36682729 0.36625373 0.34709798\n",
            " 0.34985088 0.34033041 0.34583621 0.33344803 0.32553344 0.32564816\n",
            " 0.35455383 0.34262448 0.33723332 0.34273922 0.34755681 0.32736867\n",
            " 0.32840107 0.38323005 0.34044506 0.31578351 0.30328059 0.31532467\n",
            " 0.29582474 0.30614822 0.31337462 0.31738937 0.33780688 0.34583621\n",
            " 0.32105993 0.2922689  0.29525126 0.27598079 0.26749253 0.27735719\n",
            " 0.30924531 0.30018359 0.30855702 0.30190409 0.29593947 0.31245704\n",
            " 0.31199821 0.33608629 0.42119761 0.37875664 0.37210372 0.34790091\n",
            " 0.35753619 0.34549211 0.35742146 0.35271851 0.25923384 0.23273688\n",
            " 0.24076629 0.24351919 0.24050364]\n",
            "1 day output [[0.2393065]]\n",
            "2 day input [0.4255563  0.40261526 0.26657496 0.31131001 0.30832766 0.34847448\n",
            " 0.33700396 0.33711869 0.31773347 0.30167473 0.28263371 0.24833679\n",
            " 0.27827486 0.25716913 0.28653364 0.29823354 0.27265432 0.28596008\n",
            " 0.2915807  0.26164264 0.26313377 0.24019273 0.27047489 0.28022482\n",
            " 0.29628356 0.32381284 0.33539808 0.34801565 0.36246852 0.35891261\n",
            " 0.38885067 0.37348021 0.3558156  0.3606332  0.34067451 0.35042444\n",
            " 0.32266581 0.32312463 0.33883919 0.35638907 0.35191558 0.35960089\n",
            " 0.34629504 0.37095669 0.36682729 0.36625373 0.34709798 0.34985088\n",
            " 0.34033041 0.34583621 0.33344803 0.32553344 0.32564816 0.35455383\n",
            " 0.34262448 0.33723332 0.34273922 0.34755681 0.32736867 0.32840107\n",
            " 0.38323005 0.34044506 0.31578351 0.30328059 0.31532467 0.29582474\n",
            " 0.30614822 0.31337462 0.31738937 0.33780688 0.34583621 0.32105993\n",
            " 0.2922689  0.29525126 0.27598079 0.26749253 0.27735719 0.30924531\n",
            " 0.30018359 0.30855702 0.30190409 0.29593947 0.31245704 0.31199821\n",
            " 0.33608629 0.42119761 0.37875664 0.37210372 0.34790091 0.35753619\n",
            " 0.34549211 0.35742146 0.35271851 0.25923384 0.23273688 0.24076629\n",
            " 0.24351919 0.24050364 0.23930649]\n",
            "2 day output [[0.24080375]]\n",
            "3 day input [0.40261526 0.26657496 0.31131001 0.30832766 0.34847448 0.33700396\n",
            " 0.33711869 0.31773347 0.30167473 0.28263371 0.24833679 0.27827486\n",
            " 0.25716913 0.28653364 0.29823354 0.27265432 0.28596008 0.2915807\n",
            " 0.26164264 0.26313377 0.24019273 0.27047489 0.28022482 0.29628356\n",
            " 0.32381284 0.33539808 0.34801565 0.36246852 0.35891261 0.38885067\n",
            " 0.37348021 0.3558156  0.3606332  0.34067451 0.35042444 0.32266581\n",
            " 0.32312463 0.33883919 0.35638907 0.35191558 0.35960089 0.34629504\n",
            " 0.37095669 0.36682729 0.36625373 0.34709798 0.34985088 0.34033041\n",
            " 0.34583621 0.33344803 0.32553344 0.32564816 0.35455383 0.34262448\n",
            " 0.33723332 0.34273922 0.34755681 0.32736867 0.32840107 0.38323005\n",
            " 0.34044506 0.31578351 0.30328059 0.31532467 0.29582474 0.30614822\n",
            " 0.31337462 0.31738937 0.33780688 0.34583621 0.32105993 0.2922689\n",
            " 0.29525126 0.27598079 0.26749253 0.27735719 0.30924531 0.30018359\n",
            " 0.30855702 0.30190409 0.29593947 0.31245704 0.31199821 0.33608629\n",
            " 0.42119761 0.37875664 0.37210372 0.34790091 0.35753619 0.34549211\n",
            " 0.35742146 0.35271851 0.25923384 0.23273688 0.24076629 0.24351919\n",
            " 0.24050364 0.23930649 0.24080375]\n",
            "3 day output [[0.24327391]]\n",
            "4 day input [0.26657496 0.31131001 0.30832766 0.34847448 0.33700396 0.33711869\n",
            " 0.31773347 0.30167473 0.28263371 0.24833679 0.27827486 0.25716913\n",
            " 0.28653364 0.29823354 0.27265432 0.28596008 0.2915807  0.26164264\n",
            " 0.26313377 0.24019273 0.27047489 0.28022482 0.29628356 0.32381284\n",
            " 0.33539808 0.34801565 0.36246852 0.35891261 0.38885067 0.37348021\n",
            " 0.3558156  0.3606332  0.34067451 0.35042444 0.32266581 0.32312463\n",
            " 0.33883919 0.35638907 0.35191558 0.35960089 0.34629504 0.37095669\n",
            " 0.36682729 0.36625373 0.34709798 0.34985088 0.34033041 0.34583621\n",
            " 0.33344803 0.32553344 0.32564816 0.35455383 0.34262448 0.33723332\n",
            " 0.34273922 0.34755681 0.32736867 0.32840107 0.38323005 0.34044506\n",
            " 0.31578351 0.30328059 0.31532467 0.29582474 0.30614822 0.31337462\n",
            " 0.31738937 0.33780688 0.34583621 0.32105993 0.2922689  0.29525126\n",
            " 0.27598079 0.26749253 0.27735719 0.30924531 0.30018359 0.30855702\n",
            " 0.30190409 0.29593947 0.31245704 0.31199821 0.33608629 0.42119761\n",
            " 0.37875664 0.37210372 0.34790091 0.35753619 0.34549211 0.35742146\n",
            " 0.35271851 0.25923384 0.23273688 0.24076629 0.24351919 0.24050364\n",
            " 0.23930649 0.24080375 0.24327391]\n",
            "4 day output [[0.24614637]]\n",
            "5 day input [0.31131001 0.30832766 0.34847448 0.33700396 0.33711869 0.31773347\n",
            " 0.30167473 0.28263371 0.24833679 0.27827486 0.25716913 0.28653364\n",
            " 0.29823354 0.27265432 0.28596008 0.2915807  0.26164264 0.26313377\n",
            " 0.24019273 0.27047489 0.28022482 0.29628356 0.32381284 0.33539808\n",
            " 0.34801565 0.36246852 0.35891261 0.38885067 0.37348021 0.3558156\n",
            " 0.3606332  0.34067451 0.35042444 0.32266581 0.32312463 0.33883919\n",
            " 0.35638907 0.35191558 0.35960089 0.34629504 0.37095669 0.36682729\n",
            " 0.36625373 0.34709798 0.34985088 0.34033041 0.34583621 0.33344803\n",
            " 0.32553344 0.32564816 0.35455383 0.34262448 0.33723332 0.34273922\n",
            " 0.34755681 0.32736867 0.32840107 0.38323005 0.34044506 0.31578351\n",
            " 0.30328059 0.31532467 0.29582474 0.30614822 0.31337462 0.31738937\n",
            " 0.33780688 0.34583621 0.32105993 0.2922689  0.29525126 0.27598079\n",
            " 0.26749253 0.27735719 0.30924531 0.30018359 0.30855702 0.30190409\n",
            " 0.29593947 0.31245704 0.31199821 0.33608629 0.42119761 0.37875664\n",
            " 0.37210372 0.34790091 0.35753619 0.34549211 0.35742146 0.35271851\n",
            " 0.25923384 0.23273688 0.24076629 0.24351919 0.24050364 0.23930649\n",
            " 0.24080375 0.24327391 0.24614637]\n",
            "5 day output [[0.24920002]]\n",
            "6 day input [0.30832766 0.34847448 0.33700396 0.33711869 0.31773347 0.30167473\n",
            " 0.28263371 0.24833679 0.27827486 0.25716913 0.28653364 0.29823354\n",
            " 0.27265432 0.28596008 0.2915807  0.26164264 0.26313377 0.24019273\n",
            " 0.27047489 0.28022482 0.29628356 0.32381284 0.33539808 0.34801565\n",
            " 0.36246852 0.35891261 0.38885067 0.37348021 0.3558156  0.3606332\n",
            " 0.34067451 0.35042444 0.32266581 0.32312463 0.33883919 0.35638907\n",
            " 0.35191558 0.35960089 0.34629504 0.37095669 0.36682729 0.36625373\n",
            " 0.34709798 0.34985088 0.34033041 0.34583621 0.33344803 0.32553344\n",
            " 0.32564816 0.35455383 0.34262448 0.33723332 0.34273922 0.34755681\n",
            " 0.32736867 0.32840107 0.38323005 0.34044506 0.31578351 0.30328059\n",
            " 0.31532467 0.29582474 0.30614822 0.31337462 0.31738937 0.33780688\n",
            " 0.34583621 0.32105993 0.2922689  0.29525126 0.27598079 0.26749253\n",
            " 0.27735719 0.30924531 0.30018359 0.30855702 0.30190409 0.29593947\n",
            " 0.31245704 0.31199821 0.33608629 0.42119761 0.37875664 0.37210372\n",
            " 0.34790091 0.35753619 0.34549211 0.35742146 0.35271851 0.25923384\n",
            " 0.23273688 0.24076629 0.24351919 0.24050364 0.23930649 0.24080375\n",
            " 0.24327391 0.24614637 0.24920002]\n",
            "6 day output [[0.25233328]]\n",
            "7 day input [0.34847448 0.33700396 0.33711869 0.31773347 0.30167473 0.28263371\n",
            " 0.24833679 0.27827486 0.25716913 0.28653364 0.29823354 0.27265432\n",
            " 0.28596008 0.2915807  0.26164264 0.26313377 0.24019273 0.27047489\n",
            " 0.28022482 0.29628356 0.32381284 0.33539808 0.34801565 0.36246852\n",
            " 0.35891261 0.38885067 0.37348021 0.3558156  0.3606332  0.34067451\n",
            " 0.35042444 0.32266581 0.32312463 0.33883919 0.35638907 0.35191558\n",
            " 0.35960089 0.34629504 0.37095669 0.36682729 0.36625373 0.34709798\n",
            " 0.34985088 0.34033041 0.34583621 0.33344803 0.32553344 0.32564816\n",
            " 0.35455383 0.34262448 0.33723332 0.34273922 0.34755681 0.32736867\n",
            " 0.32840107 0.38323005 0.34044506 0.31578351 0.30328059 0.31532467\n",
            " 0.29582474 0.30614822 0.31337462 0.31738937 0.33780688 0.34583621\n",
            " 0.32105993 0.2922689  0.29525126 0.27598079 0.26749253 0.27735719\n",
            " 0.30924531 0.30018359 0.30855702 0.30190409 0.29593947 0.31245704\n",
            " 0.31199821 0.33608629 0.42119761 0.37875664 0.37210372 0.34790091\n",
            " 0.35753619 0.34549211 0.35742146 0.35271851 0.25923384 0.23273688\n",
            " 0.24076629 0.24351919 0.24050364 0.23930649 0.24080375 0.24327391\n",
            " 0.24614637 0.24920002 0.25233328]\n",
            "7 day output [[0.25550303]]\n",
            "8 day input [0.33700396 0.33711869 0.31773347 0.30167473 0.28263371 0.24833679\n",
            " 0.27827486 0.25716913 0.28653364 0.29823354 0.27265432 0.28596008\n",
            " 0.2915807  0.26164264 0.26313377 0.24019273 0.27047489 0.28022482\n",
            " 0.29628356 0.32381284 0.33539808 0.34801565 0.36246852 0.35891261\n",
            " 0.38885067 0.37348021 0.3558156  0.3606332  0.34067451 0.35042444\n",
            " 0.32266581 0.32312463 0.33883919 0.35638907 0.35191558 0.35960089\n",
            " 0.34629504 0.37095669 0.36682729 0.36625373 0.34709798 0.34985088\n",
            " 0.34033041 0.34583621 0.33344803 0.32553344 0.32564816 0.35455383\n",
            " 0.34262448 0.33723332 0.34273922 0.34755681 0.32736867 0.32840107\n",
            " 0.38323005 0.34044506 0.31578351 0.30328059 0.31532467 0.29582474\n",
            " 0.30614822 0.31337462 0.31738937 0.33780688 0.34583621 0.32105993\n",
            " 0.2922689  0.29525126 0.27598079 0.26749253 0.27735719 0.30924531\n",
            " 0.30018359 0.30855702 0.30190409 0.29593947 0.31245704 0.31199821\n",
            " 0.33608629 0.42119761 0.37875664 0.37210372 0.34790091 0.35753619\n",
            " 0.34549211 0.35742146 0.35271851 0.25923384 0.23273688 0.24076629\n",
            " 0.24351919 0.24050364 0.23930649 0.24080375 0.24327391 0.24614637\n",
            " 0.24920002 0.25233328 0.25550303]\n",
            "8 day output [[0.2587008]]\n",
            "9 day input [0.33711869 0.31773347 0.30167473 0.28263371 0.24833679 0.27827486\n",
            " 0.25716913 0.28653364 0.29823354 0.27265432 0.28596008 0.2915807\n",
            " 0.26164264 0.26313377 0.24019273 0.27047489 0.28022482 0.29628356\n",
            " 0.32381284 0.33539808 0.34801565 0.36246852 0.35891261 0.38885067\n",
            " 0.37348021 0.3558156  0.3606332  0.34067451 0.35042444 0.32266581\n",
            " 0.32312463 0.33883919 0.35638907 0.35191558 0.35960089 0.34629504\n",
            " 0.37095669 0.36682729 0.36625373 0.34709798 0.34985088 0.34033041\n",
            " 0.34583621 0.33344803 0.32553344 0.32564816 0.35455383 0.34262448\n",
            " 0.33723332 0.34273922 0.34755681 0.32736867 0.32840107 0.38323005\n",
            " 0.34044506 0.31578351 0.30328059 0.31532467 0.29582474 0.30614822\n",
            " 0.31337462 0.31738937 0.33780688 0.34583621 0.32105993 0.2922689\n",
            " 0.29525126 0.27598079 0.26749253 0.27735719 0.30924531 0.30018359\n",
            " 0.30855702 0.30190409 0.29593947 0.31245704 0.31199821 0.33608629\n",
            " 0.42119761 0.37875664 0.37210372 0.34790091 0.35753619 0.34549211\n",
            " 0.35742146 0.35271851 0.25923384 0.23273688 0.24076629 0.24351919\n",
            " 0.24050364 0.23930649 0.24080375 0.24327391 0.24614637 0.24920002\n",
            " 0.25233328 0.25550303 0.25870079]\n",
            "9 day output [[0.2619375]]\n",
            "10 day input [0.31773347 0.30167473 0.28263371 0.24833679 0.27827486 0.25716913\n",
            " 0.28653364 0.29823354 0.27265432 0.28596008 0.2915807  0.26164264\n",
            " 0.26313377 0.24019273 0.27047489 0.28022482 0.29628356 0.32381284\n",
            " 0.33539808 0.34801565 0.36246852 0.35891261 0.38885067 0.37348021\n",
            " 0.3558156  0.3606332  0.34067451 0.35042444 0.32266581 0.32312463\n",
            " 0.33883919 0.35638907 0.35191558 0.35960089 0.34629504 0.37095669\n",
            " 0.36682729 0.36625373 0.34709798 0.34985088 0.34033041 0.34583621\n",
            " 0.33344803 0.32553344 0.32564816 0.35455383 0.34262448 0.33723332\n",
            " 0.34273922 0.34755681 0.32736867 0.32840107 0.38323005 0.34044506\n",
            " 0.31578351 0.30328059 0.31532467 0.29582474 0.30614822 0.31337462\n",
            " 0.31738937 0.33780688 0.34583621 0.32105993 0.2922689  0.29525126\n",
            " 0.27598079 0.26749253 0.27735719 0.30924531 0.30018359 0.30855702\n",
            " 0.30190409 0.29593947 0.31245704 0.31199821 0.33608629 0.42119761\n",
            " 0.37875664 0.37210372 0.34790091 0.35753619 0.34549211 0.35742146\n",
            " 0.35271851 0.25923384 0.23273688 0.24076629 0.24351919 0.24050364\n",
            " 0.23930649 0.24080375 0.24327391 0.24614637 0.24920002 0.25233328\n",
            " 0.25550303 0.25870079 0.2619375 ]\n",
            "10 day output [[0.2652315]]\n",
            "11 day input [0.30167473 0.28263371 0.24833679 0.27827486 0.25716913 0.28653364\n",
            " 0.29823354 0.27265432 0.28596008 0.2915807  0.26164264 0.26313377\n",
            " 0.24019273 0.27047489 0.28022482 0.29628356 0.32381284 0.33539808\n",
            " 0.34801565 0.36246852 0.35891261 0.38885067 0.37348021 0.3558156\n",
            " 0.3606332  0.34067451 0.35042444 0.32266581 0.32312463 0.33883919\n",
            " 0.35638907 0.35191558 0.35960089 0.34629504 0.37095669 0.36682729\n",
            " 0.36625373 0.34709798 0.34985088 0.34033041 0.34583621 0.33344803\n",
            " 0.32553344 0.32564816 0.35455383 0.34262448 0.33723332 0.34273922\n",
            " 0.34755681 0.32736867 0.32840107 0.38323005 0.34044506 0.31578351\n",
            " 0.30328059 0.31532467 0.29582474 0.30614822 0.31337462 0.31738937\n",
            " 0.33780688 0.34583621 0.32105993 0.2922689  0.29525126 0.27598079\n",
            " 0.26749253 0.27735719 0.30924531 0.30018359 0.30855702 0.30190409\n",
            " 0.29593947 0.31245704 0.31199821 0.33608629 0.42119761 0.37875664\n",
            " 0.37210372 0.34790091 0.35753619 0.34549211 0.35742146 0.35271851\n",
            " 0.25923384 0.23273688 0.24076629 0.24351919 0.24050364 0.23930649\n",
            " 0.24080375 0.24327391 0.24614637 0.24920002 0.25233328 0.25550303\n",
            " 0.25870079 0.2619375  0.26523149]\n",
            "11 day output [[0.26859975]]\n",
            "12 day input [0.28263371 0.24833679 0.27827486 0.25716913 0.28653364 0.29823354\n",
            " 0.27265432 0.28596008 0.2915807  0.26164264 0.26313377 0.24019273\n",
            " 0.27047489 0.28022482 0.29628356 0.32381284 0.33539808 0.34801565\n",
            " 0.36246852 0.35891261 0.38885067 0.37348021 0.3558156  0.3606332\n",
            " 0.34067451 0.35042444 0.32266581 0.32312463 0.33883919 0.35638907\n",
            " 0.35191558 0.35960089 0.34629504 0.37095669 0.36682729 0.36625373\n",
            " 0.34709798 0.34985088 0.34033041 0.34583621 0.33344803 0.32553344\n",
            " 0.32564816 0.35455383 0.34262448 0.33723332 0.34273922 0.34755681\n",
            " 0.32736867 0.32840107 0.38323005 0.34044506 0.31578351 0.30328059\n",
            " 0.31532467 0.29582474 0.30614822 0.31337462 0.31738937 0.33780688\n",
            " 0.34583621 0.32105993 0.2922689  0.29525126 0.27598079 0.26749253\n",
            " 0.27735719 0.30924531 0.30018359 0.30855702 0.30190409 0.29593947\n",
            " 0.31245704 0.31199821 0.33608629 0.42119761 0.37875664 0.37210372\n",
            " 0.34790091 0.35753619 0.34549211 0.35742146 0.35271851 0.25923384\n",
            " 0.23273688 0.24076629 0.24351919 0.24050364 0.23930649 0.24080375\n",
            " 0.24327391 0.24614637 0.24920002 0.25233328 0.25550303 0.25870079\n",
            " 0.2619375  0.26523149 0.26859975]\n",
            "12 day output [[0.27205262]]\n",
            "13 day input [0.24833679 0.27827486 0.25716913 0.28653364 0.29823354 0.27265432\n",
            " 0.28596008 0.2915807  0.26164264 0.26313377 0.24019273 0.27047489\n",
            " 0.28022482 0.29628356 0.32381284 0.33539808 0.34801565 0.36246852\n",
            " 0.35891261 0.38885067 0.37348021 0.3558156  0.3606332  0.34067451\n",
            " 0.35042444 0.32266581 0.32312463 0.33883919 0.35638907 0.35191558\n",
            " 0.35960089 0.34629504 0.37095669 0.36682729 0.36625373 0.34709798\n",
            " 0.34985088 0.34033041 0.34583621 0.33344803 0.32553344 0.32564816\n",
            " 0.35455383 0.34262448 0.33723332 0.34273922 0.34755681 0.32736867\n",
            " 0.32840107 0.38323005 0.34044506 0.31578351 0.30328059 0.31532467\n",
            " 0.29582474 0.30614822 0.31337462 0.31738937 0.33780688 0.34583621\n",
            " 0.32105993 0.2922689  0.29525126 0.27598079 0.26749253 0.27735719\n",
            " 0.30924531 0.30018359 0.30855702 0.30190409 0.29593947 0.31245704\n",
            " 0.31199821 0.33608629 0.42119761 0.37875664 0.37210372 0.34790091\n",
            " 0.35753619 0.34549211 0.35742146 0.35271851 0.25923384 0.23273688\n",
            " 0.24076629 0.24351919 0.24050364 0.23930649 0.24080375 0.24327391\n",
            " 0.24614637 0.24920002 0.25233328 0.25550303 0.25870079 0.2619375\n",
            " 0.26523149 0.26859975 0.27205262]\n",
            "13 day output [[0.2755909]]\n",
            "14 day input [0.27827486 0.25716913 0.28653364 0.29823354 0.27265432 0.28596008\n",
            " 0.2915807  0.26164264 0.26313377 0.24019273 0.27047489 0.28022482\n",
            " 0.29628356 0.32381284 0.33539808 0.34801565 0.36246852 0.35891261\n",
            " 0.38885067 0.37348021 0.3558156  0.3606332  0.34067451 0.35042444\n",
            " 0.32266581 0.32312463 0.33883919 0.35638907 0.35191558 0.35960089\n",
            " 0.34629504 0.37095669 0.36682729 0.36625373 0.34709798 0.34985088\n",
            " 0.34033041 0.34583621 0.33344803 0.32553344 0.32564816 0.35455383\n",
            " 0.34262448 0.33723332 0.34273922 0.34755681 0.32736867 0.32840107\n",
            " 0.38323005 0.34044506 0.31578351 0.30328059 0.31532467 0.29582474\n",
            " 0.30614822 0.31337462 0.31738937 0.33780688 0.34583621 0.32105993\n",
            " 0.2922689  0.29525126 0.27598079 0.26749253 0.27735719 0.30924531\n",
            " 0.30018359 0.30855702 0.30190409 0.29593947 0.31245704 0.31199821\n",
            " 0.33608629 0.42119761 0.37875664 0.37210372 0.34790091 0.35753619\n",
            " 0.34549211 0.35742146 0.35271851 0.25923384 0.23273688 0.24076629\n",
            " 0.24351919 0.24050364 0.23930649 0.24080375 0.24327391 0.24614637\n",
            " 0.24920002 0.25233328 0.25550303 0.25870079 0.2619375  0.26523149\n",
            " 0.26859975 0.27205262 0.2755909 ]\n",
            "14 day output [[0.27920508]]\n",
            "15 day input [0.25716913 0.28653364 0.29823354 0.27265432 0.28596008 0.2915807\n",
            " 0.26164264 0.26313377 0.24019273 0.27047489 0.28022482 0.29628356\n",
            " 0.32381284 0.33539808 0.34801565 0.36246852 0.35891261 0.38885067\n",
            " 0.37348021 0.3558156  0.3606332  0.34067451 0.35042444 0.32266581\n",
            " 0.32312463 0.33883919 0.35638907 0.35191558 0.35960089 0.34629504\n",
            " 0.37095669 0.36682729 0.36625373 0.34709798 0.34985088 0.34033041\n",
            " 0.34583621 0.33344803 0.32553344 0.32564816 0.35455383 0.34262448\n",
            " 0.33723332 0.34273922 0.34755681 0.32736867 0.32840107 0.38323005\n",
            " 0.34044506 0.31578351 0.30328059 0.31532467 0.29582474 0.30614822\n",
            " 0.31337462 0.31738937 0.33780688 0.34583621 0.32105993 0.2922689\n",
            " 0.29525126 0.27598079 0.26749253 0.27735719 0.30924531 0.30018359\n",
            " 0.30855702 0.30190409 0.29593947 0.31245704 0.31199821 0.33608629\n",
            " 0.42119761 0.37875664 0.37210372 0.34790091 0.35753619 0.34549211\n",
            " 0.35742146 0.35271851 0.25923384 0.23273688 0.24076629 0.24351919\n",
            " 0.24050364 0.23930649 0.24080375 0.24327391 0.24614637 0.24920002\n",
            " 0.25233328 0.25550303 0.25870079 0.2619375  0.26523149 0.26859975\n",
            " 0.27205262 0.2755909  0.27920508]\n",
            "15 day output [[0.28287613]]\n",
            "16 day input [0.28653364 0.29823354 0.27265432 0.28596008 0.2915807  0.26164264\n",
            " 0.26313377 0.24019273 0.27047489 0.28022482 0.29628356 0.32381284\n",
            " 0.33539808 0.34801565 0.36246852 0.35891261 0.38885067 0.37348021\n",
            " 0.3558156  0.3606332  0.34067451 0.35042444 0.32266581 0.32312463\n",
            " 0.33883919 0.35638907 0.35191558 0.35960089 0.34629504 0.37095669\n",
            " 0.36682729 0.36625373 0.34709798 0.34985088 0.34033041 0.34583621\n",
            " 0.33344803 0.32553344 0.32564816 0.35455383 0.34262448 0.33723332\n",
            " 0.34273922 0.34755681 0.32736867 0.32840107 0.38323005 0.34044506\n",
            " 0.31578351 0.30328059 0.31532467 0.29582474 0.30614822 0.31337462\n",
            " 0.31738937 0.33780688 0.34583621 0.32105993 0.2922689  0.29525126\n",
            " 0.27598079 0.26749253 0.27735719 0.30924531 0.30018359 0.30855702\n",
            " 0.30190409 0.29593947 0.31245704 0.31199821 0.33608629 0.42119761\n",
            " 0.37875664 0.37210372 0.34790091 0.35753619 0.34549211 0.35742146\n",
            " 0.35271851 0.25923384 0.23273688 0.24076629 0.24351919 0.24050364\n",
            " 0.23930649 0.24080375 0.24327391 0.24614637 0.24920002 0.25233328\n",
            " 0.25550303 0.25870079 0.2619375  0.26523149 0.26859975 0.27205262\n",
            " 0.2755909  0.27920508 0.28287613]\n",
            "16 day output [[0.286577]]\n",
            "17 day input [0.29823354 0.27265432 0.28596008 0.2915807  0.26164264 0.26313377\n",
            " 0.24019273 0.27047489 0.28022482 0.29628356 0.32381284 0.33539808\n",
            " 0.34801565 0.36246852 0.35891261 0.38885067 0.37348021 0.3558156\n",
            " 0.3606332  0.34067451 0.35042444 0.32266581 0.32312463 0.33883919\n",
            " 0.35638907 0.35191558 0.35960089 0.34629504 0.37095669 0.36682729\n",
            " 0.36625373 0.34709798 0.34985088 0.34033041 0.34583621 0.33344803\n",
            " 0.32553344 0.32564816 0.35455383 0.34262448 0.33723332 0.34273922\n",
            " 0.34755681 0.32736867 0.32840107 0.38323005 0.34044506 0.31578351\n",
            " 0.30328059 0.31532467 0.29582474 0.30614822 0.31337462 0.31738937\n",
            " 0.33780688 0.34583621 0.32105993 0.2922689  0.29525126 0.27598079\n",
            " 0.26749253 0.27735719 0.30924531 0.30018359 0.30855702 0.30190409\n",
            " 0.29593947 0.31245704 0.31199821 0.33608629 0.42119761 0.37875664\n",
            " 0.37210372 0.34790091 0.35753619 0.34549211 0.35742146 0.35271851\n",
            " 0.25923384 0.23273688 0.24076629 0.24351919 0.24050364 0.23930649\n",
            " 0.24080375 0.24327391 0.24614637 0.24920002 0.25233328 0.25550303\n",
            " 0.25870079 0.2619375  0.26523149 0.26859975 0.27205262 0.2755909\n",
            " 0.27920508 0.28287613 0.28657699]\n",
            "17 day output [[0.29027486]]\n",
            "18 day input [0.27265432 0.28596008 0.2915807  0.26164264 0.26313377 0.24019273\n",
            " 0.27047489 0.28022482 0.29628356 0.32381284 0.33539808 0.34801565\n",
            " 0.36246852 0.35891261 0.38885067 0.37348021 0.3558156  0.3606332\n",
            " 0.34067451 0.35042444 0.32266581 0.32312463 0.33883919 0.35638907\n",
            " 0.35191558 0.35960089 0.34629504 0.37095669 0.36682729 0.36625373\n",
            " 0.34709798 0.34985088 0.34033041 0.34583621 0.33344803 0.32553344\n",
            " 0.32564816 0.35455383 0.34262448 0.33723332 0.34273922 0.34755681\n",
            " 0.32736867 0.32840107 0.38323005 0.34044506 0.31578351 0.30328059\n",
            " 0.31532467 0.29582474 0.30614822 0.31337462 0.31738937 0.33780688\n",
            " 0.34583621 0.32105993 0.2922689  0.29525126 0.27598079 0.26749253\n",
            " 0.27735719 0.30924531 0.30018359 0.30855702 0.30190409 0.29593947\n",
            " 0.31245704 0.31199821 0.33608629 0.42119761 0.37875664 0.37210372\n",
            " 0.34790091 0.35753619 0.34549211 0.35742146 0.35271851 0.25923384\n",
            " 0.23273688 0.24076629 0.24351919 0.24050364 0.23930649 0.24080375\n",
            " 0.24327391 0.24614637 0.24920002 0.25233328 0.25550303 0.25870079\n",
            " 0.2619375  0.26523149 0.26859975 0.27205262 0.2755909  0.27920508\n",
            " 0.28287613 0.28657699 0.29027486]\n",
            "18 day output [[0.29393372]]\n",
            "19 day input [0.28596008 0.2915807  0.26164264 0.26313377 0.24019273 0.27047489\n",
            " 0.28022482 0.29628356 0.32381284 0.33539808 0.34801565 0.36246852\n",
            " 0.35891261 0.38885067 0.37348021 0.3558156  0.3606332  0.34067451\n",
            " 0.35042444 0.32266581 0.32312463 0.33883919 0.35638907 0.35191558\n",
            " 0.35960089 0.34629504 0.37095669 0.36682729 0.36625373 0.34709798\n",
            " 0.34985088 0.34033041 0.34583621 0.33344803 0.32553344 0.32564816\n",
            " 0.35455383 0.34262448 0.33723332 0.34273922 0.34755681 0.32736867\n",
            " 0.32840107 0.38323005 0.34044506 0.31578351 0.30328059 0.31532467\n",
            " 0.29582474 0.30614822 0.31337462 0.31738937 0.33780688 0.34583621\n",
            " 0.32105993 0.2922689  0.29525126 0.27598079 0.26749253 0.27735719\n",
            " 0.30924531 0.30018359 0.30855702 0.30190409 0.29593947 0.31245704\n",
            " 0.31199821 0.33608629 0.42119761 0.37875664 0.37210372 0.34790091\n",
            " 0.35753619 0.34549211 0.35742146 0.35271851 0.25923384 0.23273688\n",
            " 0.24076629 0.24351919 0.24050364 0.23930649 0.24080375 0.24327391\n",
            " 0.24614637 0.24920002 0.25233328 0.25550303 0.25870079 0.2619375\n",
            " 0.26523149 0.26859975 0.27205262 0.2755909  0.27920508 0.28287613\n",
            " 0.28657699 0.29027486 0.29393372]\n",
            "19 day output [[0.29751652]]\n",
            "20 day input [0.2915807  0.26164264 0.26313377 0.24019273 0.27047489 0.28022482\n",
            " 0.29628356 0.32381284 0.33539808 0.34801565 0.36246852 0.35891261\n",
            " 0.38885067 0.37348021 0.3558156  0.3606332  0.34067451 0.35042444\n",
            " 0.32266581 0.32312463 0.33883919 0.35638907 0.35191558 0.35960089\n",
            " 0.34629504 0.37095669 0.36682729 0.36625373 0.34709798 0.34985088\n",
            " 0.34033041 0.34583621 0.33344803 0.32553344 0.32564816 0.35455383\n",
            " 0.34262448 0.33723332 0.34273922 0.34755681 0.32736867 0.32840107\n",
            " 0.38323005 0.34044506 0.31578351 0.30328059 0.31532467 0.29582474\n",
            " 0.30614822 0.31337462 0.31738937 0.33780688 0.34583621 0.32105993\n",
            " 0.2922689  0.29525126 0.27598079 0.26749253 0.27735719 0.30924531\n",
            " 0.30018359 0.30855702 0.30190409 0.29593947 0.31245704 0.31199821\n",
            " 0.33608629 0.42119761 0.37875664 0.37210372 0.34790091 0.35753619\n",
            " 0.34549211 0.35742146 0.35271851 0.25923384 0.23273688 0.24076629\n",
            " 0.24351919 0.24050364 0.23930649 0.24080375 0.24327391 0.24614637\n",
            " 0.24920002 0.25233328 0.25550303 0.25870079 0.2619375  0.26523149\n",
            " 0.26859975 0.27205262 0.2755909  0.27920508 0.28287613 0.28657699\n",
            " 0.29027486 0.29393372 0.29751652]\n",
            "20 day output [[0.30098757]]\n",
            "21 day input [0.26164264 0.26313377 0.24019273 0.27047489 0.28022482 0.29628356\n",
            " 0.32381284 0.33539808 0.34801565 0.36246852 0.35891261 0.38885067\n",
            " 0.37348021 0.3558156  0.3606332  0.34067451 0.35042444 0.32266581\n",
            " 0.32312463 0.33883919 0.35638907 0.35191558 0.35960089 0.34629504\n",
            " 0.37095669 0.36682729 0.36625373 0.34709798 0.34985088 0.34033041\n",
            " 0.34583621 0.33344803 0.32553344 0.32564816 0.35455383 0.34262448\n",
            " 0.33723332 0.34273922 0.34755681 0.32736867 0.32840107 0.38323005\n",
            " 0.34044506 0.31578351 0.30328059 0.31532467 0.29582474 0.30614822\n",
            " 0.31337462 0.31738937 0.33780688 0.34583621 0.32105993 0.2922689\n",
            " 0.29525126 0.27598079 0.26749253 0.27735719 0.30924531 0.30018359\n",
            " 0.30855702 0.30190409 0.29593947 0.31245704 0.31199821 0.33608629\n",
            " 0.42119761 0.37875664 0.37210372 0.34790091 0.35753619 0.34549211\n",
            " 0.35742146 0.35271851 0.25923384 0.23273688 0.24076629 0.24351919\n",
            " 0.24050364 0.23930649 0.24080375 0.24327391 0.24614637 0.24920002\n",
            " 0.25233328 0.25550303 0.25870079 0.2619375  0.26523149 0.26859975\n",
            " 0.27205262 0.2755909  0.27920508 0.28287613 0.28657699 0.29027486\n",
            " 0.29393372 0.29751652 0.30098757]\n",
            "21 day output [[0.30431426]]\n",
            "22 day input [0.26313377 0.24019273 0.27047489 0.28022482 0.29628356 0.32381284\n",
            " 0.33539808 0.34801565 0.36246852 0.35891261 0.38885067 0.37348021\n",
            " 0.3558156  0.3606332  0.34067451 0.35042444 0.32266581 0.32312463\n",
            " 0.33883919 0.35638907 0.35191558 0.35960089 0.34629504 0.37095669\n",
            " 0.36682729 0.36625373 0.34709798 0.34985088 0.34033041 0.34583621\n",
            " 0.33344803 0.32553344 0.32564816 0.35455383 0.34262448 0.33723332\n",
            " 0.34273922 0.34755681 0.32736867 0.32840107 0.38323005 0.34044506\n",
            " 0.31578351 0.30328059 0.31532467 0.29582474 0.30614822 0.31337462\n",
            " 0.31738937 0.33780688 0.34583621 0.32105993 0.2922689  0.29525126\n",
            " 0.27598079 0.26749253 0.27735719 0.30924531 0.30018359 0.30855702\n",
            " 0.30190409 0.29593947 0.31245704 0.31199821 0.33608629 0.42119761\n",
            " 0.37875664 0.37210372 0.34790091 0.35753619 0.34549211 0.35742146\n",
            " 0.35271851 0.25923384 0.23273688 0.24076629 0.24351919 0.24050364\n",
            " 0.23930649 0.24080375 0.24327391 0.24614637 0.24920002 0.25233328\n",
            " 0.25550303 0.25870079 0.2619375  0.26523149 0.26859975 0.27205262\n",
            " 0.2755909  0.27920508 0.28287613 0.28657699 0.29027486 0.29393372\n",
            " 0.29751652 0.30098757 0.30431426]\n",
            "22 day output [[0.30746832]]\n",
            "23 day input [0.24019273 0.27047489 0.28022482 0.29628356 0.32381284 0.33539808\n",
            " 0.34801565 0.36246852 0.35891261 0.38885067 0.37348021 0.3558156\n",
            " 0.3606332  0.34067451 0.35042444 0.32266581 0.32312463 0.33883919\n",
            " 0.35638907 0.35191558 0.35960089 0.34629504 0.37095669 0.36682729\n",
            " 0.36625373 0.34709798 0.34985088 0.34033041 0.34583621 0.33344803\n",
            " 0.32553344 0.32564816 0.35455383 0.34262448 0.33723332 0.34273922\n",
            " 0.34755681 0.32736867 0.32840107 0.38323005 0.34044506 0.31578351\n",
            " 0.30328059 0.31532467 0.29582474 0.30614822 0.31337462 0.31738937\n",
            " 0.33780688 0.34583621 0.32105993 0.2922689  0.29525126 0.27598079\n",
            " 0.26749253 0.27735719 0.30924531 0.30018359 0.30855702 0.30190409\n",
            " 0.29593947 0.31245704 0.31199821 0.33608629 0.42119761 0.37875664\n",
            " 0.37210372 0.34790091 0.35753619 0.34549211 0.35742146 0.35271851\n",
            " 0.25923384 0.23273688 0.24076629 0.24351919 0.24050364 0.23930649\n",
            " 0.24080375 0.24327391 0.24614637 0.24920002 0.25233328 0.25550303\n",
            " 0.25870079 0.2619375  0.26523149 0.26859975 0.27205262 0.2755909\n",
            " 0.27920508 0.28287613 0.28657699 0.29027486 0.29393372 0.29751652\n",
            " 0.30098757 0.30431426 0.30746832]\n",
            "23 day output [[0.31042716]]\n",
            "24 day input [0.27047489 0.28022482 0.29628356 0.32381284 0.33539808 0.34801565\n",
            " 0.36246852 0.35891261 0.38885067 0.37348021 0.3558156  0.3606332\n",
            " 0.34067451 0.35042444 0.32266581 0.32312463 0.33883919 0.35638907\n",
            " 0.35191558 0.35960089 0.34629504 0.37095669 0.36682729 0.36625373\n",
            " 0.34709798 0.34985088 0.34033041 0.34583621 0.33344803 0.32553344\n",
            " 0.32564816 0.35455383 0.34262448 0.33723332 0.34273922 0.34755681\n",
            " 0.32736867 0.32840107 0.38323005 0.34044506 0.31578351 0.30328059\n",
            " 0.31532467 0.29582474 0.30614822 0.31337462 0.31738937 0.33780688\n",
            " 0.34583621 0.32105993 0.2922689  0.29525126 0.27598079 0.26749253\n",
            " 0.27735719 0.30924531 0.30018359 0.30855702 0.30190409 0.29593947\n",
            " 0.31245704 0.31199821 0.33608629 0.42119761 0.37875664 0.37210372\n",
            " 0.34790091 0.35753619 0.34549211 0.35742146 0.35271851 0.25923384\n",
            " 0.23273688 0.24076629 0.24351919 0.24050364 0.23930649 0.24080375\n",
            " 0.24327391 0.24614637 0.24920002 0.25233328 0.25550303 0.25870079\n",
            " 0.2619375  0.26523149 0.26859975 0.27205262 0.2755909  0.27920508\n",
            " 0.28287613 0.28657699 0.29027486 0.29393372 0.29751652 0.30098757\n",
            " 0.30431426 0.30746832 0.31042716]\n",
            "24 day output [[0.31317437]]\n",
            "25 day input [0.28022482 0.29628356 0.32381284 0.33539808 0.34801565 0.36246852\n",
            " 0.35891261 0.38885067 0.37348021 0.3558156  0.3606332  0.34067451\n",
            " 0.35042444 0.32266581 0.32312463 0.33883919 0.35638907 0.35191558\n",
            " 0.35960089 0.34629504 0.37095669 0.36682729 0.36625373 0.34709798\n",
            " 0.34985088 0.34033041 0.34583621 0.33344803 0.32553344 0.32564816\n",
            " 0.35455383 0.34262448 0.33723332 0.34273922 0.34755681 0.32736867\n",
            " 0.32840107 0.38323005 0.34044506 0.31578351 0.30328059 0.31532467\n",
            " 0.29582474 0.30614822 0.31337462 0.31738937 0.33780688 0.34583621\n",
            " 0.32105993 0.2922689  0.29525126 0.27598079 0.26749253 0.27735719\n",
            " 0.30924531 0.30018359 0.30855702 0.30190409 0.29593947 0.31245704\n",
            " 0.31199821 0.33608629 0.42119761 0.37875664 0.37210372 0.34790091\n",
            " 0.35753619 0.34549211 0.35742146 0.35271851 0.25923384 0.23273688\n",
            " 0.24076629 0.24351919 0.24050364 0.23930649 0.24080375 0.24327391\n",
            " 0.24614637 0.24920002 0.25233328 0.25550303 0.25870079 0.2619375\n",
            " 0.26523149 0.26859975 0.27205262 0.2755909  0.27920508 0.28287613\n",
            " 0.28657699 0.29027486 0.29393372 0.29751652 0.30098757 0.30431426\n",
            " 0.30746832 0.31042716 0.31317437]\n",
            "25 day output [[0.3156996]]\n",
            "26 day input [0.29628356 0.32381284 0.33539808 0.34801565 0.36246852 0.35891261\n",
            " 0.38885067 0.37348021 0.3558156  0.3606332  0.34067451 0.35042444\n",
            " 0.32266581 0.32312463 0.33883919 0.35638907 0.35191558 0.35960089\n",
            " 0.34629504 0.37095669 0.36682729 0.36625373 0.34709798 0.34985088\n",
            " 0.34033041 0.34583621 0.33344803 0.32553344 0.32564816 0.35455383\n",
            " 0.34262448 0.33723332 0.34273922 0.34755681 0.32736867 0.32840107\n",
            " 0.38323005 0.34044506 0.31578351 0.30328059 0.31532467 0.29582474\n",
            " 0.30614822 0.31337462 0.31738937 0.33780688 0.34583621 0.32105993\n",
            " 0.2922689  0.29525126 0.27598079 0.26749253 0.27735719 0.30924531\n",
            " 0.30018359 0.30855702 0.30190409 0.29593947 0.31245704 0.31199821\n",
            " 0.33608629 0.42119761 0.37875664 0.37210372 0.34790091 0.35753619\n",
            " 0.34549211 0.35742146 0.35271851 0.25923384 0.23273688 0.24076629\n",
            " 0.24351919 0.24050364 0.23930649 0.24080375 0.24327391 0.24614637\n",
            " 0.24920002 0.25233328 0.25550303 0.25870079 0.2619375  0.26523149\n",
            " 0.26859975 0.27205262 0.2755909  0.27920508 0.28287613 0.28657699\n",
            " 0.29027486 0.29393372 0.29751652 0.30098757 0.30431426 0.30746832\n",
            " 0.31042716 0.31317437 0.31569961]\n",
            "26 day output [[0.3179988]]\n",
            "27 day input [0.32381284 0.33539808 0.34801565 0.36246852 0.35891261 0.38885067\n",
            " 0.37348021 0.3558156  0.3606332  0.34067451 0.35042444 0.32266581\n",
            " 0.32312463 0.33883919 0.35638907 0.35191558 0.35960089 0.34629504\n",
            " 0.37095669 0.36682729 0.36625373 0.34709798 0.34985088 0.34033041\n",
            " 0.34583621 0.33344803 0.32553344 0.32564816 0.35455383 0.34262448\n",
            " 0.33723332 0.34273922 0.34755681 0.32736867 0.32840107 0.38323005\n",
            " 0.34044506 0.31578351 0.30328059 0.31532467 0.29582474 0.30614822\n",
            " 0.31337462 0.31738937 0.33780688 0.34583621 0.32105993 0.2922689\n",
            " 0.29525126 0.27598079 0.26749253 0.27735719 0.30924531 0.30018359\n",
            " 0.30855702 0.30190409 0.29593947 0.31245704 0.31199821 0.33608629\n",
            " 0.42119761 0.37875664 0.37210372 0.34790091 0.35753619 0.34549211\n",
            " 0.35742146 0.35271851 0.25923384 0.23273688 0.24076629 0.24351919\n",
            " 0.24050364 0.23930649 0.24080375 0.24327391 0.24614637 0.24920002\n",
            " 0.25233328 0.25550303 0.25870079 0.2619375  0.26523149 0.26859975\n",
            " 0.27205262 0.2755909  0.27920508 0.28287613 0.28657699 0.29027486\n",
            " 0.29393372 0.29751652 0.30098757 0.30431426 0.30746832 0.31042716\n",
            " 0.31317437 0.31569961 0.3179988 ]\n",
            "27 day output [[0.3200734]]\n",
            "28 day input [0.33539808 0.34801565 0.36246852 0.35891261 0.38885067 0.37348021\n",
            " 0.3558156  0.3606332  0.34067451 0.35042444 0.32266581 0.32312463\n",
            " 0.33883919 0.35638907 0.35191558 0.35960089 0.34629504 0.37095669\n",
            " 0.36682729 0.36625373 0.34709798 0.34985088 0.34033041 0.34583621\n",
            " 0.33344803 0.32553344 0.32564816 0.35455383 0.34262448 0.33723332\n",
            " 0.34273922 0.34755681 0.32736867 0.32840107 0.38323005 0.34044506\n",
            " 0.31578351 0.30328059 0.31532467 0.29582474 0.30614822 0.31337462\n",
            " 0.31738937 0.33780688 0.34583621 0.32105993 0.2922689  0.29525126\n",
            " 0.27598079 0.26749253 0.27735719 0.30924531 0.30018359 0.30855702\n",
            " 0.30190409 0.29593947 0.31245704 0.31199821 0.33608629 0.42119761\n",
            " 0.37875664 0.37210372 0.34790091 0.35753619 0.34549211 0.35742146\n",
            " 0.35271851 0.25923384 0.23273688 0.24076629 0.24351919 0.24050364\n",
            " 0.23930649 0.24080375 0.24327391 0.24614637 0.24920002 0.25233328\n",
            " 0.25550303 0.25870079 0.2619375  0.26523149 0.26859975 0.27205262\n",
            " 0.2755909  0.27920508 0.28287613 0.28657699 0.29027486 0.29393372\n",
            " 0.29751652 0.30098757 0.30431426 0.30746832 0.31042716 0.31317437\n",
            " 0.31569961 0.3179988  0.3200734 ]\n",
            "28 day output [[0.32192987]]\n",
            "29 day input [0.34801565 0.36246852 0.35891261 0.38885067 0.37348021 0.3558156\n",
            " 0.3606332  0.34067451 0.35042444 0.32266581 0.32312463 0.33883919\n",
            " 0.35638907 0.35191558 0.35960089 0.34629504 0.37095669 0.36682729\n",
            " 0.36625373 0.34709798 0.34985088 0.34033041 0.34583621 0.33344803\n",
            " 0.32553344 0.32564816 0.35455383 0.34262448 0.33723332 0.34273922\n",
            " 0.34755681 0.32736867 0.32840107 0.38323005 0.34044506 0.31578351\n",
            " 0.30328059 0.31532467 0.29582474 0.30614822 0.31337462 0.31738937\n",
            " 0.33780688 0.34583621 0.32105993 0.2922689  0.29525126 0.27598079\n",
            " 0.26749253 0.27735719 0.30924531 0.30018359 0.30855702 0.30190409\n",
            " 0.29593947 0.31245704 0.31199821 0.33608629 0.42119761 0.37875664\n",
            " 0.37210372 0.34790091 0.35753619 0.34549211 0.35742146 0.35271851\n",
            " 0.25923384 0.23273688 0.24076629 0.24351919 0.24050364 0.23930649\n",
            " 0.24080375 0.24327391 0.24614637 0.24920002 0.25233328 0.25550303\n",
            " 0.25870079 0.2619375  0.26523149 0.26859975 0.27205262 0.2755909\n",
            " 0.27920508 0.28287613 0.28657699 0.29027486 0.29393372 0.29751652\n",
            " 0.30098757 0.30431426 0.30746832 0.31042716 0.31317437 0.31569961\n",
            " 0.3179988  0.3200734  0.32192987]\n",
            "29 day output [[0.32357886]]\n",
            "[[0.24050363898277283], [0.2393064945936203], [0.24080374836921692], [0.24327391386032104], [0.24614636600017548], [0.2492000162601471], [0.25233328342437744], [0.2555030286312103], [0.25870078802108765], [0.2619374990463257], [0.26523149013519287], [0.2685997486114502], [0.2720526158809662], [0.2755908966064453], [0.2792050838470459], [0.2828761339187622], [0.2865769863128662], [0.29027485847473145], [0.2939337193965912], [0.29751652479171753], [0.30098757147789], [0.3043142557144165], [0.30746832489967346], [0.31042715907096863], [0.31317436695098877], [0.31569960713386536], [0.3179987967014313], [0.3200733959674835], [0.3219298720359802], [0.3235788643360138]]\n"
          ],
          "name": "stdout"
        }
      ]
    },
    {
      "cell_type": "code",
      "metadata": {
        "id": "8NKju9kY_QNK"
      },
      "source": [
        "day_prev=np.arange(1,101)\n",
        "day_pred=np.arange(101,131)"
      ],
      "execution_count": null,
      "outputs": []
    },
    {
      "cell_type": "code",
      "metadata": {
        "id": "rHGWF9cJ_hiS",
        "colab": {
          "base_uri": "https://localhost:8080/"
        },
        "outputId": "3742daa2-8600-44da-b42e-1c9f2a4ee0d8"
      },
      "source": [
        "len(df)"
      ],
      "execution_count": null,
      "outputs": [
        {
          "output_type": "execute_result",
          "data": {
            "text/plain": [
              "1259"
            ]
          },
          "metadata": {
            "tags": []
          },
          "execution_count": 38
        }
      ]
    },
    {
      "cell_type": "code",
      "metadata": {
        "id": "-jVT3-au_o48",
        "colab": {
          "base_uri": "https://localhost:8080/",
          "height": 282
        },
        "outputId": "6ae7e8ae-c4bd-46d4-86b8-ea75d43aaac3"
      },
      "source": [
        "# visualising the predicted output\n",
        "plt.plot(day_prev,scaler.inverse_transform(df[1159:]))\n",
        "plt.plot(day_pred,scaler.inverse_transform(lst_output))"
      ],
      "execution_count": null,
      "outputs": [
        {
          "output_type": "execute_result",
          "data": {
            "text/plain": [
              "[<matplotlib.lines.Line2D at 0x7f55b0c7a208>]"
            ]
          },
          "metadata": {
            "tags": []
          },
          "execution_count": 39
        },
        {
          "output_type": "display_data",
          "data": {
            "image/png": "[encoded data removed]",
            "text/plain": [
              "<Figure size 432x288 with 1 Axes>"
            ]
          },
          "metadata": {
            "tags": [],
            "needs_background": "light"
          }
        }
      ]
    },
    {
      "cell_type": "code",
      "metadata": {
        "id": "YKa4SeDoEKGN",
        "colab": {
          "base_uri": "https://localhost:8080/",
          "height": 282
        },
        "outputId": "0ebc761f-ac13-476d-ff0e-ae8b4fb60aff"
      },
      "source": [
        "df1=df.tolist()\n",
        "df1.extend(lst_output)\n",
        "plt.plot(df1[1000:])"
      ],
      "execution_count": null,
      "outputs": [
        {
          "output_type": "execute_result",
          "data": {
            "text/plain": [
              "[<matplotlib.lines.Line2D at 0x7f55ae8c02e8>]"
            ]
          },
          "metadata": {
            "tags": []
          },
          "execution_count": 40
        },
        {
          "output_type": "display_data",
          "data": {
            "image/png": "[encoded data removed]",
            "text/plain": [
              "<Figure size 432x288 with 1 Axes>"
            ]
          },
          "metadata": {
            "tags": [],
            "needs_background": "light"
          }
        }
      ]
    },
    {
      "cell_type": "code",
      "metadata": {
        "id": "Xo-npiEBE59V"
      },
      "source": [
        "df1=scaler.inverse_transform(df1).tolist()"
      ],
      "execution_count": null,
      "outputs": []
    },
    {
      "cell_type": "code",
      "metadata": {
        "id": "Su9MHQZbFESo",
        "colab": {
          "base_uri": "https://localhost:8080/",
          "height": 282
        },
        "outputId": "41c15ea5-428a-4d5e-ee95-449633eb6f87"
      },
      "source": [
        "plt.plot(df1)"
      ],
      "execution_count": null,
      "outputs": [
        {
          "output_type": "execute_result",
          "data": {
            "text/plain": [
              "[<matplotlib.lines.Line2D at 0x7f55ae950f28>]"
            ]
          },
          "metadata": {
            "tags": []
          },
          "execution_count": 42
        },
        {
          "output_type": "display_data",
          "data": {
            "image/png": "[encoded data removed]",
            "text/plain": [
              "<Figure size 432x288 with 1 Axes>"
            ]
          },
          "metadata": {
            "tags": [],
            "needs_background": "light"
          }
        }
      ]
    },
    {
      "cell_type": "code",
      "metadata": {
        "id": "Ym-FSNYVVDlz"
      },
      "source": [
        "df1=scaler.inverse_transform(df1)"
      ],
      "execution_count": null,
      "outputs": []
    },
    {
      "cell_type": "code",
      "metadata": {
        "id": "hmzP7I20Fi8h",
        "colab": {
          "base_uri": "https://localhost:8080/"
        },
        "outputId": "91c7e795-8f3e-4757-87b6-064fd13ef2e9"
      },
      "source": [
        "print(df1[1259:])"
      ],
      "execution_count": null,
      "outputs": [
        {
          "output_type": "stream",
          "text": [
            "[[0.66232191]\n",
            " [0.66228484]\n",
            " [0.66233121]\n",
            " [0.66240771]\n",
            " [0.66249667]\n",
            " [0.66259124]\n",
            " [0.66268828]\n",
            " [0.66278645]\n",
            " [0.66288548]\n",
            " [0.66298573]\n",
            " [0.66308774]\n",
            " [0.66319206]\n",
            " [0.66329899]\n",
            " [0.66340857]\n",
            " [0.66352051]\n",
            " [0.6636342 ]\n",
            " [0.66374882]\n",
            " [0.66386334]\n",
            " [0.66397666]\n",
            " [0.66408762]\n",
            " [0.66419512]\n",
            " [0.66429814]\n",
            " [0.66439583]\n",
            " [0.66448746]\n",
            " [0.66457254]\n",
            " [0.66465075]\n",
            " [0.66472196]\n",
            " [0.66478621]\n",
            " [0.6648437 ]\n",
            " [0.66489477]]\n"
          ],
          "name": "stdout"
        }
      ]
    }
  ]
}