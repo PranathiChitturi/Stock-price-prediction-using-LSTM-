{
  "nbformat": 4,
  "nbformat_minor": 0,
  "metadata": {
    "colab": {
      "name": "stockpriceprediction.ipynb",
      "provenance": []
    },
    "kernelspec": {
      "name": "python3",
      "display_name": "Python 3"
    }
  },
  "cells": [
    {
      "cell_type": "code",
      "metadata": {
        "id": "ZrFcsvAlLkzh"
      },
      "source": [
        "#importing pandas and numpy which helps in  reading the data and manipulation of the same\r\n",
        "import pandas as pd \r\n",
        "import numpy as np \r\n"
      ],
      "execution_count": 54,
      "outputs": []
    },
    {
      "cell_type": "code",
      "metadata": {
        "id": "5VuyWo_ILr6V"
      },
      "source": [
        "#uploading the collected data and reading the data \r\n",
        "data=pd.read_csv('/content/IBM (1).csv')"
      ],
      "execution_count": 55,
      "outputs": []
    },
    {
      "cell_type": "code",
      "metadata": {
        "colab": {
          "base_uri": "https://localhost:8080/",
          "height": 195
        },
        "id": "HC3aUf2nMmMC",
        "outputId": "e90fc551-8eaf-4edd-fd88-4658b3a72375"
      },
      "source": [
        "#using head function, displaying the first 5 rows of data\r\n",
        "data.head()"
      ],
      "execution_count": 56,
      "outputs": [
        {
          "output_type": "execute_result",
          "data": {
            "text/html": [
              "<div>\n",
              "<style scoped>\n",
              "    .dataframe tbody tr th:only-of-type {\n",
              "        vertical-align: middle;\n",
              "    }\n",
              "\n",
              "    .dataframe tbody tr th {\n",
              "        vertical-align: top;\n",
              "    }\n",
              "\n",
              "    .dataframe thead th {\n",
              "        text-align: right;\n",
              "    }\n",
              "</style>\n",
              "<table border=\"1\" class=\"dataframe\">\n",
              "  <thead>\n",
              "    <tr style=\"text-align: right;\">\n",
              "      <th></th>\n",
              "      <th>Date</th>\n",
              "      <th>Open</th>\n",
              "      <th>High</th>\n",
              "      <th>Low</th>\n",
              "      <th>Close</th>\n",
              "      <th>Adj Close</th>\n",
              "      <th>Volume</th>\n",
              "    </tr>\n",
              "  </thead>\n",
              "  <tbody>\n",
              "    <tr>\n",
              "      <th>0</th>\n",
              "      <td>2015-10-26</td>\n",
              "      <td>144.750000</td>\n",
              "      <td>145.000000</td>\n",
              "      <td>143.210007</td>\n",
              "      <td>143.660004</td>\n",
              "      <td>115.042992</td>\n",
              "      <td>3489400</td>\n",
              "    </tr>\n",
              "    <tr>\n",
              "      <th>1</th>\n",
              "      <td>2015-10-27</td>\n",
              "      <td>143.509995</td>\n",
              "      <td>143.830002</td>\n",
              "      <td>137.330002</td>\n",
              "      <td>137.860001</td>\n",
              "      <td>110.398384</td>\n",
              "      <td>15008500</td>\n",
              "    </tr>\n",
              "    <tr>\n",
              "      <th>2</th>\n",
              "      <td>2015-10-28</td>\n",
              "      <td>137.919998</td>\n",
              "      <td>141.229996</td>\n",
              "      <td>137.500000</td>\n",
              "      <td>140.830002</td>\n",
              "      <td>112.776749</td>\n",
              "      <td>8511400</td>\n",
              "    </tr>\n",
              "    <tr>\n",
              "      <th>3</th>\n",
              "      <td>2015-10-29</td>\n",
              "      <td>140.360001</td>\n",
              "      <td>140.820007</td>\n",
              "      <td>139.020004</td>\n",
              "      <td>140.550003</td>\n",
              "      <td>112.552536</td>\n",
              "      <td>3710400</td>\n",
              "    </tr>\n",
              "    <tr>\n",
              "      <th>4</th>\n",
              "      <td>2015-10-30</td>\n",
              "      <td>140.440002</td>\n",
              "      <td>141.330002</td>\n",
              "      <td>139.899994</td>\n",
              "      <td>140.080002</td>\n",
              "      <td>112.176132</td>\n",
              "      <td>3984000</td>\n",
              "    </tr>\n",
              "  </tbody>\n",
              "</table>\n",
              "</div>"
            ],
            "text/plain": [
              "         Date        Open        High  ...       Close   Adj Close    Volume\n",
              "0  2015-10-26  144.750000  145.000000  ...  143.660004  115.042992   3489400\n",
              "1  2015-10-27  143.509995  143.830002  ...  137.860001  110.398384  15008500\n",
              "2  2015-10-28  137.919998  141.229996  ...  140.830002  112.776749   8511400\n",
              "3  2015-10-29  140.360001  140.820007  ...  140.550003  112.552536   3710400\n",
              "4  2015-10-30  140.440002  141.330002  ...  140.080002  112.176132   3984000\n",
              "\n",
              "[5 rows x 7 columns]"
            ]
          },
          "metadata": {
            "tags": []
          },
          "execution_count": 56
        }
      ]
    },
    {
      "cell_type": "code",
      "metadata": {
        "colab": {
          "base_uri": "https://localhost:8080/"
        },
        "id": "s6vgxdO2N5IJ",
        "outputId": "1171fcec-483a-4907-a454-f36d6bf545aa"
      },
      "source": [
        "from google.colab import drive\r\n",
        "drive.mount('/content/drive')"
      ],
      "execution_count": 57,
      "outputs": [
        {
          "output_type": "stream",
          "text": [
            "Mounted at /content/drive\n"
          ],
          "name": "stdout"
        }
      ]
    },
    {
      "cell_type": "code",
      "metadata": {
        "colab": {
          "base_uri": "https://localhost:8080/",
          "height": 195
        },
        "id": "meJZRl1WN8rY",
        "outputId": "d2fc81f8-bf8c-4d7b-ec7c-f23c9f9bc48f"
      },
      "source": [
        "#using tail function,displaying the last 5 rows of data\r\n",
        "data.tail() "
      ],
      "execution_count": 58,
      "outputs": [
        {
          "output_type": "execute_result",
          "data": {
            "text/html": [
              "<div>\n",
              "<style scoped>\n",
              "    .dataframe tbody tr th:only-of-type {\n",
              "        vertical-align: middle;\n",
              "    }\n",
              "\n",
              "    .dataframe tbody tr th {\n",
              "        vertical-align: top;\n",
              "    }\n",
              "\n",
              "    .dataframe thead th {\n",
              "        text-align: right;\n",
              "    }\n",
              "</style>\n",
              "<table border=\"1\" class=\"dataframe\">\n",
              "  <thead>\n",
              "    <tr style=\"text-align: right;\">\n",
              "      <th></th>\n",
              "      <th>Date</th>\n",
              "      <th>Open</th>\n",
              "      <th>High</th>\n",
              "      <th>Low</th>\n",
              "      <th>Close</th>\n",
              "      <th>Adj Close</th>\n",
              "      <th>Volume</th>\n",
              "    </tr>\n",
              "  </thead>\n",
              "  <tbody>\n",
              "    <tr>\n",
              "      <th>1254</th>\n",
              "      <td>2020-10-19</td>\n",
              "      <td>126.800003</td>\n",
              "      <td>127.349998</td>\n",
              "      <td>125.080002</td>\n",
              "      <td>125.519997</td>\n",
              "      <td>125.519997</td>\n",
              "      <td>7478700</td>\n",
              "    </tr>\n",
              "    <tr>\n",
              "      <th>1255</th>\n",
              "      <td>2020-10-20</td>\n",
              "      <td>119.800003</td>\n",
              "      <td>120.150002</td>\n",
              "      <td>116.839996</td>\n",
              "      <td>117.370003</td>\n",
              "      <td>117.370003</td>\n",
              "      <td>21501100</td>\n",
              "    </tr>\n",
              "    <tr>\n",
              "      <th>1256</th>\n",
              "      <td>2020-10-21</td>\n",
              "      <td>116.660004</td>\n",
              "      <td>117.690002</td>\n",
              "      <td>114.790001</td>\n",
              "      <td>115.059998</td>\n",
              "      <td>115.059998</td>\n",
              "      <td>9755300</td>\n",
              "    </tr>\n",
              "    <tr>\n",
              "      <th>1257</th>\n",
              "      <td>2020-10-22</td>\n",
              "      <td>115.000000</td>\n",
              "      <td>116.059998</td>\n",
              "      <td>112.980003</td>\n",
              "      <td>115.760002</td>\n",
              "      <td>115.760002</td>\n",
              "      <td>7855800</td>\n",
              "    </tr>\n",
              "    <tr>\n",
              "      <th>1258</th>\n",
              "      <td>2020-10-23</td>\n",
              "      <td>116.500000</td>\n",
              "      <td>116.620003</td>\n",
              "      <td>115.529999</td>\n",
              "      <td>116.000000</td>\n",
              "      <td>116.000000</td>\n",
              "      <td>3890800</td>\n",
              "    </tr>\n",
              "  </tbody>\n",
              "</table>\n",
              "</div>"
            ],
            "text/plain": [
              "            Date        Open        High  ...       Close   Adj Close    Volume\n",
              "1254  2020-10-19  126.800003  127.349998  ...  125.519997  125.519997   7478700\n",
              "1255  2020-10-20  119.800003  120.150002  ...  117.370003  117.370003  21501100\n",
              "1256  2020-10-21  116.660004  117.690002  ...  115.059998  115.059998   9755300\n",
              "1257  2020-10-22  115.000000  116.059998  ...  115.760002  115.760002   7855800\n",
              "1258  2020-10-23  116.500000  116.620003  ...  116.000000  116.000000   3890800\n",
              "\n",
              "[5 rows x 7 columns]"
            ]
          },
          "metadata": {
            "tags": []
          },
          "execution_count": 58
        }
      ]
    },
    {
      "cell_type": "code",
      "metadata": {
        "colab": {
          "base_uri": "https://localhost:8080/"
        },
        "id": "mZ8SwAcpOETm",
        "outputId": "4e2c191e-8366-49d7-fe51-c74e79dc9a80"
      },
      "source": [
        "#displaying the rows \r\n",
        "data.all(axis='rows') "
      ],
      "execution_count": 59,
      "outputs": [
        {
          "output_type": "execute_result",
          "data": {
            "text/plain": [
              "Date         True\n",
              "Open         True\n",
              "High         True\n",
              "Low          True\n",
              "Close        True\n",
              "Adj Close    True\n",
              "Volume       True\n",
              "dtype: bool"
            ]
          },
          "metadata": {
            "tags": []
          },
          "execution_count": 59
        }
      ]
    },
    {
      "cell_type": "code",
      "metadata": {
        "colab": {
          "base_uri": "https://localhost:8080/"
        },
        "id": "6beJaC9COI-h",
        "outputId": "9ff93b88-a037-4a99-eba4-31545d2543c2"
      },
      "source": [
        "# printing the entire dataset\r\n",
        "print(data)"
      ],
      "execution_count": 60,
      "outputs": [
        {
          "output_type": "stream",
          "text": [
            "            Date        Open        High  ...       Close   Adj Close    Volume\n",
            "0     2015-10-26  144.750000  145.000000  ...  143.660004  115.042992   3489400\n",
            "1     2015-10-27  143.509995  143.830002  ...  137.860001  110.398384  15008500\n",
            "2     2015-10-28  137.919998  141.229996  ...  140.830002  112.776749   8511400\n",
            "3     2015-10-29  140.360001  140.820007  ...  140.550003  112.552536   3710400\n",
            "4     2015-10-30  140.440002  141.330002  ...  140.080002  112.176132   3984000\n",
            "...          ...         ...         ...  ...         ...         ...       ...\n",
            "1254  2020-10-19  126.800003  127.349998  ...  125.519997  125.519997   7478700\n",
            "1255  2020-10-20  119.800003  120.150002  ...  117.370003  117.370003  21501100\n",
            "1256  2020-10-21  116.660004  117.690002  ...  115.059998  115.059998   9755300\n",
            "1257  2020-10-22  115.000000  116.059998  ...  115.760002  115.760002   7855800\n",
            "1258  2020-10-23  116.500000  116.620003  ...  116.000000  116.000000   3890800\n",
            "\n",
            "[1259 rows x 7 columns]\n"
          ],
          "name": "stdout"
        }
      ]
    },
    {
      "cell_type": "code",
      "metadata": {
        "colab": {
          "base_uri": "https://localhost:8080/"
        },
        "id": "40ezU4JeOMm-",
        "outputId": "c0235181-f1b3-4c9a-dcb9-e7e10f7929a5"
      },
      "source": [
        "#displaying the rows and columns of the data\r\n",
        "data.shape"
      ],
      "execution_count": 61,
      "outputs": [
        {
          "output_type": "execute_result",
          "data": {
            "text/plain": [
              "(1259, 7)"
            ]
          },
          "metadata": {
            "tags": []
          },
          "execution_count": 61
        }
      ]
    },
    {
      "cell_type": "code",
      "metadata": {
        "colab": {
          "base_uri": "https://localhost:8080/"
        },
        "id": "pU1hSJpeOVZ3",
        "outputId": "6275bddc-68a3-4e24-bc3d-3470b3879276"
      },
      "source": [
        "#reseting the index to 'Close' column and displaying the 'Close' column data\r\n",
        "df=data.reset_index()['Close']\r\n",
        "df.fillna(df.median()) \r\n",
        "print(df)"
      ],
      "execution_count": 62,
      "outputs": [
        {
          "output_type": "stream",
          "text": [
            "0       143.660004\n",
            "1       137.860001\n",
            "2       140.830002\n",
            "3       140.550003\n",
            "4       140.080002\n",
            "           ...    \n",
            "1254    125.519997\n",
            "1255    117.370003\n",
            "1256    115.059998\n",
            "1257    115.760002\n",
            "1258    116.000000\n",
            "Name: Close, Length: 1259, dtype: float64\n"
          ],
          "name": "stdout"
        }
      ]
    },
    {
      "cell_type": "code",
      "metadata": {
        "id": "Foay0NhYOb1F"
      },
      "source": [
        "import matplotlib.pyplot as plt "
      ],
      "execution_count": 63,
      "outputs": []
    },
    {
      "cell_type": "code",
      "metadata": {
        "colab": {
          "base_uri": "https://localhost:8080/",
          "height": 409
        },
        "id": "radfLdQbPAea",
        "outputId": "4ead57cf-8e09-459c-fa83-01e3da5479d6"
      },
      "source": [
        "# using matplotlib, displaying the 'close' column data in the form of graph\r\n",
        "plt.figure(figsize = (12,6))\r\n",
        "plt.title('Close Price History')\r\n",
        "plt.plot(data['Close'])\r\n",
        "plt.xlabel('Data', fontsize = 15)\r\n",
        "plt.ylabel('Close price USD ($)', fontsize = 15)\r\n",
        "plt.show()"
      ],
      "execution_count": 64,
      "outputs": [
        {
          "output_type": "display_data",
          "data": {
            "image/png": "[encoded data removed]",
            "text/plain": [
              "<Figure size 864x432 with 1 Axes>"
            ]
          },
          "metadata": {
            "tags": [],
            "needs_background": "light"
          }
        }
      ]
    },
    {
      "cell_type": "code",
      "metadata": {
        "id": "lVzcb3RGPKs3"
      },
      "source": [
        "#preprocessing the data\r\n",
        "#scaling  the data in the range of 0-1 using a function called MinMaxScaler\r\n",
        "from sklearn.preprocessing import MinMaxScaler   \r\n",
        "scale=MinMaxScaler(feature_range=(0,1))  \r\n",
        "df=scale.fit_transform(np.array(df).reshape(-1,1)) "
      ],
      "execution_count": 65,
      "outputs": []
    },
    {
      "cell_type": "code",
      "metadata": {
        "colab": {
          "base_uri": "https://localhost:8080/"
        },
        "id": "q5GSyOCfPVCU",
        "outputId": "f5b7c41f-a96f-42e8-e4b5-494f34d9027c"
      },
      "source": [
        "#printing the scaled data\r\n",
        "print(df)"
      ],
      "execution_count": 66,
      "outputs": [
        {
          "output_type": "stream",
          "text": [
            "[[0.56079384]\n",
            " [0.49426479]\n",
            " [0.52833224]\n",
            " ...\n",
            " [0.23273688]\n",
            " [0.24076629]\n",
            " [0.24351919]]\n"
          ],
          "name": "stdout"
        }
      ]
    },
    {
      "cell_type": "code",
      "metadata": {
        "id": "rdQI8dZCPX4z"
      },
      "source": [
        "#dividing the entire data set into training and testing data.\r\n",
        "#80% of the dataset as training data set and remaning 20% as testsing data set\r\n",
        "training_size=int(len(df)*0.80)\r\n",
        "test_size=len(df)-training_size\r\n",
        "train_data,test_data=df[0:training_size,:],df[training_size:len(df),:1]"
      ],
      "execution_count": 67,
      "outputs": []
    },
    {
      "cell_type": "code",
      "metadata": {
        "colab": {
          "base_uri": "https://localhost:8080/"
        },
        "id": "0kYQ0441PeQM",
        "outputId": "793e27f3-bb6c-42d8-9bca-4be1c2814d06"
      },
      "source": [
        "#printing the size of training and testing data\r\n",
        "print(training_size,test_size)"
      ],
      "execution_count": 68,
      "outputs": [
        {
          "output_type": "stream",
          "text": [
            "1007 252\n"
          ],
          "name": "stdout"
        }
      ]
    },
    {
      "cell_type": "code",
      "metadata": {
        "colab": {
          "base_uri": "https://localhost:8080/"
        },
        "id": "6sXjGyVlPkGF",
        "outputId": "a02b9561-6142-4be6-b343-8e56381e41c9"
      },
      "source": [
        "print(train_data)"
      ],
      "execution_count": 69,
      "outputs": [
        {
          "output_type": "stream",
          "text": [
            "[[0.56079384]\n",
            " [0.49426479]\n",
            " [0.52833224]\n",
            " ...\n",
            " [0.44952982]\n",
            " [0.45434742]\n",
            " [0.45079158]]\n"
          ],
          "name": "stdout"
        }
      ]
    },
    {
      "cell_type": "code",
      "metadata": {
        "colab": {
          "base_uri": "https://localhost:8080/"
        },
        "id": "9e_j7pwSPoQP",
        "outputId": "e0751213-95f9-4913-b99e-350ee4de557b"
      },
      "source": [
        "print(test_data)"
      ],
      "execution_count": 70,
      "outputs": [
        {
          "output_type": "stream",
          "text": [
            "[[0.46650614]\n",
            " [0.4725855 ]\n",
            " [0.44792395]\n",
            " [0.46432671]\n",
            " [0.44689148]\n",
            " [0.46753845]\n",
            " [0.49208535]\n",
            " [0.49460888]\n",
            " [0.50481764]\n",
            " [0.49231481]\n",
            " [0.49139716]\n",
            " [0.46685024]\n",
            " [0.46822665]\n",
            " [0.45549437]\n",
            " [0.44998856]\n",
            " [0.4545767 ]\n",
            " [0.4535444 ]\n",
            " [0.45595328]\n",
            " [0.44081211]\n",
            " [0.44815323]\n",
            " [0.4538885 ]\n",
            " [0.4725855 ]\n",
            " [0.46249139]\n",
            " [0.44735039]\n",
            " [0.45515026]\n",
            " [0.43748574]\n",
            " [0.42842393]\n",
            " [0.42693287]\n",
            " [0.42601522]\n",
            " [0.44104157]\n",
            " [0.4490709 ]\n",
            " [0.44895626]\n",
            " [0.44723558]\n",
            " [0.46512973]\n",
            " [0.45239745]\n",
            " [0.45147979]\n",
            " [0.45251209]\n",
            " [0.45469152]\n",
            " [0.45641203]\n",
            " [0.46822665]\n",
            " [0.46776791]\n",
            " [0.46122963]\n",
            " [0.46042678]\n",
            " [0.46455617]\n",
            " [0.43633862]\n",
            " [0.4504473 ]\n",
            " [0.46627668]\n",
            " [0.4538885 ]\n",
            " [0.45113568]\n",
            " [0.45216799]\n",
            " [0.46501492]\n",
            " [0.48141785]\n",
            " [0.48084429]\n",
            " [0.47981199]\n",
            " [0.47086499]\n",
            " [0.48004127]\n",
            " [0.49564119]\n",
            " [0.49942649]\n",
            " [0.50929113]\n",
            " [0.563432  ]\n",
            " [0.55173203]\n",
            " [0.52523516]\n",
            " [0.50298231]\n",
            " [0.51364999]\n",
            " [0.49231481]\n",
            " [0.48176195]\n",
            " [0.56159669]\n",
            " [0.5907319 ]\n",
            " [0.62330814]\n",
            " [0.70612532]\n",
            " [0.71105756]\n",
            " [0.67263142]\n",
            " [0.68433122]\n",
            " [0.67343426]\n",
            " [0.69442534]\n",
            " [0.68295482]\n",
            " [0.64154623]\n",
            " [0.64613454]\n",
            " [0.64338156]\n",
            " [0.64751094]\n",
            " [0.63168157]\n",
            " [0.59256706]\n",
            " [0.53842636]\n",
            " [0.51594406]\n",
            " [0.43977981]\n",
            " [0.40582699]\n",
            " [0.45342975]\n",
            " [0.39148884]\n",
            " [0.45251209]\n",
            " [0.39894478]\n",
            " [0.37806843]\n",
            " [0.26428081]\n",
            " [0.34411562]\n",
            " [0.26611613]\n",
            " [0.092223  ]\n",
            " [0.15118146]\n",
            " [0.049438  ]\n",
            " [0.13626984]\n",
            " [0.10071124]\n",
            " [0.06389079]\n",
            " [0.00711175]\n",
            " [0.        ]\n",
            " [0.12284935]\n",
            " [0.12709338]\n",
            " [0.20784586]\n",
            " [0.15209913]\n",
            " [0.20830469]\n",
            " [0.18536365]\n",
            " [0.11894932]\n",
            " [0.17469607]\n",
            " [0.13271391]\n",
            " [0.22998398]\n",
            " [0.23136046]\n",
            " [0.28125721]\n",
            " [0.30660705]\n",
            " [0.3025924 ]\n",
            " [0.33425106]\n",
            " [0.27437491]\n",
            " [0.24042218]\n",
            " [0.29077777]\n",
            " [0.29410423]\n",
            " [0.25223681]\n",
            " [0.28148659]\n",
            " [0.30488645]\n",
            " [0.34354214]\n",
            " [0.35730673]\n",
            " [0.3613214 ]\n",
            " [0.38908012]\n",
            " [0.35317735]\n",
            " [0.31085118]\n",
            " [0.30867175]\n",
            " [0.31899524]\n",
            " [0.3257628 ]\n",
            " [0.30351005]\n",
            " [0.32369811]\n",
            " [0.31910988]\n",
            " [0.29238363]\n",
            " [0.24042218]\n",
            " [0.25441615]\n",
            " [0.25476033]\n",
            " [0.30729526]\n",
            " [0.29272774]\n",
            " [0.30523056]\n",
            " [0.27930725]\n",
            " [0.27093372]\n",
            " [0.30958941]\n",
            " [0.35294797]\n",
            " [0.34136272]\n",
            " [0.34560685]\n",
            " [0.34549211]\n",
            " [0.3582244 ]\n",
            " [0.39320952]\n",
            " [0.39137419]\n",
            " [0.42773573]\n",
            " [0.47006198]\n",
            " [0.4255563 ]\n",
            " [0.40261526]\n",
            " [0.26657496]\n",
            " [0.31131001]\n",
            " [0.30832766]\n",
            " [0.34847448]\n",
            " [0.33700396]\n",
            " [0.33711869]\n",
            " [0.31773347]\n",
            " [0.30167473]\n",
            " [0.28263371]\n",
            " [0.24833679]\n",
            " [0.27827486]\n",
            " [0.25716913]\n",
            " [0.28653364]\n",
            " [0.29823354]\n",
            " [0.27265432]\n",
            " [0.28596008]\n",
            " [0.2915807 ]\n",
            " [0.26164264]\n",
            " [0.26313377]\n",
            " [0.24019273]\n",
            " [0.27047489]\n",
            " [0.28022482]\n",
            " [0.29628356]\n",
            " [0.32381284]\n",
            " [0.33539808]\n",
            " [0.34801565]\n",
            " [0.36246852]\n",
            " [0.35891261]\n",
            " [0.38885067]\n",
            " [0.37348021]\n",
            " [0.3558156 ]\n",
            " [0.3606332 ]\n",
            " [0.34067451]\n",
            " [0.35042444]\n",
            " [0.32266581]\n",
            " [0.32312463]\n",
            " [0.33883919]\n",
            " [0.35638907]\n",
            " [0.35191558]\n",
            " [0.35960089]\n",
            " [0.34629504]\n",
            " [0.37095669]\n",
            " [0.36682729]\n",
            " [0.36625373]\n",
            " [0.34709798]\n",
            " [0.34985088]\n",
            " [0.34033041]\n",
            " [0.34583621]\n",
            " [0.33344803]\n",
            " [0.32553344]\n",
            " [0.32564816]\n",
            " [0.35455383]\n",
            " [0.34262448]\n",
            " [0.33723332]\n",
            " [0.34273922]\n",
            " [0.34755681]\n",
            " [0.32736867]\n",
            " [0.32840107]\n",
            " [0.38323005]\n",
            " [0.34044506]\n",
            " [0.31578351]\n",
            " [0.30328059]\n",
            " [0.31532467]\n",
            " [0.29582474]\n",
            " [0.30614822]\n",
            " [0.31337462]\n",
            " [0.31738937]\n",
            " [0.33780688]\n",
            " [0.34583621]\n",
            " [0.32105993]\n",
            " [0.2922689 ]\n",
            " [0.29525126]\n",
            " [0.27598079]\n",
            " [0.26749253]\n",
            " [0.27735719]\n",
            " [0.30924531]\n",
            " [0.30018359]\n",
            " [0.30855702]\n",
            " [0.30190409]\n",
            " [0.29593947]\n",
            " [0.31245704]\n",
            " [0.31199821]\n",
            " [0.33608629]\n",
            " [0.42119761]\n",
            " [0.37875664]\n",
            " [0.37210372]\n",
            " [0.34790091]\n",
            " [0.35753619]\n",
            " [0.34549211]\n",
            " [0.35742146]\n",
            " [0.35271851]\n",
            " [0.25923384]\n",
            " [0.23273688]\n",
            " [0.24076629]\n",
            " [0.24351919]]\n"
          ],
          "name": "stdout"
        }
      ]
    },
    {
      "cell_type": "code",
      "metadata": {
        "id": "O7Um2T0JPsDK"
      },
      "source": [
        "# convert an array of values into a dataset matrix \r\n",
        "### i=0, 0,1,2,3-----99   100 \r\n",
        "def create_dataset(dataset,time_step):\r\n",
        "\tdataX, dataY = [], []\r\n",
        "\tfor i in range(len(dataset)-time_step-1):     \r\n",
        "\t\ta = dataset[i:(i+time_step),0]    \r\n",
        "\t\tdataX.append(a)\r\n",
        "\t\tdataY.append(dataset[i + time_step,0])\r\n",
        "\treturn np.array(dataX), np.array(dataY)"
      ],
      "execution_count": 71,
      "outputs": []
    },
    {
      "cell_type": "code",
      "metadata": {
        "id": "v5fXhELMPyeh"
      },
      "source": [
        "# appending the training and testing dataset into X_train and y_train,doing the same for testing dataset\r\n",
        "time_step = 100  \r\n",
        "X_train, y_train = create_dataset(train_data, time_step)\r\n",
        "X_test, y_test = create_dataset(test_data, time_step)"
      ],
      "execution_count": 72,
      "outputs": []
    },
    {
      "cell_type": "code",
      "metadata": {
        "colab": {
          "base_uri": "https://localhost:8080/"
        },
        "id": "AvusQLMJP3Qo",
        "outputId": "d482e813-b084-4377-e96e-9e35d07ebf66"
      },
      "source": [
        "# printing the shape,(rows and columns)\r\n",
        "print(X_train.shape)\r\n",
        "print(y_train.shape)    \r\n",
        "               "
      ],
      "execution_count": 73,
      "outputs": [
        {
          "output_type": "stream",
          "text": [
            "(906, 100)\n",
            "(906,)\n"
          ],
          "name": "stdout"
        }
      ]
    },
    {
      "cell_type": "code",
      "metadata": {
        "colab": {
          "base_uri": "https://localhost:8080/"
        },
        "id": "P_6HkohNQsQS",
        "outputId": "e3d6980d-2836-477b-b915-53a62c658cfc"
      },
      "source": [
        "# printing the dimension of the training and testing dataset\r\n",
        "print(X_train.ndim)\r\n",
        "print(y_train.ndim)"
      ],
      "execution_count": 74,
      "outputs": [
        {
          "output_type": "stream",
          "text": [
            "2\n",
            "1\n"
          ],
          "name": "stdout"
        }
      ]
    },
    {
      "cell_type": "code",
      "metadata": {
        "id": "UXVDjXnRQxyx"
      },
      "source": [
        "# reshape input to be [samples, time steps, features(1,because only the 'close' column is considered)] which is required for LSTM\r\n",
        "#reshaping it to a 3D, because LSTM expects the input data to be in 3D.\r\n",
        "X_train =X_train.reshape(X_train.shape[0],X_train.shape[1] , 1)\r\n",
        "X_test = X_test.reshape(X_test.shape[0],X_test.shape[1],1) \r\n"
      ],
      "execution_count": 75,
      "outputs": []
    },
    {
      "cell_type": "code",
      "metadata": {
        "id": "uviP8VJHQ1Gd"
      },
      "source": [
        "#creating LSTM model \r\n",
        "import tensorflow as tf\r\n",
        "\r\n",
        "from tensorflow.keras.models import Sequential  \r\n",
        "from tensorflow.keras.layers import Dense \r\n",
        "from tensorflow.keras.layers import LSTM"
      ],
      "execution_count": 76,
      "outputs": []
    },
    {
      "cell_type": "code",
      "metadata": {
        "id": "e72zmrxVQ---"
      },
      "source": [
        "#adding layers to the LSTM Model\r\n",
        "#set return_sequence=true  for showing the full sequence of the ouput\r\n",
        "model=Sequential() \r\n",
        "model.add(LSTM(50,return_sequences=True,input_shape=(100,1))) #adding layer with 50 neurons, input_shape=(no.of time steps,feature)\r\n",
        "model.add(LSTM(50,return_sequences=True)) \r\n",
        "model.add(LSTM(50))\r\n",
        "model.add(Dense(1)) \r\n",
        "model.compile(loss='mean_squared_error',optimizer='adam') #adaptive moment estimation"
      ],
      "execution_count": 77,
      "outputs": []
    },
    {
      "cell_type": "code",
      "metadata": {
        "colab": {
          "base_uri": "https://localhost:8080/"
        },
        "id": "zfkG39rSRJ0d",
        "outputId": "cf350ece-ce17-413d-cc11-b1d15b04faea"
      },
      "source": [
        "#printing the summary of the model\r\n",
        "model.summary()"
      ],
      "execution_count": 78,
      "outputs": [
        {
          "output_type": "stream",
          "text": [
            "Model: \"sequential_1\"\n",
            "_________________________________________________________________\n",
            "Layer (type)                 Output Shape              Param #   \n",
            "=================================================================\n",
            "lstm_3 (LSTM)                (None, 100, 50)           10400     \n",
            "_________________________________________________________________\n",
            "lstm_4 (LSTM)                (None, 100, 50)           20200     \n",
            "_________________________________________________________________\n",
            "lstm_5 (LSTM)                (None, 50)                20200     \n",
            "_________________________________________________________________\n",
            "dense_1 (Dense)              (None, 1)                 51        \n",
            "=================================================================\n",
            "Total params: 50,851\n",
            "Trainable params: 50,851\n",
            "Non-trainable params: 0\n",
            "_________________________________________________________________\n"
          ],
          "name": "stdout"
        }
      ]
    },
    {
      "cell_type": "code",
      "metadata": {
        "colab": {
          "base_uri": "https://localhost:8080/"
        },
        "id": "Eg5JwSf-RMXy",
        "outputId": "fc379800-4fc7-4bef-cf57-796c9367ce75"
      },
      "source": [
        "#training the LSTM Model with the help of training dataset with 100 epochs(iterations) \r\n",
        "model.fit(X_train,y_train,validation_data = (X_test,y_test),epochs=100,batch_size=64,verbose=1) "
      ],
      "execution_count": 79,
      "outputs": [
        {
          "output_type": "stream",
          "text": [
            "Epoch 1/100\n",
            "15/15 [==============================] - 7s 236ms/step - loss: 0.1942 - val_loss: 0.0053\n",
            "Epoch 2/100\n",
            "15/15 [==============================] - 3s 169ms/step - loss: 0.0189 - val_loss: 0.0124\n",
            "Epoch 3/100\n",
            "15/15 [==============================] - 2s 166ms/step - loss: 0.0084 - val_loss: 0.0174\n",
            "Epoch 4/100\n",
            "15/15 [==============================] - 3s 167ms/step - loss: 0.0070 - val_loss: 0.0124\n",
            "Epoch 5/100\n",
            "15/15 [==============================] - 2s 166ms/step - loss: 0.0056 - val_loss: 0.0083\n",
            "Epoch 6/100\n",
            "15/15 [==============================] - 3s 168ms/step - loss: 0.0043 - val_loss: 0.0066\n",
            "Epoch 7/100\n",
            "15/15 [==============================] - 3s 168ms/step - loss: 0.0045 - val_loss: 0.0061\n",
            "Epoch 8/100\n",
            "15/15 [==============================] - 2s 166ms/step - loss: 0.0042 - val_loss: 0.0051\n",
            "Epoch 9/100\n",
            "15/15 [==============================] - 2s 167ms/step - loss: 0.0038 - val_loss: 0.0050\n",
            "Epoch 10/100\n",
            "15/15 [==============================] - 3s 169ms/step - loss: 0.0037 - val_loss: 0.0051\n",
            "Epoch 11/100\n",
            "15/15 [==============================] - 3s 167ms/step - loss: 0.0037 - val_loss: 0.0046\n",
            "Epoch 12/100\n",
            "15/15 [==============================] - 2s 166ms/step - loss: 0.0032 - val_loss: 0.0044\n",
            "Epoch 13/100\n",
            "15/15 [==============================] - 2s 166ms/step - loss: 0.0030 - val_loss: 0.0042\n",
            "Epoch 14/100\n",
            "15/15 [==============================] - 3s 170ms/step - loss: 0.0029 - val_loss: 0.0045\n",
            "Epoch 15/100\n",
            "15/15 [==============================] - 3s 168ms/step - loss: 0.0031 - val_loss: 0.0044\n",
            "Epoch 16/100\n",
            "15/15 [==============================] - 3s 168ms/step - loss: 0.0026 - val_loss: 0.0038\n",
            "Epoch 17/100\n",
            "15/15 [==============================] - 3s 167ms/step - loss: 0.0027 - val_loss: 0.0034\n",
            "Epoch 18/100\n",
            "15/15 [==============================] - 3s 170ms/step - loss: 0.0026 - val_loss: 0.0034\n",
            "Epoch 19/100\n",
            "15/15 [==============================] - 3s 174ms/step - loss: 0.0022 - val_loss: 0.0036\n",
            "Epoch 20/100\n",
            "15/15 [==============================] - 3s 171ms/step - loss: 0.0021 - val_loss: 0.0033\n",
            "Epoch 21/100\n",
            "15/15 [==============================] - 3s 172ms/step - loss: 0.0022 - val_loss: 0.0032\n",
            "Epoch 22/100\n",
            "15/15 [==============================] - 3s 174ms/step - loss: 0.0020 - val_loss: 0.0032\n",
            "Epoch 23/100\n",
            "15/15 [==============================] - 3s 172ms/step - loss: 0.0019 - val_loss: 0.0036\n",
            "Epoch 24/100\n",
            "15/15 [==============================] - 3s 172ms/step - loss: 0.0021 - val_loss: 0.0033\n",
            "Epoch 25/100\n",
            "15/15 [==============================] - 3s 174ms/step - loss: 0.0019 - val_loss: 0.0029\n",
            "Epoch 26/100\n",
            "15/15 [==============================] - 3s 174ms/step - loss: 0.0017 - val_loss: 0.0026\n",
            "Epoch 27/100\n",
            "15/15 [==============================] - 3s 172ms/step - loss: 0.0026 - val_loss: 0.0026\n",
            "Epoch 28/100\n",
            "15/15 [==============================] - 3s 175ms/step - loss: 0.0019 - val_loss: 0.0027\n",
            "Epoch 29/100\n",
            "15/15 [==============================] - 3s 174ms/step - loss: 0.0017 - val_loss: 0.0026\n",
            "Epoch 30/100\n",
            "15/15 [==============================] - 3s 175ms/step - loss: 0.0015 - val_loss: 0.0026\n",
            "Epoch 31/100\n",
            "15/15 [==============================] - 3s 175ms/step - loss: 0.0016 - val_loss: 0.0027\n",
            "Epoch 32/100\n",
            "15/15 [==============================] - 3s 174ms/step - loss: 0.0015 - val_loss: 0.0025\n",
            "Epoch 33/100\n",
            "15/15 [==============================] - 3s 176ms/step - loss: 0.0016 - val_loss: 0.0027\n",
            "Epoch 34/100\n",
            "15/15 [==============================] - 3s 175ms/step - loss: 0.0014 - val_loss: 0.0024\n",
            "Epoch 35/100\n",
            "15/15 [==============================] - 3s 175ms/step - loss: 0.0015 - val_loss: 0.0025\n",
            "Epoch 36/100\n",
            "15/15 [==============================] - 3s 175ms/step - loss: 0.0013 - val_loss: 0.0025\n",
            "Epoch 37/100\n",
            "15/15 [==============================] - 3s 175ms/step - loss: 0.0013 - val_loss: 0.0023\n",
            "Epoch 38/100\n",
            "15/15 [==============================] - 3s 175ms/step - loss: 0.0014 - val_loss: 0.0023\n",
            "Epoch 39/100\n",
            "15/15 [==============================] - 3s 175ms/step - loss: 0.0014 - val_loss: 0.0028\n",
            "Epoch 40/100\n",
            "15/15 [==============================] - 3s 176ms/step - loss: 0.0016 - val_loss: 0.0023\n",
            "Epoch 41/100\n",
            "15/15 [==============================] - 3s 174ms/step - loss: 0.0013 - val_loss: 0.0024\n",
            "Epoch 42/100\n",
            "15/15 [==============================] - 3s 174ms/step - loss: 0.0014 - val_loss: 0.0023\n",
            "Epoch 43/100\n",
            "15/15 [==============================] - 3s 175ms/step - loss: 0.0014 - val_loss: 0.0023\n",
            "Epoch 44/100\n",
            "15/15 [==============================] - 3s 174ms/step - loss: 0.0012 - val_loss: 0.0022\n",
            "Epoch 45/100\n",
            "15/15 [==============================] - 3s 175ms/step - loss: 0.0013 - val_loss: 0.0021\n",
            "Epoch 46/100\n",
            "15/15 [==============================] - 3s 174ms/step - loss: 0.0014 - val_loss: 0.0022\n",
            "Epoch 47/100\n",
            "15/15 [==============================] - 3s 174ms/step - loss: 0.0014 - val_loss: 0.0023\n",
            "Epoch 48/100\n",
            "15/15 [==============================] - 3s 175ms/step - loss: 0.0012 - val_loss: 0.0022\n",
            "Epoch 49/100\n",
            "15/15 [==============================] - 3s 175ms/step - loss: 0.0011 - val_loss: 0.0023\n",
            "Epoch 50/100\n",
            "15/15 [==============================] - 3s 175ms/step - loss: 0.0012 - val_loss: 0.0022\n",
            "Epoch 51/100\n",
            "15/15 [==============================] - 3s 177ms/step - loss: 0.0012 - val_loss: 0.0021\n",
            "Epoch 52/100\n",
            "15/15 [==============================] - 3s 175ms/step - loss: 0.0013 - val_loss: 0.0023\n",
            "Epoch 53/100\n",
            "15/15 [==============================] - 3s 177ms/step - loss: 0.0011 - val_loss: 0.0020\n",
            "Epoch 54/100\n",
            "15/15 [==============================] - 3s 178ms/step - loss: 0.0013 - val_loss: 0.0023\n",
            "Epoch 55/100\n",
            "15/15 [==============================] - 3s 177ms/step - loss: 0.0010 - val_loss: 0.0022\n",
            "Epoch 56/100\n",
            "15/15 [==============================] - 3s 177ms/step - loss: 0.0011 - val_loss: 0.0021\n",
            "Epoch 57/100\n",
            "15/15 [==============================] - 3s 176ms/step - loss: 0.0011 - val_loss: 0.0020\n",
            "Epoch 58/100\n",
            "15/15 [==============================] - 3s 175ms/step - loss: 0.0011 - val_loss: 0.0023\n",
            "Epoch 59/100\n",
            "15/15 [==============================] - 3s 176ms/step - loss: 0.0012 - val_loss: 0.0019\n",
            "Epoch 60/100\n",
            "15/15 [==============================] - 3s 177ms/step - loss: 0.0015 - val_loss: 0.0019\n",
            "Epoch 61/100\n",
            "15/15 [==============================] - 3s 176ms/step - loss: 0.0014 - val_loss: 0.0020\n",
            "Epoch 62/100\n",
            "15/15 [==============================] - 3s 175ms/step - loss: 0.0010 - val_loss: 0.0020\n",
            "Epoch 63/100\n",
            "15/15 [==============================] - 3s 177ms/step - loss: 9.1659e-04 - val_loss: 0.0021\n",
            "Epoch 64/100\n",
            "15/15 [==============================] - 3s 175ms/step - loss: 8.6412e-04 - val_loss: 0.0022\n",
            "Epoch 65/100\n",
            "15/15 [==============================] - 3s 176ms/step - loss: 0.0011 - val_loss: 0.0020\n",
            "Epoch 66/100\n",
            "15/15 [==============================] - 3s 176ms/step - loss: 9.8749e-04 - val_loss: 0.0021\n",
            "Epoch 67/100\n",
            "15/15 [==============================] - 3s 178ms/step - loss: 9.7880e-04 - val_loss: 0.0019\n",
            "Epoch 68/100\n",
            "15/15 [==============================] - 3s 176ms/step - loss: 0.0011 - val_loss: 0.0018\n",
            "Epoch 69/100\n",
            "15/15 [==============================] - 3s 177ms/step - loss: 0.0011 - val_loss: 0.0021\n",
            "Epoch 70/100\n",
            "15/15 [==============================] - 3s 180ms/step - loss: 0.0010 - val_loss: 0.0019\n",
            "Epoch 71/100\n",
            "15/15 [==============================] - 3s 178ms/step - loss: 8.7935e-04 - val_loss: 0.0019\n",
            "Epoch 72/100\n",
            "15/15 [==============================] - 3s 177ms/step - loss: 8.7456e-04 - val_loss: 0.0018\n",
            "Epoch 73/100\n",
            "15/15 [==============================] - 3s 177ms/step - loss: 8.5623e-04 - val_loss: 0.0019\n",
            "Epoch 74/100\n",
            "15/15 [==============================] - 3s 178ms/step - loss: 8.9069e-04 - val_loss: 0.0018\n",
            "Epoch 75/100\n",
            "15/15 [==============================] - 3s 187ms/step - loss: 0.0010 - val_loss: 0.0019\n",
            "Epoch 76/100\n",
            "15/15 [==============================] - 3s 191ms/step - loss: 8.4463e-04 - val_loss: 0.0017\n",
            "Epoch 77/100\n",
            "15/15 [==============================] - 3s 192ms/step - loss: 9.1902e-04 - val_loss: 0.0017\n",
            "Epoch 78/100\n",
            "15/15 [==============================] - 3s 192ms/step - loss: 9.0130e-04 - val_loss: 0.0019\n",
            "Epoch 79/100\n",
            "15/15 [==============================] - 3s 179ms/step - loss: 8.6764e-04 - val_loss: 0.0019\n",
            "Epoch 80/100\n",
            "15/15 [==============================] - 3s 190ms/step - loss: 7.4402e-04 - val_loss: 0.0019\n",
            "Epoch 81/100\n",
            "15/15 [==============================] - 3s 176ms/step - loss: 9.0775e-04 - val_loss: 0.0018\n",
            "Epoch 82/100\n",
            "15/15 [==============================] - 3s 178ms/step - loss: 8.2481e-04 - val_loss: 0.0017\n",
            "Epoch 83/100\n",
            "15/15 [==============================] - 3s 179ms/step - loss: 9.8971e-04 - val_loss: 0.0017\n",
            "Epoch 84/100\n",
            "15/15 [==============================] - 3s 176ms/step - loss: 7.7326e-04 - val_loss: 0.0018\n",
            "Epoch 85/100\n",
            "15/15 [==============================] - 3s 176ms/step - loss: 6.8892e-04 - val_loss: 0.0017\n",
            "Epoch 86/100\n",
            "15/15 [==============================] - 3s 178ms/step - loss: 6.7539e-04 - val_loss: 0.0017\n",
            "Epoch 87/100\n",
            "15/15 [==============================] - 3s 177ms/step - loss: 7.3855e-04 - val_loss: 0.0019\n",
            "Epoch 88/100\n",
            "15/15 [==============================] - 3s 178ms/step - loss: 7.8926e-04 - val_loss: 0.0017\n",
            "Epoch 89/100\n",
            "15/15 [==============================] - 3s 178ms/step - loss: 7.3721e-04 - val_loss: 0.0016\n",
            "Epoch 90/100\n",
            "15/15 [==============================] - 3s 176ms/step - loss: 7.7011e-04 - val_loss: 0.0016\n",
            "Epoch 91/100\n",
            "15/15 [==============================] - 3s 176ms/step - loss: 7.2956e-04 - val_loss: 0.0017\n",
            "Epoch 92/100\n",
            "15/15 [==============================] - 3s 175ms/step - loss: 6.2548e-04 - val_loss: 0.0016\n",
            "Epoch 93/100\n",
            "15/15 [==============================] - 3s 177ms/step - loss: 7.5577e-04 - val_loss: 0.0017\n",
            "Epoch 94/100\n",
            "15/15 [==============================] - 3s 178ms/step - loss: 6.3682e-04 - val_loss: 0.0016\n",
            "Epoch 95/100\n",
            "15/15 [==============================] - 3s 177ms/step - loss: 7.2617e-04 - val_loss: 0.0017\n",
            "Epoch 96/100\n",
            "15/15 [==============================] - 3s 178ms/step - loss: 7.3263e-04 - val_loss: 0.0016\n",
            "Epoch 97/100\n",
            "15/15 [==============================] - 3s 177ms/step - loss: 6.5867e-04 - val_loss: 0.0016\n",
            "Epoch 98/100\n",
            "15/15 [==============================] - 3s 176ms/step - loss: 5.7337e-04 - val_loss: 0.0016\n",
            "Epoch 99/100\n",
            "15/15 [==============================] - 3s 180ms/step - loss: 6.7113e-04 - val_loss: 0.0016\n",
            "Epoch 100/100\n",
            "15/15 [==============================] - 3s 179ms/step - loss: 6.5662e-04 - val_loss: 0.0015\n"
          ],
          "name": "stdout"
        },
        {
          "output_type": "execute_result",
          "data": {
            "text/plain": [
              "<tensorflow.python.keras.callbacks.History at 0x7f881d0277b8>"
            ]
          },
          "metadata": {
            "tags": []
          },
          "execution_count": 79
        }
      ]
    },
    {
      "cell_type": "code",
      "metadata": {
        "id": "i_vtlu9tSY7k"
      },
      "source": [
        "#predicting for the existing output to compare and check the accuracy\r\n",
        "training_prediction= model.predict(X_train)  \r\n",
        "                                      \r\n",
        "testing_prediction = model.predict(X_test)\r\n"
      ],
      "execution_count": 80,
      "outputs": []
    },
    {
      "cell_type": "code",
      "metadata": {
        "id": "SPUNuztiSaGQ"
      },
      "source": [
        "#Transformback to original form using standardscaler\r\n",
        "from sklearn.preprocessing import StandardScaler\r\n",
        "scaler_train = StandardScaler() \r\n",
        "training_prediction = scaler_train.fit_transform(training_prediction)\r\n",
        "scaler_test = StandardScaler()\r\n",
        "testing_prediction = scaler_test.fit_transform(testing_prediction)    "
      ],
      "execution_count": 81,
      "outputs": []
    },
    {
      "cell_type": "code",
      "metadata": {
        "colab": {
          "base_uri": "https://localhost:8080/"
        },
        "id": "xirT3xcNSeDO",
        "outputId": "dbfc65a3-9fd3-496d-dc07-1aab4af2606b"
      },
      "source": [
        "# Calculate RMSE performance metrics(RMSE range should be between 0-1)\r\n",
        "import math  \r\n",
        "from sklearn.metrics import mean_squared_error\r\n",
        "math.sqrt(mean_squared_error(y_train,training_prediction))\r\n"
      ],
      "execution_count": 82,
      "outputs": [
        {
          "output_type": "execute_result",
          "data": {
            "text/plain": [
              "1.0515680683937283"
            ]
          },
          "metadata": {
            "tags": []
          },
          "execution_count": 82
        }
      ]
    },
    {
      "cell_type": "code",
      "metadata": {
        "colab": {
          "base_uri": "https://localhost:8080/"
        },
        "id": "cyWj1ph-Smp8",
        "outputId": "b8389d2b-8ded-46fb-dd1f-6a60a43f3e53"
      },
      "source": [
        "math.sqrt(mean_squared_error(y_test,testing_prediction)) "
      ],
      "execution_count": 83,
      "outputs": [
        {
          "output_type": "execute_result",
          "data": {
            "text/plain": [
              "0.9936973847155353"
            ]
          },
          "metadata": {
            "tags": []
          },
          "execution_count": 83
        }
      ]
    },
    {
      "cell_type": "code",
      "metadata": {
        "colab": {
          "base_uri": "https://localhost:8080/",
          "height": 409
        },
        "id": "jLXkMLpSSsJ4",
        "outputId": "a20b9960-68f8-4e46-a53a-24ef51274112"
      },
      "source": [
        "# Plotting \r\n",
        "# shift train predictions for plotting\r\n",
        "look_back=100 \r\n",
        "trainPredictPlot = np.empty_like(df)\r\n",
        "trainPredictPlot[:,:] = np.nan   \r\n",
        "trainPredictPlot[look_back:len(training_prediction)+look_back, :] = training_prediction\r\n",
        "# shift test predictions for plotting\r\n",
        "testPredictPlot = np.empty_like(df)\r\n",
        "testPredictPlot[:, :] = np.nan\r\n",
        "testPredictPlot[len(training_prediction)+(look_back*2)+1:len(df)-1, :] = testing_prediction\r\n",
        "# plot baseline and predictions \r\n",
        "scaler=StandardScaler()\r\n",
        "#displaying the graph\r\n",
        "plt.figure(figsize=(12,6))\r\n",
        "plt.title('Model')\r\n",
        "plt.xlabel('Data', fontsize = 15)\r\n",
        "plt.ylabel('Close price USD ($)', fontsize = 15)\r\n",
        "plt.plot(scaler.fit_transform(df))\r\n",
        "plt.plot(trainPredictPlot)\r\n",
        "plt.plot(testPredictPlot)\r\n",
        "plt.show()\r\n",
        "\r\n"
      ],
      "execution_count": 84,
      "outputs": [
        {
          "output_type": "display_data",
          "data": {
            "image/png": "[encoded data removed]",
            "text/plain": [
              "<Figure size 864x432 with 1 Axes>"
            ]
          },
          "metadata": {
            "tags": [],
            "needs_background": "light"
          }
        }
      ]
    },
    {
      "cell_type": "code",
      "metadata": {
        "colab": {
          "base_uri": "https://localhost:8080/"
        },
        "id": "1g6CHBxKSz0E",
        "outputId": "f05b7569-e7ff-4a53-c0ba-19aec72a12e8"
      },
      "source": [
        "len(test_data) "
      ],
      "execution_count": 85,
      "outputs": [
        {
          "output_type": "execute_result",
          "data": {
            "text/plain": [
              "252"
            ]
          },
          "metadata": {
            "tags": []
          },
          "execution_count": 85
        }
      ]
    },
    {
      "cell_type": "code",
      "metadata": {
        "colab": {
          "base_uri": "https://localhost:8080/"
        },
        "id": "3P36bOpXS61o",
        "outputId": "f50a1b97-8c2e-4eef-f030-1feb1fa9f435"
      },
      "source": [
        "x_input=test_data[153:].reshape(1,-1)\r\n",
        "x_input.shape\r\n"
      ],
      "execution_count": 86,
      "outputs": [
        {
          "output_type": "execute_result",
          "data": {
            "text/plain": [
              "(1, 99)"
            ]
          },
          "metadata": {
            "tags": []
          },
          "execution_count": 86
        }
      ]
    },
    {
      "cell_type": "code",
      "metadata": {
        "id": "YwQQK4huS8Eo"
      },
      "source": [
        "temp_input=list(x_input) \r\n",
        "temp_input=temp_input[0].tolist()"
      ],
      "execution_count": 87,
      "outputs": []
    },
    {
      "cell_type": "code",
      "metadata": {
        "colab": {
          "base_uri": "https://localhost:8080/"
        },
        "id": "oVGgi8D0S_y6",
        "outputId": "a3540185-a089-4a1c-de80-bd2b3b099b24"
      },
      "source": [
        "print(temp_input)"
      ],
      "execution_count": 88,
      "outputs": [
        {
          "output_type": "stream",
          "text": [
            "[0.4277357306721725, 0.4700619752236752, 0.42555629731589795, 0.4026152557926128, 0.26657495985317725, 0.31131001376462497, 0.3083276554255563, 0.3484744780913054, 0.3370039573296628, 0.3371186854783208, 0.3177334709795825, 0.30167473044276205, 0.28263371186051844, 0.24833678596008246, 0.2782748566184905, 0.2571691328286305, 0.2865336430373939, 0.29823353980270695, 0.2726543243863271, 0.2859600825877495, 0.2915806951135582, 0.26164263592567116, 0.26313376921312215, 0.24019272768983702, 0.27047489103005273, 0.2802248222069281, 0.29628356274374856, 0.3238128355127323, 0.33539808442303287, 0.34801564579031874, 0.36246852489103, 0.3589126061023169, 0.3888506652902042, 0.37348021335168613, 0.35581559990823575, 0.3606331956870841, 0.3406745125028676, 0.350424443679743, 0.32266580637760955, 0.3231246272080752, 0.33883919476944246, 0.3563890685937141, 0.3519155769671942, 0.3596008947006193, 0.3462950447350308, 0.3709566873136041, 0.3668272883688919, 0.3662537279192475, 0.3470979811883459, 0.3498508832300986, 0.3403304083505392, 0.3458362124340444, 0.333448027070429, 0.32553343656802025, 0.325648164716678, 0.35455383115393446, 0.34262447809130525, 0.3372333218628125, 0.342739217710484, 0.3475568134893323, 0.3273686740077999, 0.3284010667584307, 0.3832300527643955, 0.34044505620555165, 0.31578350539114486, 0.30328059187887124, 0.3153246730901582, 0.2958247419132827, 0.30614822206928194, 0.31337461573755454, 0.31738936682725405, 0.3378068823124569, 0.3458362124340444, 0.3210599334709796, 0.2922689034182151, 0.2952512617572838, 0.2759807868777242, 0.26749253269098405, 0.27735719201651743, 0.3092453085570084, 0.3001835856847901, 0.308557019958706, 0.301904094975912, 0.29593947006194066, 0.3124570428997475, 0.3119982105987611, 0.33608629272768975, 0.42119761413168155, 0.3787566414315211, 0.37210371644872664, 0.3479009061711402, 0.35753618949300314, 0.34549210828171595, 0.35742146134434516, 0.3527185134205093, 0.25923383803624667, 0.23273687772424867, 0.24076628813948142, 0.24351919018123414]\n"
          ],
          "name": "stdout"
        }
      ]
    },
    {
      "cell_type": "code",
      "metadata": {
        "colab": {
          "base_uri": "https://localhost:8080/"
        },
        "id": "sMl_eZXLTPUb",
        "outputId": "29c40067-1632-4621-b0c3-c9d2938e6624"
      },
      "source": [
        "# predicting the stock price for a month\r\n",
        "from numpy import array\r\n",
        "\r\n",
        "lst_output=[]\r\n",
        "n_steps=99\r\n",
        "i=0\r\n",
        "while(i<30):\r\n",
        "    \r\n",
        "    if(len(temp_input)>99):\r\n",
        "        #print(temp_input)\r\n",
        "        x_input=np.array(temp_input[1:])\r\n",
        "        print(\"{} day input {}\".format(i,x_input))\r\n",
        "        x_input=x_input.reshape(1,-1)\r\n",
        "        x_input = x_input.reshape((1, n_steps, 1))\r\n",
        "        #print(x_input)\r\n",
        "        yhat = model.predict(x_input, verbose=0)\r\n",
        "        print(\"{} day output {}\".format(i,yhat))\r\n",
        "        temp_input.extend(yhat[0].tolist())\r\n",
        "        temp_input=temp_input[1:]\r\n",
        "        #print(temp_input)\r\n",
        "        lst_output.extend(yhat.tolist())\r\n",
        "        i=i+1\r\n",
        "    else:\r\n",
        "        x_input = x_input.reshape((1, n_steps,1)) \r\n",
        "        yhat = model.predict(x_input, verbose=0)\r\n",
        "        print(yhat[0])\r\n",
        "        temp_input.extend(yhat[0].tolist())\r\n",
        "        print(len(temp_input))\r\n",
        "        lst_output.extend(yhat.tolist())\r\n",
        "        i=i+1\r\n",
        "    \r\n",
        "\r\n",
        "print(lst_output)\r\n"
      ],
      "execution_count": 89,
      "outputs": [
        {
          "output_type": "stream",
          "text": [
            "WARNING:tensorflow:Model was constructed with shape (None, 100, 1) for input KerasTensor(type_spec=TensorSpec(shape=(None, 100, 1), dtype=tf.float32, name='lstm_3_input'), name='lstm_3_input', description=\"created by layer 'lstm_3_input'\"), but it was called on an input with incompatible shape (None, 99, 1).\n",
            "[0.23774496]\n",
            "100\n",
            "1 day input [0.47006198 0.4255563  0.40261526 0.26657496 0.31131001 0.30832766\n",
            " 0.34847448 0.33700396 0.33711869 0.31773347 0.30167473 0.28263371\n",
            " 0.24833679 0.27827486 0.25716913 0.28653364 0.29823354 0.27265432\n",
            " 0.28596008 0.2915807  0.26164264 0.26313377 0.24019273 0.27047489\n",
            " 0.28022482 0.29628356 0.32381284 0.33539808 0.34801565 0.36246852\n",
            " 0.35891261 0.38885067 0.37348021 0.3558156  0.3606332  0.34067451\n",
            " 0.35042444 0.32266581 0.32312463 0.33883919 0.35638907 0.35191558\n",
            " 0.35960089 0.34629504 0.37095669 0.36682729 0.36625373 0.34709798\n",
            " 0.34985088 0.34033041 0.34583621 0.33344803 0.32553344 0.32564816\n",
            " 0.35455383 0.34262448 0.33723332 0.34273922 0.34755681 0.32736867\n",
            " 0.32840107 0.38323005 0.34044506 0.31578351 0.30328059 0.31532467\n",
            " 0.29582474 0.30614822 0.31337462 0.31738937 0.33780688 0.34583621\n",
            " 0.32105993 0.2922689  0.29525126 0.27598079 0.26749253 0.27735719\n",
            " 0.30924531 0.30018359 0.30855702 0.30190409 0.29593947 0.31245704\n",
            " 0.31199821 0.33608629 0.42119761 0.37875664 0.37210372 0.34790091\n",
            " 0.35753619 0.34549211 0.35742146 0.35271851 0.25923384 0.23273688\n",
            " 0.24076629 0.24351919 0.23774496]\n",
            "1 day output [[0.23334618]]\n",
            "2 day input [0.4255563  0.40261526 0.26657496 0.31131001 0.30832766 0.34847448\n",
            " 0.33700396 0.33711869 0.31773347 0.30167473 0.28263371 0.24833679\n",
            " 0.27827486 0.25716913 0.28653364 0.29823354 0.27265432 0.28596008\n",
            " 0.2915807  0.26164264 0.26313377 0.24019273 0.27047489 0.28022482\n",
            " 0.29628356 0.32381284 0.33539808 0.34801565 0.36246852 0.35891261\n",
            " 0.38885067 0.37348021 0.3558156  0.3606332  0.34067451 0.35042444\n",
            " 0.32266581 0.32312463 0.33883919 0.35638907 0.35191558 0.35960089\n",
            " 0.34629504 0.37095669 0.36682729 0.36625373 0.34709798 0.34985088\n",
            " 0.34033041 0.34583621 0.33344803 0.32553344 0.32564816 0.35455383\n",
            " 0.34262448 0.33723332 0.34273922 0.34755681 0.32736867 0.32840107\n",
            " 0.38323005 0.34044506 0.31578351 0.30328059 0.31532467 0.29582474\n",
            " 0.30614822 0.31337462 0.31738937 0.33780688 0.34583621 0.32105993\n",
            " 0.2922689  0.29525126 0.27598079 0.26749253 0.27735719 0.30924531\n",
            " 0.30018359 0.30855702 0.30190409 0.29593947 0.31245704 0.31199821\n",
            " 0.33608629 0.42119761 0.37875664 0.37210372 0.34790091 0.35753619\n",
            " 0.34549211 0.35742146 0.35271851 0.25923384 0.23273688 0.24076629\n",
            " 0.24351919 0.23774496 0.23334618]\n",
            "2 day output [[0.23180462]]\n",
            "3 day input [0.40261526 0.26657496 0.31131001 0.30832766 0.34847448 0.33700396\n",
            " 0.33711869 0.31773347 0.30167473 0.28263371 0.24833679 0.27827486\n",
            " 0.25716913 0.28653364 0.29823354 0.27265432 0.28596008 0.2915807\n",
            " 0.26164264 0.26313377 0.24019273 0.27047489 0.28022482 0.29628356\n",
            " 0.32381284 0.33539808 0.34801565 0.36246852 0.35891261 0.38885067\n",
            " 0.37348021 0.3558156  0.3606332  0.34067451 0.35042444 0.32266581\n",
            " 0.32312463 0.33883919 0.35638907 0.35191558 0.35960089 0.34629504\n",
            " 0.37095669 0.36682729 0.36625373 0.34709798 0.34985088 0.34033041\n",
            " 0.34583621 0.33344803 0.32553344 0.32564816 0.35455383 0.34262448\n",
            " 0.33723332 0.34273922 0.34755681 0.32736867 0.32840107 0.38323005\n",
            " 0.34044506 0.31578351 0.30328059 0.31532467 0.29582474 0.30614822\n",
            " 0.31337462 0.31738937 0.33780688 0.34583621 0.32105993 0.2922689\n",
            " 0.29525126 0.27598079 0.26749253 0.27735719 0.30924531 0.30018359\n",
            " 0.30855702 0.30190409 0.29593947 0.31245704 0.31199821 0.33608629\n",
            " 0.42119761 0.37875664 0.37210372 0.34790091 0.35753619 0.34549211\n",
            " 0.35742146 0.35271851 0.25923384 0.23273688 0.24076629 0.24351919\n",
            " 0.23774496 0.23334618 0.23180462]\n",
            "3 day output [[0.2314648]]\n",
            "4 day input [0.26657496 0.31131001 0.30832766 0.34847448 0.33700396 0.33711869\n",
            " 0.31773347 0.30167473 0.28263371 0.24833679 0.27827486 0.25716913\n",
            " 0.28653364 0.29823354 0.27265432 0.28596008 0.2915807  0.26164264\n",
            " 0.26313377 0.24019273 0.27047489 0.28022482 0.29628356 0.32381284\n",
            " 0.33539808 0.34801565 0.36246852 0.35891261 0.38885067 0.37348021\n",
            " 0.3558156  0.3606332  0.34067451 0.35042444 0.32266581 0.32312463\n",
            " 0.33883919 0.35638907 0.35191558 0.35960089 0.34629504 0.37095669\n",
            " 0.36682729 0.36625373 0.34709798 0.34985088 0.34033041 0.34583621\n",
            " 0.33344803 0.32553344 0.32564816 0.35455383 0.34262448 0.33723332\n",
            " 0.34273922 0.34755681 0.32736867 0.32840107 0.38323005 0.34044506\n",
            " 0.31578351 0.30328059 0.31532467 0.29582474 0.30614822 0.31337462\n",
            " 0.31738937 0.33780688 0.34583621 0.32105993 0.2922689  0.29525126\n",
            " 0.27598079 0.26749253 0.27735719 0.30924531 0.30018359 0.30855702\n",
            " 0.30190409 0.29593947 0.31245704 0.31199821 0.33608629 0.42119761\n",
            " 0.37875664 0.37210372 0.34790091 0.35753619 0.34549211 0.35742146\n",
            " 0.35271851 0.25923384 0.23273688 0.24076629 0.24351919 0.23774496\n",
            " 0.23334618 0.23180462 0.2314648 ]\n",
            "4 day output [[0.23175806]]\n",
            "5 day input [0.31131001 0.30832766 0.34847448 0.33700396 0.33711869 0.31773347\n",
            " 0.30167473 0.28263371 0.24833679 0.27827486 0.25716913 0.28653364\n",
            " 0.29823354 0.27265432 0.28596008 0.2915807  0.26164264 0.26313377\n",
            " 0.24019273 0.27047489 0.28022482 0.29628356 0.32381284 0.33539808\n",
            " 0.34801565 0.36246852 0.35891261 0.38885067 0.37348021 0.3558156\n",
            " 0.3606332  0.34067451 0.35042444 0.32266581 0.32312463 0.33883919\n",
            " 0.35638907 0.35191558 0.35960089 0.34629504 0.37095669 0.36682729\n",
            " 0.36625373 0.34709798 0.34985088 0.34033041 0.34583621 0.33344803\n",
            " 0.32553344 0.32564816 0.35455383 0.34262448 0.33723332 0.34273922\n",
            " 0.34755681 0.32736867 0.32840107 0.38323005 0.34044506 0.31578351\n",
            " 0.30328059 0.31532467 0.29582474 0.30614822 0.31337462 0.31738937\n",
            " 0.33780688 0.34583621 0.32105993 0.2922689  0.29525126 0.27598079\n",
            " 0.26749253 0.27735719 0.30924531 0.30018359 0.30855702 0.30190409\n",
            " 0.29593947 0.31245704 0.31199821 0.33608629 0.42119761 0.37875664\n",
            " 0.37210372 0.34790091 0.35753619 0.34549211 0.35742146 0.35271851\n",
            " 0.25923384 0.23273688 0.24076629 0.24351919 0.23774496 0.23334618\n",
            " 0.23180462 0.2314648  0.23175806]\n",
            "5 day output [[0.23246385]]\n",
            "6 day input [0.30832766 0.34847448 0.33700396 0.33711869 0.31773347 0.30167473\n",
            " 0.28263371 0.24833679 0.27827486 0.25716913 0.28653364 0.29823354\n",
            " 0.27265432 0.28596008 0.2915807  0.26164264 0.26313377 0.24019273\n",
            " 0.27047489 0.28022482 0.29628356 0.32381284 0.33539808 0.34801565\n",
            " 0.36246852 0.35891261 0.38885067 0.37348021 0.3558156  0.3606332\n",
            " 0.34067451 0.35042444 0.32266581 0.32312463 0.33883919 0.35638907\n",
            " 0.35191558 0.35960089 0.34629504 0.37095669 0.36682729 0.36625373\n",
            " 0.34709798 0.34985088 0.34033041 0.34583621 0.33344803 0.32553344\n",
            " 0.32564816 0.35455383 0.34262448 0.33723332 0.34273922 0.34755681\n",
            " 0.32736867 0.32840107 0.38323005 0.34044506 0.31578351 0.30328059\n",
            " 0.31532467 0.29582474 0.30614822 0.31337462 0.31738937 0.33780688\n",
            " 0.34583621 0.32105993 0.2922689  0.29525126 0.27598079 0.26749253\n",
            " 0.27735719 0.30924531 0.30018359 0.30855702 0.30190409 0.29593947\n",
            " 0.31245704 0.31199821 0.33608629 0.42119761 0.37875664 0.37210372\n",
            " 0.34790091 0.35753619 0.34549211 0.35742146 0.35271851 0.25923384\n",
            " 0.23273688 0.24076629 0.24351919 0.23774496 0.23334618 0.23180462\n",
            " 0.2314648  0.23175806 0.23246385]\n",
            "6 day output [[0.2334699]]\n",
            "7 day input [0.34847448 0.33700396 0.33711869 0.31773347 0.30167473 0.28263371\n",
            " 0.24833679 0.27827486 0.25716913 0.28653364 0.29823354 0.27265432\n",
            " 0.28596008 0.2915807  0.26164264 0.26313377 0.24019273 0.27047489\n",
            " 0.28022482 0.29628356 0.32381284 0.33539808 0.34801565 0.36246852\n",
            " 0.35891261 0.38885067 0.37348021 0.3558156  0.3606332  0.34067451\n",
            " 0.35042444 0.32266581 0.32312463 0.33883919 0.35638907 0.35191558\n",
            " 0.35960089 0.34629504 0.37095669 0.36682729 0.36625373 0.34709798\n",
            " 0.34985088 0.34033041 0.34583621 0.33344803 0.32553344 0.32564816\n",
            " 0.35455383 0.34262448 0.33723332 0.34273922 0.34755681 0.32736867\n",
            " 0.32840107 0.38323005 0.34044506 0.31578351 0.30328059 0.31532467\n",
            " 0.29582474 0.30614822 0.31337462 0.31738937 0.33780688 0.34583621\n",
            " 0.32105993 0.2922689  0.29525126 0.27598079 0.26749253 0.27735719\n",
            " 0.30924531 0.30018359 0.30855702 0.30190409 0.29593947 0.31245704\n",
            " 0.31199821 0.33608629 0.42119761 0.37875664 0.37210372 0.34790091\n",
            " 0.35753619 0.34549211 0.35742146 0.35271851 0.25923384 0.23273688\n",
            " 0.24076629 0.24351919 0.23774496 0.23334618 0.23180462 0.2314648\n",
            " 0.23175806 0.23246385 0.2334699 ]\n",
            "7 day output [[0.23470314]]\n",
            "8 day input [0.33700396 0.33711869 0.31773347 0.30167473 0.28263371 0.24833679\n",
            " 0.27827486 0.25716913 0.28653364 0.29823354 0.27265432 0.28596008\n",
            " 0.2915807  0.26164264 0.26313377 0.24019273 0.27047489 0.28022482\n",
            " 0.29628356 0.32381284 0.33539808 0.34801565 0.36246852 0.35891261\n",
            " 0.38885067 0.37348021 0.3558156  0.3606332  0.34067451 0.35042444\n",
            " 0.32266581 0.32312463 0.33883919 0.35638907 0.35191558 0.35960089\n",
            " 0.34629504 0.37095669 0.36682729 0.36625373 0.34709798 0.34985088\n",
            " 0.34033041 0.34583621 0.33344803 0.32553344 0.32564816 0.35455383\n",
            " 0.34262448 0.33723332 0.34273922 0.34755681 0.32736867 0.32840107\n",
            " 0.38323005 0.34044506 0.31578351 0.30328059 0.31532467 0.29582474\n",
            " 0.30614822 0.31337462 0.31738937 0.33780688 0.34583621 0.32105993\n",
            " 0.2922689  0.29525126 0.27598079 0.26749253 0.27735719 0.30924531\n",
            " 0.30018359 0.30855702 0.30190409 0.29593947 0.31245704 0.31199821\n",
            " 0.33608629 0.42119761 0.37875664 0.37210372 0.34790091 0.35753619\n",
            " 0.34549211 0.35742146 0.35271851 0.25923384 0.23273688 0.24076629\n",
            " 0.24351919 0.23774496 0.23334618 0.23180462 0.2314648  0.23175806\n",
            " 0.23246385 0.2334699  0.23470314]\n",
            "8 day output [[0.23611116]]\n",
            "9 day input [0.33711869 0.31773347 0.30167473 0.28263371 0.24833679 0.27827486\n",
            " 0.25716913 0.28653364 0.29823354 0.27265432 0.28596008 0.2915807\n",
            " 0.26164264 0.26313377 0.24019273 0.27047489 0.28022482 0.29628356\n",
            " 0.32381284 0.33539808 0.34801565 0.36246852 0.35891261 0.38885067\n",
            " 0.37348021 0.3558156  0.3606332  0.34067451 0.35042444 0.32266581\n",
            " 0.32312463 0.33883919 0.35638907 0.35191558 0.35960089 0.34629504\n",
            " 0.37095669 0.36682729 0.36625373 0.34709798 0.34985088 0.34033041\n",
            " 0.34583621 0.33344803 0.32553344 0.32564816 0.35455383 0.34262448\n",
            " 0.33723332 0.34273922 0.34755681 0.32736867 0.32840107 0.38323005\n",
            " 0.34044506 0.31578351 0.30328059 0.31532467 0.29582474 0.30614822\n",
            " 0.31337462 0.31738937 0.33780688 0.34583621 0.32105993 0.2922689\n",
            " 0.29525126 0.27598079 0.26749253 0.27735719 0.30924531 0.30018359\n",
            " 0.30855702 0.30190409 0.29593947 0.31245704 0.31199821 0.33608629\n",
            " 0.42119761 0.37875664 0.37210372 0.34790091 0.35753619 0.34549211\n",
            " 0.35742146 0.35271851 0.25923384 0.23273688 0.24076629 0.24351919\n",
            " 0.23774496 0.23334618 0.23180462 0.2314648  0.23175806 0.23246385\n",
            " 0.2334699  0.23470314 0.23611116]\n",
            "9 day output [[0.23765561]]\n",
            "10 day input [0.31773347 0.30167473 0.28263371 0.24833679 0.27827486 0.25716913\n",
            " 0.28653364 0.29823354 0.27265432 0.28596008 0.2915807  0.26164264\n",
            " 0.26313377 0.24019273 0.27047489 0.28022482 0.29628356 0.32381284\n",
            " 0.33539808 0.34801565 0.36246852 0.35891261 0.38885067 0.37348021\n",
            " 0.3558156  0.3606332  0.34067451 0.35042444 0.32266581 0.32312463\n",
            " 0.33883919 0.35638907 0.35191558 0.35960089 0.34629504 0.37095669\n",
            " 0.36682729 0.36625373 0.34709798 0.34985088 0.34033041 0.34583621\n",
            " 0.33344803 0.32553344 0.32564816 0.35455383 0.34262448 0.33723332\n",
            " 0.34273922 0.34755681 0.32736867 0.32840107 0.38323005 0.34044506\n",
            " 0.31578351 0.30328059 0.31532467 0.29582474 0.30614822 0.31337462\n",
            " 0.31738937 0.33780688 0.34583621 0.32105993 0.2922689  0.29525126\n",
            " 0.27598079 0.26749253 0.27735719 0.30924531 0.30018359 0.30855702\n",
            " 0.30190409 0.29593947 0.31245704 0.31199821 0.33608629 0.42119761\n",
            " 0.37875664 0.37210372 0.34790091 0.35753619 0.34549211 0.35742146\n",
            " 0.35271851 0.25923384 0.23273688 0.24076629 0.24351919 0.23774496\n",
            " 0.23334618 0.23180462 0.2314648  0.23175806 0.23246385 0.2334699\n",
            " 0.23470314 0.23611116 0.23765561]\n",
            "10 day output [[0.23930797]]\n",
            "11 day input [0.30167473 0.28263371 0.24833679 0.27827486 0.25716913 0.28653364\n",
            " 0.29823354 0.27265432 0.28596008 0.2915807  0.26164264 0.26313377\n",
            " 0.24019273 0.27047489 0.28022482 0.29628356 0.32381284 0.33539808\n",
            " 0.34801565 0.36246852 0.35891261 0.38885067 0.37348021 0.3558156\n",
            " 0.3606332  0.34067451 0.35042444 0.32266581 0.32312463 0.33883919\n",
            " 0.35638907 0.35191558 0.35960089 0.34629504 0.37095669 0.36682729\n",
            " 0.36625373 0.34709798 0.34985088 0.34033041 0.34583621 0.33344803\n",
            " 0.32553344 0.32564816 0.35455383 0.34262448 0.33723332 0.34273922\n",
            " 0.34755681 0.32736867 0.32840107 0.38323005 0.34044506 0.31578351\n",
            " 0.30328059 0.31532467 0.29582474 0.30614822 0.31337462 0.31738937\n",
            " 0.33780688 0.34583621 0.32105993 0.2922689  0.29525126 0.27598079\n",
            " 0.26749253 0.27735719 0.30924531 0.30018359 0.30855702 0.30190409\n",
            " 0.29593947 0.31245704 0.31199821 0.33608629 0.42119761 0.37875664\n",
            " 0.37210372 0.34790091 0.35753619 0.34549211 0.35742146 0.35271851\n",
            " 0.25923384 0.23273688 0.24076629 0.24351919 0.23774496 0.23334618\n",
            " 0.23180462 0.2314648  0.23175806 0.23246385 0.2334699  0.23470314\n",
            " 0.23611116 0.23765561 0.23930797]\n",
            "11 day output [[0.241047]]\n",
            "12 day input [0.28263371 0.24833679 0.27827486 0.25716913 0.28653364 0.29823354\n",
            " 0.27265432 0.28596008 0.2915807  0.26164264 0.26313377 0.24019273\n",
            " 0.27047489 0.28022482 0.29628356 0.32381284 0.33539808 0.34801565\n",
            " 0.36246852 0.35891261 0.38885067 0.37348021 0.3558156  0.3606332\n",
            " 0.34067451 0.35042444 0.32266581 0.32312463 0.33883919 0.35638907\n",
            " 0.35191558 0.35960089 0.34629504 0.37095669 0.36682729 0.36625373\n",
            " 0.34709798 0.34985088 0.34033041 0.34583621 0.33344803 0.32553344\n",
            " 0.32564816 0.35455383 0.34262448 0.33723332 0.34273922 0.34755681\n",
            " 0.32736867 0.32840107 0.38323005 0.34044506 0.31578351 0.30328059\n",
            " 0.31532467 0.29582474 0.30614822 0.31337462 0.31738937 0.33780688\n",
            " 0.34583621 0.32105993 0.2922689  0.29525126 0.27598079 0.26749253\n",
            " 0.27735719 0.30924531 0.30018359 0.30855702 0.30190409 0.29593947\n",
            " 0.31245704 0.31199821 0.33608629 0.42119761 0.37875664 0.37210372\n",
            " 0.34790091 0.35753619 0.34549211 0.35742146 0.35271851 0.25923384\n",
            " 0.23273688 0.24076629 0.24351919 0.23774496 0.23334618 0.23180462\n",
            " 0.2314648  0.23175806 0.23246385 0.2334699  0.23470314 0.23611116\n",
            " 0.23765561 0.23930797 0.24104699]\n",
            "12 day output [[0.24285536]]\n",
            "13 day input [0.24833679 0.27827486 0.25716913 0.28653364 0.29823354 0.27265432\n",
            " 0.28596008 0.2915807  0.26164264 0.26313377 0.24019273 0.27047489\n",
            " 0.28022482 0.29628356 0.32381284 0.33539808 0.34801565 0.36246852\n",
            " 0.35891261 0.38885067 0.37348021 0.3558156  0.3606332  0.34067451\n",
            " 0.35042444 0.32266581 0.32312463 0.33883919 0.35638907 0.35191558\n",
            " 0.35960089 0.34629504 0.37095669 0.36682729 0.36625373 0.34709798\n",
            " 0.34985088 0.34033041 0.34583621 0.33344803 0.32553344 0.32564816\n",
            " 0.35455383 0.34262448 0.33723332 0.34273922 0.34755681 0.32736867\n",
            " 0.32840107 0.38323005 0.34044506 0.31578351 0.30328059 0.31532467\n",
            " 0.29582474 0.30614822 0.31337462 0.31738937 0.33780688 0.34583621\n",
            " 0.32105993 0.2922689  0.29525126 0.27598079 0.26749253 0.27735719\n",
            " 0.30924531 0.30018359 0.30855702 0.30190409 0.29593947 0.31245704\n",
            " 0.31199821 0.33608629 0.42119761 0.37875664 0.37210372 0.34790091\n",
            " 0.35753619 0.34549211 0.35742146 0.35271851 0.25923384 0.23273688\n",
            " 0.24076629 0.24351919 0.23774496 0.23334618 0.23180462 0.2314648\n",
            " 0.23175806 0.23246385 0.2334699  0.23470314 0.23611116 0.23765561\n",
            " 0.23930797 0.24104699 0.24285536]\n",
            "13 day output [[0.24471821]]\n",
            "14 day input [0.27827486 0.25716913 0.28653364 0.29823354 0.27265432 0.28596008\n",
            " 0.2915807  0.26164264 0.26313377 0.24019273 0.27047489 0.28022482\n",
            " 0.29628356 0.32381284 0.33539808 0.34801565 0.36246852 0.35891261\n",
            " 0.38885067 0.37348021 0.3558156  0.3606332  0.34067451 0.35042444\n",
            " 0.32266581 0.32312463 0.33883919 0.35638907 0.35191558 0.35960089\n",
            " 0.34629504 0.37095669 0.36682729 0.36625373 0.34709798 0.34985088\n",
            " 0.34033041 0.34583621 0.33344803 0.32553344 0.32564816 0.35455383\n",
            " 0.34262448 0.33723332 0.34273922 0.34755681 0.32736867 0.32840107\n",
            " 0.38323005 0.34044506 0.31578351 0.30328059 0.31532467 0.29582474\n",
            " 0.30614822 0.31337462 0.31738937 0.33780688 0.34583621 0.32105993\n",
            " 0.2922689  0.29525126 0.27598079 0.26749253 0.27735719 0.30924531\n",
            " 0.30018359 0.30855702 0.30190409 0.29593947 0.31245704 0.31199821\n",
            " 0.33608629 0.42119761 0.37875664 0.37210372 0.34790091 0.35753619\n",
            " 0.34549211 0.35742146 0.35271851 0.25923384 0.23273688 0.24076629\n",
            " 0.24351919 0.23774496 0.23334618 0.23180462 0.2314648  0.23175806\n",
            " 0.23246385 0.2334699  0.23470314 0.23611116 0.23765561 0.23930797\n",
            " 0.24104699 0.24285536 0.24471821]\n",
            "14 day output [[0.24662171]]\n",
            "15 day input [0.25716913 0.28653364 0.29823354 0.27265432 0.28596008 0.2915807\n",
            " 0.26164264 0.26313377 0.24019273 0.27047489 0.28022482 0.29628356\n",
            " 0.32381284 0.33539808 0.34801565 0.36246852 0.35891261 0.38885067\n",
            " 0.37348021 0.3558156  0.3606332  0.34067451 0.35042444 0.32266581\n",
            " 0.32312463 0.33883919 0.35638907 0.35191558 0.35960089 0.34629504\n",
            " 0.37095669 0.36682729 0.36625373 0.34709798 0.34985088 0.34033041\n",
            " 0.34583621 0.33344803 0.32553344 0.32564816 0.35455383 0.34262448\n",
            " 0.33723332 0.34273922 0.34755681 0.32736867 0.32840107 0.38323005\n",
            " 0.34044506 0.31578351 0.30328059 0.31532467 0.29582474 0.30614822\n",
            " 0.31337462 0.31738937 0.33780688 0.34583621 0.32105993 0.2922689\n",
            " 0.29525126 0.27598079 0.26749253 0.27735719 0.30924531 0.30018359\n",
            " 0.30855702 0.30190409 0.29593947 0.31245704 0.31199821 0.33608629\n",
            " 0.42119761 0.37875664 0.37210372 0.34790091 0.35753619 0.34549211\n",
            " 0.35742146 0.35271851 0.25923384 0.23273688 0.24076629 0.24351919\n",
            " 0.23774496 0.23334618 0.23180462 0.2314648  0.23175806 0.23246385\n",
            " 0.2334699  0.23470314 0.23611116 0.23765561 0.23930797 0.24104699\n",
            " 0.24285536 0.24471821 0.24662171]\n",
            "15 day output [[0.24855208]]\n",
            "16 day input [0.28653364 0.29823354 0.27265432 0.28596008 0.2915807  0.26164264\n",
            " 0.26313377 0.24019273 0.27047489 0.28022482 0.29628356 0.32381284\n",
            " 0.33539808 0.34801565 0.36246852 0.35891261 0.38885067 0.37348021\n",
            " 0.3558156  0.3606332  0.34067451 0.35042444 0.32266581 0.32312463\n",
            " 0.33883919 0.35638907 0.35191558 0.35960089 0.34629504 0.37095669\n",
            " 0.36682729 0.36625373 0.34709798 0.34985088 0.34033041 0.34583621\n",
            " 0.33344803 0.32553344 0.32564816 0.35455383 0.34262448 0.33723332\n",
            " 0.34273922 0.34755681 0.32736867 0.32840107 0.38323005 0.34044506\n",
            " 0.31578351 0.30328059 0.31532467 0.29582474 0.30614822 0.31337462\n",
            " 0.31738937 0.33780688 0.34583621 0.32105993 0.2922689  0.29525126\n",
            " 0.27598079 0.26749253 0.27735719 0.30924531 0.30018359 0.30855702\n",
            " 0.30190409 0.29593947 0.31245704 0.31199821 0.33608629 0.42119761\n",
            " 0.37875664 0.37210372 0.34790091 0.35753619 0.34549211 0.35742146\n",
            " 0.35271851 0.25923384 0.23273688 0.24076629 0.24351919 0.23774496\n",
            " 0.23334618 0.23180462 0.2314648  0.23175806 0.23246385 0.2334699\n",
            " 0.23470314 0.23611116 0.23765561 0.23930797 0.24104699 0.24285536\n",
            " 0.24471821 0.24662171 0.24855208]\n",
            "16 day output [[0.2504958]]\n",
            "17 day input [0.29823354 0.27265432 0.28596008 0.2915807  0.26164264 0.26313377\n",
            " 0.24019273 0.27047489 0.28022482 0.29628356 0.32381284 0.33539808\n",
            " 0.34801565 0.36246852 0.35891261 0.38885067 0.37348021 0.3558156\n",
            " 0.3606332  0.34067451 0.35042444 0.32266581 0.32312463 0.33883919\n",
            " 0.35638907 0.35191558 0.35960089 0.34629504 0.37095669 0.36682729\n",
            " 0.36625373 0.34709798 0.34985088 0.34033041 0.34583621 0.33344803\n",
            " 0.32553344 0.32564816 0.35455383 0.34262448 0.33723332 0.34273922\n",
            " 0.34755681 0.32736867 0.32840107 0.38323005 0.34044506 0.31578351\n",
            " 0.30328059 0.31532467 0.29582474 0.30614822 0.31337462 0.31738937\n",
            " 0.33780688 0.34583621 0.32105993 0.2922689  0.29525126 0.27598079\n",
            " 0.26749253 0.27735719 0.30924531 0.30018359 0.30855702 0.30190409\n",
            " 0.29593947 0.31245704 0.31199821 0.33608629 0.42119761 0.37875664\n",
            " 0.37210372 0.34790091 0.35753619 0.34549211 0.35742146 0.35271851\n",
            " 0.25923384 0.23273688 0.24076629 0.24351919 0.23774496 0.23334618\n",
            " 0.23180462 0.2314648  0.23175806 0.23246385 0.2334699  0.23470314\n",
            " 0.23611116 0.23765561 0.23930797 0.24104699 0.24285536 0.24471821\n",
            " 0.24662171 0.24855208 0.25049579]\n",
            "17 day output [[0.25243914]]\n",
            "18 day input [0.27265432 0.28596008 0.2915807  0.26164264 0.26313377 0.24019273\n",
            " 0.27047489 0.28022482 0.29628356 0.32381284 0.33539808 0.34801565\n",
            " 0.36246852 0.35891261 0.38885067 0.37348021 0.3558156  0.3606332\n",
            " 0.34067451 0.35042444 0.32266581 0.32312463 0.33883919 0.35638907\n",
            " 0.35191558 0.35960089 0.34629504 0.37095669 0.36682729 0.36625373\n",
            " 0.34709798 0.34985088 0.34033041 0.34583621 0.33344803 0.32553344\n",
            " 0.32564816 0.35455383 0.34262448 0.33723332 0.34273922 0.34755681\n",
            " 0.32736867 0.32840107 0.38323005 0.34044506 0.31578351 0.30328059\n",
            " 0.31532467 0.29582474 0.30614822 0.31337462 0.31738937 0.33780688\n",
            " 0.34583621 0.32105993 0.2922689  0.29525126 0.27598079 0.26749253\n",
            " 0.27735719 0.30924531 0.30018359 0.30855702 0.30190409 0.29593947\n",
            " 0.31245704 0.31199821 0.33608629 0.42119761 0.37875664 0.37210372\n",
            " 0.34790091 0.35753619 0.34549211 0.35742146 0.35271851 0.25923384\n",
            " 0.23273688 0.24076629 0.24351919 0.23774496 0.23334618 0.23180462\n",
            " 0.2314648  0.23175806 0.23246385 0.2334699  0.23470314 0.23611116\n",
            " 0.23765561 0.23930797 0.24104699 0.24285536 0.24471821 0.24662171\n",
            " 0.24855208 0.25049579 0.25243914]\n",
            "18 day output [[0.2543689]]\n",
            "19 day input [0.28596008 0.2915807  0.26164264 0.26313377 0.24019273 0.27047489\n",
            " 0.28022482 0.29628356 0.32381284 0.33539808 0.34801565 0.36246852\n",
            " 0.35891261 0.38885067 0.37348021 0.3558156  0.3606332  0.34067451\n",
            " 0.35042444 0.32266581 0.32312463 0.33883919 0.35638907 0.35191558\n",
            " 0.35960089 0.34629504 0.37095669 0.36682729 0.36625373 0.34709798\n",
            " 0.34985088 0.34033041 0.34583621 0.33344803 0.32553344 0.32564816\n",
            " 0.35455383 0.34262448 0.33723332 0.34273922 0.34755681 0.32736867\n",
            " 0.32840107 0.38323005 0.34044506 0.31578351 0.30328059 0.31532467\n",
            " 0.29582474 0.30614822 0.31337462 0.31738937 0.33780688 0.34583621\n",
            " 0.32105993 0.2922689  0.29525126 0.27598079 0.26749253 0.27735719\n",
            " 0.30924531 0.30018359 0.30855702 0.30190409 0.29593947 0.31245704\n",
            " 0.31199821 0.33608629 0.42119761 0.37875664 0.37210372 0.34790091\n",
            " 0.35753619 0.34549211 0.35742146 0.35271851 0.25923384 0.23273688\n",
            " 0.24076629 0.24351919 0.23774496 0.23334618 0.23180462 0.2314648\n",
            " 0.23175806 0.23246385 0.2334699  0.23470314 0.23611116 0.23765561\n",
            " 0.23930797 0.24104699 0.24285536 0.24471821 0.24662171 0.24855208\n",
            " 0.25049579 0.25243914 0.2543689 ]\n",
            "19 day output [[0.2562723]]\n",
            "20 day input [0.2915807  0.26164264 0.26313377 0.24019273 0.27047489 0.28022482\n",
            " 0.29628356 0.32381284 0.33539808 0.34801565 0.36246852 0.35891261\n",
            " 0.38885067 0.37348021 0.3558156  0.3606332  0.34067451 0.35042444\n",
            " 0.32266581 0.32312463 0.33883919 0.35638907 0.35191558 0.35960089\n",
            " 0.34629504 0.37095669 0.36682729 0.36625373 0.34709798 0.34985088\n",
            " 0.34033041 0.34583621 0.33344803 0.32553344 0.32564816 0.35455383\n",
            " 0.34262448 0.33723332 0.34273922 0.34755681 0.32736867 0.32840107\n",
            " 0.38323005 0.34044506 0.31578351 0.30328059 0.31532467 0.29582474\n",
            " 0.30614822 0.31337462 0.31738937 0.33780688 0.34583621 0.32105993\n",
            " 0.2922689  0.29525126 0.27598079 0.26749253 0.27735719 0.30924531\n",
            " 0.30018359 0.30855702 0.30190409 0.29593947 0.31245704 0.31199821\n",
            " 0.33608629 0.42119761 0.37875664 0.37210372 0.34790091 0.35753619\n",
            " 0.34549211 0.35742146 0.35271851 0.25923384 0.23273688 0.24076629\n",
            " 0.24351919 0.23774496 0.23334618 0.23180462 0.2314648  0.23175806\n",
            " 0.23246385 0.2334699  0.23470314 0.23611116 0.23765561 0.23930797\n",
            " 0.24104699 0.24285536 0.24471821 0.24662171 0.24855208 0.25049579\n",
            " 0.25243914 0.2543689  0.25627229]\n",
            "20 day output [[0.25813764]]\n",
            "21 day input [0.26164264 0.26313377 0.24019273 0.27047489 0.28022482 0.29628356\n",
            " 0.32381284 0.33539808 0.34801565 0.36246852 0.35891261 0.38885067\n",
            " 0.37348021 0.3558156  0.3606332  0.34067451 0.35042444 0.32266581\n",
            " 0.32312463 0.33883919 0.35638907 0.35191558 0.35960089 0.34629504\n",
            " 0.37095669 0.36682729 0.36625373 0.34709798 0.34985088 0.34033041\n",
            " 0.34583621 0.33344803 0.32553344 0.32564816 0.35455383 0.34262448\n",
            " 0.33723332 0.34273922 0.34755681 0.32736867 0.32840107 0.38323005\n",
            " 0.34044506 0.31578351 0.30328059 0.31532467 0.29582474 0.30614822\n",
            " 0.31337462 0.31738937 0.33780688 0.34583621 0.32105993 0.2922689\n",
            " 0.29525126 0.27598079 0.26749253 0.27735719 0.30924531 0.30018359\n",
            " 0.30855702 0.30190409 0.29593947 0.31245704 0.31199821 0.33608629\n",
            " 0.42119761 0.37875664 0.37210372 0.34790091 0.35753619 0.34549211\n",
            " 0.35742146 0.35271851 0.25923384 0.23273688 0.24076629 0.24351919\n",
            " 0.23774496 0.23334618 0.23180462 0.2314648  0.23175806 0.23246385\n",
            " 0.2334699  0.23470314 0.23611116 0.23765561 0.23930797 0.24104699\n",
            " 0.24285536 0.24471821 0.24662171 0.24855208 0.25049579 0.25243914\n",
            " 0.2543689  0.25627229 0.25813764]\n",
            "21 day output [[0.25995454]]\n",
            "22 day input [0.26313377 0.24019273 0.27047489 0.28022482 0.29628356 0.32381284\n",
            " 0.33539808 0.34801565 0.36246852 0.35891261 0.38885067 0.37348021\n",
            " 0.3558156  0.3606332  0.34067451 0.35042444 0.32266581 0.32312463\n",
            " 0.33883919 0.35638907 0.35191558 0.35960089 0.34629504 0.37095669\n",
            " 0.36682729 0.36625373 0.34709798 0.34985088 0.34033041 0.34583621\n",
            " 0.33344803 0.32553344 0.32564816 0.35455383 0.34262448 0.33723332\n",
            " 0.34273922 0.34755681 0.32736867 0.32840107 0.38323005 0.34044506\n",
            " 0.31578351 0.30328059 0.31532467 0.29582474 0.30614822 0.31337462\n",
            " 0.31738937 0.33780688 0.34583621 0.32105993 0.2922689  0.29525126\n",
            " 0.27598079 0.26749253 0.27735719 0.30924531 0.30018359 0.30855702\n",
            " 0.30190409 0.29593947 0.31245704 0.31199821 0.33608629 0.42119761\n",
            " 0.37875664 0.37210372 0.34790091 0.35753619 0.34549211 0.35742146\n",
            " 0.35271851 0.25923384 0.23273688 0.24076629 0.24351919 0.23774496\n",
            " 0.23334618 0.23180462 0.2314648  0.23175806 0.23246385 0.2334699\n",
            " 0.23470314 0.23611116 0.23765561 0.23930797 0.24104699 0.24285536\n",
            " 0.24471821 0.24662171 0.24855208 0.25049579 0.25243914 0.2543689\n",
            " 0.25627229 0.25813764 0.25995454]\n",
            "22 day output [[0.26171398]]\n",
            "23 day input [0.24019273 0.27047489 0.28022482 0.29628356 0.32381284 0.33539808\n",
            " 0.34801565 0.36246852 0.35891261 0.38885067 0.37348021 0.3558156\n",
            " 0.3606332  0.34067451 0.35042444 0.32266581 0.32312463 0.33883919\n",
            " 0.35638907 0.35191558 0.35960089 0.34629504 0.37095669 0.36682729\n",
            " 0.36625373 0.34709798 0.34985088 0.34033041 0.34583621 0.33344803\n",
            " 0.32553344 0.32564816 0.35455383 0.34262448 0.33723332 0.34273922\n",
            " 0.34755681 0.32736867 0.32840107 0.38323005 0.34044506 0.31578351\n",
            " 0.30328059 0.31532467 0.29582474 0.30614822 0.31337462 0.31738937\n",
            " 0.33780688 0.34583621 0.32105993 0.2922689  0.29525126 0.27598079\n",
            " 0.26749253 0.27735719 0.30924531 0.30018359 0.30855702 0.30190409\n",
            " 0.29593947 0.31245704 0.31199821 0.33608629 0.42119761 0.37875664\n",
            " 0.37210372 0.34790091 0.35753619 0.34549211 0.35742146 0.35271851\n",
            " 0.25923384 0.23273688 0.24076629 0.24351919 0.23774496 0.23334618\n",
            " 0.23180462 0.2314648  0.23175806 0.23246385 0.2334699  0.23470314\n",
            " 0.23611116 0.23765561 0.23930797 0.24104699 0.24285536 0.24471821\n",
            " 0.24662171 0.24855208 0.25049579 0.25243914 0.2543689  0.25627229\n",
            " 0.25813764 0.25995454 0.26171398]\n",
            "23 day output [[0.2634086]]\n",
            "24 day input [0.27047489 0.28022482 0.29628356 0.32381284 0.33539808 0.34801565\n",
            " 0.36246852 0.35891261 0.38885067 0.37348021 0.3558156  0.3606332\n",
            " 0.34067451 0.35042444 0.32266581 0.32312463 0.33883919 0.35638907\n",
            " 0.35191558 0.35960089 0.34629504 0.37095669 0.36682729 0.36625373\n",
            " 0.34709798 0.34985088 0.34033041 0.34583621 0.33344803 0.32553344\n",
            " 0.32564816 0.35455383 0.34262448 0.33723332 0.34273922 0.34755681\n",
            " 0.32736867 0.32840107 0.38323005 0.34044506 0.31578351 0.30328059\n",
            " 0.31532467 0.29582474 0.30614822 0.31337462 0.31738937 0.33780688\n",
            " 0.34583621 0.32105993 0.2922689  0.29525126 0.27598079 0.26749253\n",
            " 0.27735719 0.30924531 0.30018359 0.30855702 0.30190409 0.29593947\n",
            " 0.31245704 0.31199821 0.33608629 0.42119761 0.37875664 0.37210372\n",
            " 0.34790091 0.35753619 0.34549211 0.35742146 0.35271851 0.25923384\n",
            " 0.23273688 0.24076629 0.24351919 0.23774496 0.23334618 0.23180462\n",
            " 0.2314648  0.23175806 0.23246385 0.2334699  0.23470314 0.23611116\n",
            " 0.23765561 0.23930797 0.24104699 0.24285536 0.24471821 0.24662171\n",
            " 0.24855208 0.25049579 0.25243914 0.2543689  0.25627229 0.25813764\n",
            " 0.25995454 0.26171398 0.2634086 ]\n",
            "24 day output [[0.2650326]]\n",
            "25 day input [0.28022482 0.29628356 0.32381284 0.33539808 0.34801565 0.36246852\n",
            " 0.35891261 0.38885067 0.37348021 0.3558156  0.3606332  0.34067451\n",
            " 0.35042444 0.32266581 0.32312463 0.33883919 0.35638907 0.35191558\n",
            " 0.35960089 0.34629504 0.37095669 0.36682729 0.36625373 0.34709798\n",
            " 0.34985088 0.34033041 0.34583621 0.33344803 0.32553344 0.32564816\n",
            " 0.35455383 0.34262448 0.33723332 0.34273922 0.34755681 0.32736867\n",
            " 0.32840107 0.38323005 0.34044506 0.31578351 0.30328059 0.31532467\n",
            " 0.29582474 0.30614822 0.31337462 0.31738937 0.33780688 0.34583621\n",
            " 0.32105993 0.2922689  0.29525126 0.27598079 0.26749253 0.27735719\n",
            " 0.30924531 0.30018359 0.30855702 0.30190409 0.29593947 0.31245704\n",
            " 0.31199821 0.33608629 0.42119761 0.37875664 0.37210372 0.34790091\n",
            " 0.35753619 0.34549211 0.35742146 0.35271851 0.25923384 0.23273688\n",
            " 0.24076629 0.24351919 0.23774496 0.23334618 0.23180462 0.2314648\n",
            " 0.23175806 0.23246385 0.2334699  0.23470314 0.23611116 0.23765561\n",
            " 0.23930797 0.24104699 0.24285536 0.24471821 0.24662171 0.24855208\n",
            " 0.25049579 0.25243914 0.2543689  0.25627229 0.25813764 0.25995454\n",
            " 0.26171398 0.2634086  0.26503259]\n",
            "25 day output [[0.26658192]]\n",
            "26 day input [0.29628356 0.32381284 0.33539808 0.34801565 0.36246852 0.35891261\n",
            " 0.38885067 0.37348021 0.3558156  0.3606332  0.34067451 0.35042444\n",
            " 0.32266581 0.32312463 0.33883919 0.35638907 0.35191558 0.35960089\n",
            " 0.34629504 0.37095669 0.36682729 0.36625373 0.34709798 0.34985088\n",
            " 0.34033041 0.34583621 0.33344803 0.32553344 0.32564816 0.35455383\n",
            " 0.34262448 0.33723332 0.34273922 0.34755681 0.32736867 0.32840107\n",
            " 0.38323005 0.34044506 0.31578351 0.30328059 0.31532467 0.29582474\n",
            " 0.30614822 0.31337462 0.31738937 0.33780688 0.34583621 0.32105993\n",
            " 0.2922689  0.29525126 0.27598079 0.26749253 0.27735719 0.30924531\n",
            " 0.30018359 0.30855702 0.30190409 0.29593947 0.31245704 0.31199821\n",
            " 0.33608629 0.42119761 0.37875664 0.37210372 0.34790091 0.35753619\n",
            " 0.34549211 0.35742146 0.35271851 0.25923384 0.23273688 0.24076629\n",
            " 0.24351919 0.23774496 0.23334618 0.23180462 0.2314648  0.23175806\n",
            " 0.23246385 0.2334699  0.23470314 0.23611116 0.23765561 0.23930797\n",
            " 0.24104699 0.24285536 0.24471821 0.24662171 0.24855208 0.25049579\n",
            " 0.25243914 0.2543689  0.25627229 0.25813764 0.25995454 0.26171398\n",
            " 0.2634086  0.26503259 0.26658192]\n",
            "26 day output [[0.26805407]]\n",
            "27 day input [0.32381284 0.33539808 0.34801565 0.36246852 0.35891261 0.38885067\n",
            " 0.37348021 0.3558156  0.3606332  0.34067451 0.35042444 0.32266581\n",
            " 0.32312463 0.33883919 0.35638907 0.35191558 0.35960089 0.34629504\n",
            " 0.37095669 0.36682729 0.36625373 0.34709798 0.34985088 0.34033041\n",
            " 0.34583621 0.33344803 0.32553344 0.32564816 0.35455383 0.34262448\n",
            " 0.33723332 0.34273922 0.34755681 0.32736867 0.32840107 0.38323005\n",
            " 0.34044506 0.31578351 0.30328059 0.31532467 0.29582474 0.30614822\n",
            " 0.31337462 0.31738937 0.33780688 0.34583621 0.32105993 0.2922689\n",
            " 0.29525126 0.27598079 0.26749253 0.27735719 0.30924531 0.30018359\n",
            " 0.30855702 0.30190409 0.29593947 0.31245704 0.31199821 0.33608629\n",
            " 0.42119761 0.37875664 0.37210372 0.34790091 0.35753619 0.34549211\n",
            " 0.35742146 0.35271851 0.25923384 0.23273688 0.24076629 0.24351919\n",
            " 0.23774496 0.23334618 0.23180462 0.2314648  0.23175806 0.23246385\n",
            " 0.2334699  0.23470314 0.23611116 0.23765561 0.23930797 0.24104699\n",
            " 0.24285536 0.24471821 0.24662171 0.24855208 0.25049579 0.25243914\n",
            " 0.2543689  0.25627229 0.25813764 0.25995454 0.26171398 0.2634086\n",
            " 0.26503259 0.26658192 0.26805407]\n",
            "27 day output [[0.26944757]]\n",
            "28 day input [0.33539808 0.34801565 0.36246852 0.35891261 0.38885067 0.37348021\n",
            " 0.3558156  0.3606332  0.34067451 0.35042444 0.32266581 0.32312463\n",
            " 0.33883919 0.35638907 0.35191558 0.35960089 0.34629504 0.37095669\n",
            " 0.36682729 0.36625373 0.34709798 0.34985088 0.34033041 0.34583621\n",
            " 0.33344803 0.32553344 0.32564816 0.35455383 0.34262448 0.33723332\n",
            " 0.34273922 0.34755681 0.32736867 0.32840107 0.38323005 0.34044506\n",
            " 0.31578351 0.30328059 0.31532467 0.29582474 0.30614822 0.31337462\n",
            " 0.31738937 0.33780688 0.34583621 0.32105993 0.2922689  0.29525126\n",
            " 0.27598079 0.26749253 0.27735719 0.30924531 0.30018359 0.30855702\n",
            " 0.30190409 0.29593947 0.31245704 0.31199821 0.33608629 0.42119761\n",
            " 0.37875664 0.37210372 0.34790091 0.35753619 0.34549211 0.35742146\n",
            " 0.35271851 0.25923384 0.23273688 0.24076629 0.24351919 0.23774496\n",
            " 0.23334618 0.23180462 0.2314648  0.23175806 0.23246385 0.2334699\n",
            " 0.23470314 0.23611116 0.23765561 0.23930797 0.24104699 0.24285536\n",
            " 0.24471821 0.24662171 0.24855208 0.25049579 0.25243914 0.2543689\n",
            " 0.25627229 0.25813764 0.25995454 0.26171398 0.2634086  0.26503259\n",
            " 0.26658192 0.26805407 0.26944757]\n",
            "28 day output [[0.27076253]]\n",
            "29 day input [0.34801565 0.36246852 0.35891261 0.38885067 0.37348021 0.3558156\n",
            " 0.3606332  0.34067451 0.35042444 0.32266581 0.32312463 0.33883919\n",
            " 0.35638907 0.35191558 0.35960089 0.34629504 0.37095669 0.36682729\n",
            " 0.36625373 0.34709798 0.34985088 0.34033041 0.34583621 0.33344803\n",
            " 0.32553344 0.32564816 0.35455383 0.34262448 0.33723332 0.34273922\n",
            " 0.34755681 0.32736867 0.32840107 0.38323005 0.34044506 0.31578351\n",
            " 0.30328059 0.31532467 0.29582474 0.30614822 0.31337462 0.31738937\n",
            " 0.33780688 0.34583621 0.32105993 0.2922689  0.29525126 0.27598079\n",
            " 0.26749253 0.27735719 0.30924531 0.30018359 0.30855702 0.30190409\n",
            " 0.29593947 0.31245704 0.31199821 0.33608629 0.42119761 0.37875664\n",
            " 0.37210372 0.34790091 0.35753619 0.34549211 0.35742146 0.35271851\n",
            " 0.25923384 0.23273688 0.24076629 0.24351919 0.23774496 0.23334618\n",
            " 0.23180462 0.2314648  0.23175806 0.23246385 0.2334699  0.23470314\n",
            " 0.23611116 0.23765561 0.23930797 0.24104699 0.24285536 0.24471821\n",
            " 0.24662171 0.24855208 0.25049579 0.25243914 0.2543689  0.25627229\n",
            " 0.25813764 0.25995454 0.26171398 0.2634086  0.26503259 0.26658192\n",
            " 0.26805407 0.26944757 0.27076253]\n",
            "29 day output [[0.27199987]]\n",
            "[[0.23774495720863342], [0.23334617912769318], [0.23180462419986725], [0.23146480321884155], [0.23175805807113647], [0.23246385157108307], [0.2334699034690857], [0.23470313847064972], [0.23611116409301758], [0.2376556098461151], [0.2393079698085785], [0.2410469949245453], [0.24285535514354706], [0.24471820890903473], [0.24662171304225922], [0.2485520839691162], [0.2504957914352417], [0.25243914127349854], [0.2543689012527466], [0.2562722861766815], [0.25813764333724976], [0.2599545419216156], [0.26171398162841797], [0.2634086012840271], [0.2650325894355774], [0.2665819227695465], [0.2680540680885315], [0.26944756507873535], [0.27076253294944763], [0.27199986577033997]]\n"
          ],
          "name": "stdout"
        }
      ]
    },
    {
      "cell_type": "code",
      "metadata": {
        "id": "jvzXzSeITZLQ"
      },
      "source": [
        "day_prev=np.arange(1,101)\r\n",
        "day_pred=np.arange(101,131)"
      ],
      "execution_count": 90,
      "outputs": []
    },
    {
      "cell_type": "code",
      "metadata": {
        "colab": {
          "base_uri": "https://localhost:8080/"
        },
        "id": "QfDzh-0kTcfW",
        "outputId": "8b516661-7d55-4c73-b3f4-ab5622c17ffa"
      },
      "source": [
        "len(df)"
      ],
      "execution_count": 91,
      "outputs": [
        {
          "output_type": "execute_result",
          "data": {
            "text/plain": [
              "1259"
            ]
          },
          "metadata": {
            "tags": []
          },
          "execution_count": 91
        }
      ]
    },
    {
      "cell_type": "code",
      "metadata": {
        "colab": {
          "base_uri": "https://localhost:8080/",
          "height": 282
        },
        "id": "uIxtFCryTiXw",
        "outputId": "cb5e8b55-a31d-48aa-af52-e37c89a7c191"
      },
      "source": [
        "# visualising the predicted output\r\n",
        "plt.plot(day_prev,scaler.inverse_transform(df[1159:]))\r\n",
        "plt.plot(day_pred,scaler.inverse_transform(lst_output))"
      ],
      "execution_count": 92,
      "outputs": [
        {
          "output_type": "execute_result",
          "data": {
            "text/plain": [
              "[<matplotlib.lines.Line2D at 0x7f881a23c400>]"
            ]
          },
          "metadata": {
            "tags": []
          },
          "execution_count": 92
        },
        {
          "output_type": "display_data",
          "data": {
            "image/png": "[encoded data removed]",
            "text/plain": [
              "<Figure size 432x288 with 1 Axes>"
            ]
          },
          "metadata": {
            "tags": [],
            "needs_background": "light"
          }
        }
      ]
    },
    {
      "cell_type": "code",
      "metadata": {
        "colab": {
          "base_uri": "https://localhost:8080/",
          "height": 282
        },
        "id": "kcAOurLRTpeu",
        "outputId": "d93f3d20-d2aa-44b9-94f9-7dd440a449ab"
      },
      "source": [
        "df1=df.tolist()\r\n",
        "df1.extend(lst_output)\r\n",
        "plt.plot(df1[1000:])"
      ],
      "execution_count": 93,
      "outputs": [
        {
          "output_type": "execute_result",
          "data": {
            "text/plain": [
              "[<matplotlib.lines.Line2D at 0x7f88196b5240>]"
            ]
          },
          "metadata": {
            "tags": []
          },
          "execution_count": 93
        },
        {
          "output_type": "display_data",
          "data": {
            "image/png": "[encoded data removed]",
            "text/plain": [
              "<Figure size 432x288 with 1 Axes>"
            ]
          },
          "metadata": {
            "tags": [],
            "needs_background": "light"
          }
        }
      ]
    },
    {
      "cell_type": "code",
      "metadata": {
        "id": "XZrR4WlITurv"
      },
      "source": [
        "df1=scaler.inverse_transform(df1).tolist()"
      ],
      "execution_count": 94,
      "outputs": []
    },
    {
      "cell_type": "code",
      "metadata": {
        "colab": {
          "base_uri": "https://localhost:8080/",
          "height": 282
        },
        "id": "YhLW4_fFTvgz",
        "outputId": "ded4e70b-0869-43d0-a739-8b52284141e1"
      },
      "source": [
        "plt.plot(df1)"
      ],
      "execution_count": 95,
      "outputs": [
        {
          "output_type": "execute_result",
          "data": {
            "text/plain": [
              "[<matplotlib.lines.Line2D at 0x7f8819791a90>]"
            ]
          },
          "metadata": {
            "tags": []
          },
          "execution_count": 95
        },
        {
          "output_type": "display_data",
          "data": {
            "image/png": "[encoded data removed]",
            "text/plain": [
              "<Figure size 432x288 with 1 Axes>"
            ]
          },
          "metadata": {
            "tags": [],
            "needs_background": "light"
          }
        }
      ]
    },
    {
      "cell_type": "code",
      "metadata": {
        "id": "JoFM-pRiT3hS"
      },
      "source": [
        "df1=scaler.inverse_transform(df1)"
      ],
      "execution_count": 96,
      "outputs": []
    },
    {
      "cell_type": "code",
      "metadata": {
        "colab": {
          "base_uri": "https://localhost:8080/"
        },
        "id": "_aKz342lT7k7",
        "outputId": "4ceb59f0-c2dd-4148-cde3-accbba76047f"
      },
      "source": [
        "print(df1[1259:])"
      ],
      "execution_count": 97,
      "outputs": [
        {
          "output_type": "stream",
          "text": [
            "[[0.66223648]\n",
            " [0.66210025]\n",
            " [0.6620525 ]\n",
            " [0.66204198]\n",
            " [0.66205106]\n",
            " [0.66207292]\n",
            " [0.66210408]\n",
            " [0.66214227]\n",
            " [0.66218588]\n",
            " [0.66223371]\n",
            " [0.66228488]\n",
            " [0.66233874]\n",
            " [0.66239475]\n",
            " [0.66245244]\n",
            " [0.66251139]\n",
            " [0.66257118]\n",
            " [0.66263137]\n",
            " [0.66269156]\n",
            " [0.66275132]\n",
            " [0.66281027]\n",
            " [0.66286804]\n",
            " [0.66292431]\n",
            " [0.6629788 ]\n",
            " [0.66303129]\n",
            " [0.66308158]\n",
            " [0.66312956]\n",
            " [0.66317516]\n",
            " [0.66321831]\n",
            " [0.66325904]\n",
            " [0.66329736]]\n"
          ],
          "name": "stdout"
        }
      ]
    }
  ]
}